{
 "cells": [
  {
   "cell_type": "code",
   "execution_count": null,
   "id": "d49c7279",
   "metadata": {},
   "outputs": [],
   "source": [
    "1. Write a Python Program to Display Fibonacci Sequence Using Recursion?\n",
    "2. Write a Python Program to Find Factorial of Number Using Recursion?\n",
    "3. Write a Python Program to calculate your Body Mass Index?\n",
    "4. Write a Python Program to calculate the natural logarithm of any number?\n",
    "5. Write a Python Program for cube sum of first n natural numbers?"
   ]
  },
  {
   "cell_type": "code",
   "execution_count": 1,
   "id": "72e7a7fc",
   "metadata": {},
   "outputs": [
    {
     "name": "stdout",
     "output_type": "stream",
     "text": [
      "Fibonacci sequence:\n",
      "0\n",
      "1\n",
      "1\n",
      "2\n",
      "3\n",
      "5\n",
      "8\n",
      "13\n",
      "21\n",
      "34\n"
     ]
    }
   ],
   "source": [
    "# Python program to display the Fibonacci sequence\n",
    "\"\"\"A Fibonacci sequence is the integer sequence of 0, 1, 1, 2, 3, 5, 8....\n",
    "The first two terms are 0 and 1. All other terms are obtained by adding the preceding two terms. \n",
    "This means to say the nth term is the sum of (n-1)th and (n-2)th term.\"\"\"\n",
    "\n",
    "def recur_fibo(n):\n",
    "    if n <= 1:\n",
    "        return n\n",
    "    else:\n",
    "        return(recur_fibo(n-1) + recur_fibo(n-2))\n",
    "\n",
    "nterms = 10\n",
    "\n",
    "# check if the number of terms is valid\n",
    "if nterms <= 0:\n",
    "    print(\"Plese enter a positive integer\")\n",
    "else:\n",
    "    print(\"Fibonacci sequence:\")\n",
    "    for i in range(nterms):\n",
    "        print(recur_fibo(i))\n",
    "        "
   ]
  },
  {
   "cell_type": "code",
   "execution_count": 2,
   "id": "4eb4f203",
   "metadata": {},
   "outputs": [
    {
     "name": "stdout",
     "output_type": "stream",
     "text": [
      "The factorial of 7 is 5040\n"
     ]
    }
   ],
   "source": [
    "# Factorial of a number using recursion\n",
    "\n",
    "def recur_factorial(n):\n",
    "    if n == 1:\n",
    "        return n\n",
    "    else:\n",
    "        return n*recur_factorial(n-1)\n",
    "\n",
    "num = 7\n",
    "\n",
    "# check if the number is negative\n",
    "if num < 0:\n",
    "    print(\"Sorry, factorial does not exist for negative numbers\")\n",
    "elif num == 0:\n",
    "    print(\"The factorial of 0 is 1\")\n",
    "else:\n",
    "    print(\"The factorial of\", num, \"is\", recur_factorial(num))"
   ]
  },
  {
   "cell_type": "code",
   "execution_count": 33,
   "id": "bf02d83d",
   "metadata": {},
   "outputs": [
    {
     "name": "stdout",
     "output_type": "stream",
     "text": [
      "Input your height in feet.inches: 5.10\n",
      "Input your weight in Kilogram: 75\n",
      "Your body mass index is:  31.24\n"
     ]
    }
   ],
   "source": [
    "# Python Program to calculate your Body Mass Index\n",
    "import math\n",
    "def BMI():\n",
    "    height = float(input(\"Input your height in feet.inches: \"))\n",
    "    whole = int(str(height).split('.')[0])\n",
    "    fraction = float(str(height).split('.')[1]) \n",
    "    \n",
    "    ht_in_meters = ( (whole+(fraction*0.08333333))/3.2808399  )\n",
    "  \n",
    "    weight = float(input(\"Input your weight in Kilogram: \"))\n",
    "    \n",
    "    print(\"Your body mass index is: \", round(weight / pow(ht_in_meters,2), 2))\n",
    "BMI()"
   ]
  },
  {
   "cell_type": "code",
   "execution_count": 32,
   "id": "4a2f0ef5",
   "metadata": {},
   "outputs": [
    {
     "data": {
      "text/plain": [
       "1.77799998713744"
      ]
     },
     "execution_count": 32,
     "metadata": {},
     "output_type": "execute_result"
    }
   ],
   "source": [
    "(5+10*0.08333333)/3.2808399"
   ]
  },
  {
   "cell_type": "code",
   "execution_count": 41,
   "id": "6c141211",
   "metadata": {},
   "outputs": [
    {
     "name": "stdout",
     "output_type": "stream",
     "text": [
      "Natural log of (10) : 2.302585092994046\n"
     ]
    }
   ],
   "source": [
    "# Python Program to calculate the natural logarithm of any number\n",
    "import math   # This will import math module\n",
    "def natural_log(num):\n",
    "    print (f\"Natural log of ({num}) : {math.log(num)}\")\n",
    "natural_log(10)"
   ]
  },
  {
   "cell_type": "code",
   "execution_count": 42,
   "id": "29e07bdc",
   "metadata": {},
   "outputs": [
    {
     "name": "stdout",
     "output_type": "stream",
     "text": [
      "225\n"
     ]
    }
   ],
   "source": [
    "# Python Program for cube sum of first n natural numbers\n",
    "\n",
    "n=5\n",
    "s=0\n",
    "# iterating loop up to given number n\n",
    "for i in range(1,n+1):\n",
    "    # adding cube sum using pow() function\n",
    "    s=s+pow(i,3)\n",
    "print(s)   \n",
    " "
   ]
  },
  {
   "cell_type": "code",
   "execution_count": null,
   "id": "f3abe444",
   "metadata": {},
   "outputs": [],
   "source": []
  }
 ],
 "metadata": {
  "kernelspec": {
   "display_name": "Python 3 (ipykernel)",
   "language": "python",
   "name": "python3"
  },
  "language_info": {
   "codemirror_mode": {
    "name": "ipython",
    "version": 3
   },
   "file_extension": ".py",
   "mimetype": "text/x-python",
   "name": "python",
   "nbconvert_exporter": "python",
   "pygments_lexer": "ipython3",
   "version": "3.9.12"
  }
 },
 "nbformat": 4,
 "nbformat_minor": 5
}
