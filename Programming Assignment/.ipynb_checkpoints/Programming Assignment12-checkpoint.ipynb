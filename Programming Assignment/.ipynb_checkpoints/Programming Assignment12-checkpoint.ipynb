{
 "cells": [
  {
   "cell_type": "code",
   "execution_count": null,
   "id": "0a98927a",
   "metadata": {},
   "outputs": [],
   "source": [
    "1. Write a Python program to Extract Unique values dictionary values?\n",
    "2. Write a Python program to find the sum of all items in a dictionary?\n",
    "3. Write a Python program to Merging two Dictionaries?\n",
    "4. Write a Python program to convert key-values list to flat dictionary?\n",
    "5. Write a Python program to insertion at the beginning in OrderedDict?\n",
    "6. Write a Python program to check order of character in string using OrderedDict()?\n",
    "7. Write a Python program to sort Python Dictionaries by Key or Value?"
   ]
  },
  {
   "cell_type": "code",
   "execution_count": 3,
   "id": "a8c33e38",
   "metadata": {},
   "outputs": [
    {
     "name": "stdout",
     "output_type": "stream",
     "text": [
      "{1: 'Test', 2: 'this', 3: 'Values', 4: 'for', 5: 'duplicay', 6: 'of', 7: 'Values', 8: 'if', 9: 'present', 10: 'extract', 11: 'Values'}\n",
      "unique_values in the dictionary: {'of', 'for', 'this', 'duplicay', 'Test', 'Values', 'if', 'present', 'extract'}\n"
     ]
    }
   ],
   "source": [
    "def uniqueDicValues(dic:dict):\n",
    "    unique_values=set([values for values in dic.values()])\n",
    "    return unique_values\n",
    "test_dic = {1:\"Test\", 2:\"this\", 3:\"Values\", 4:\"for\", 5:\"duplicay\", 6:\"of\", 7:\"Values\", \n",
    "            8: \"if\", 9:\"present\", 10:\"extract\", 11:\"Values\"}\n",
    "unique_values = uniqueDicValues(test_dic)\n",
    "print(test_dic)\n",
    "print(f\"unique_values in the dictionary: {unique_values}\")"
   ]
  },
  {
   "cell_type": "code",
   "execution_count": 6,
   "id": "62e9d336",
   "metadata": {},
   "outputs": [
    {
     "name": "stdout",
     "output_type": "stream",
     "text": [
      "Sum : 600\n"
     ]
    }
   ],
   "source": [
    "def returnSum(dict):\n",
    "    return sum(dict.values())\n",
    "\n",
    "dic_ = {'a': 100, 'b': 200, 'c': 300}\n",
    "print(\"Sum :\", returnSum(dic_))"
   ]
  },
  {
   "cell_type": "code",
   "execution_count": 27,
   "id": "5e9ce306",
   "metadata": {},
   "outputs": [
    {
     "name": "stdout",
     "output_type": "stream",
     "text": [
      "{1: 'Test', 2: 'this', 3: 'Values', 4: 'for', 5: 'duplicay', 6: 'of', 7: 'Values', 8: 'if', 9: 'present', 10: 'extract', 11: 'Values', 'a': 100, 'b': 200, 'c': 300}\n",
      "{1: 'Test', 2: 'this', 3: 'Values', 4: 'for', 5: 'duplicay', 6: 'of', 7: 'Values', 8: 'if', 9: 'present', 10: 'extract', 11: 'Values', 'a': 100, 'b': 200, 'c': 300}\n",
      "{1: 'Test', 2: 'this', 3: 'Values', 4: 'for', 5: 'duplicay', 6: 'of', 7: 'Values', 8: 'if', 9: 'present', 10: 'extract', 11: 'Values', 'a': 100, 'b': 200, 'c': 300}\n"
     ]
    }
   ],
   "source": [
    "# Write a Python program to Merging two Dictionaries?\n",
    "def mergeDict(dic1,dic2):\n",
    "    print(dic1 | dic2)\n",
    "    print({**dic1,**dic2})\n",
    "    dic3 =dic1.copy()\n",
    "    dic3.update(dic2)\n",
    "    print(dic3)\n",
    "mergeDict(test_dic,dic_)\n",
    "    "
   ]
  },
  {
   "cell_type": "code",
   "execution_count": 92,
   "id": "66bf0032",
   "metadata": {},
   "outputs": [
    {
     "name": "stdout",
     "output_type": "stream",
     "text": [
      "The original dictionary is : {'month': [1, 2, 3], 'name': ['Jan', 'Feb', 'March']}\n",
      "Flattened dictionary : {1: 'Jan', 2: 'Feb', 3: 'March'}\n"
     ]
    }
   ],
   "source": [
    "# 4. Write a Python program to convert key-values list to flat dictionary?\n",
    "\n",
    "from itertools import product\n",
    " \n",
    "test_dict = {'month' : [1, 2, 3],\n",
    "             'name' : ['Jan', 'Feb', 'March']}\n",
    "print(\"The original dictionary is : \" + str(test_dict))\n",
    "\n",
    "a,b =test_dict.values()\n",
    "months = {}\n",
    "for i in range(len(a)):\n",
    "    months[a[i]] = b[i]\n",
    "\n",
    "print(\"Flattened dictionary : \" + str(months))"
   ]
  },
  {
   "cell_type": "code",
   "execution_count": 94,
   "id": "e395a47c",
   "metadata": {},
   "outputs": [
    {
     "name": "stdout",
     "output_type": "stream",
     "text": [
      "OrderedDict([('a', 1), ('b', 2), ('c', 3), ('d', 4)])\n",
      "OrderedDict([('d', 4), ('a', 1), ('b', 2), ('c', 3)])\n"
     ]
    }
   ],
   "source": [
    "# 5. Write a Python program to insertion at the beginning in OrderedDict?\n",
    "from collections import OrderedDict\n",
    "od = OrderedDict()\n",
    "od['a'] =1\n",
    "od['b'] =2\n",
    "od['c'] =3\n",
    "od['d'] =4\n",
    "print(od)\n",
    "\n",
    "od.move_to_end(\"d\",last=False) \n",
    "print(od)"
   ]
  },
  {
   "cell_type": "code",
   "execution_count": 95,
   "id": "d07dc1a3",
   "metadata": {},
   "outputs": [
    {
     "name": "stdout",
     "output_type": "stream",
     "text": [
      "OrderedDict([('D', 10), ('d', 4), ('a', 1), ('b', 2), ('c', 3)])\n"
     ]
    }
   ],
   "source": [
    "insertitem =OrderedDict([(\"D\",10)])\n",
    "final = OrderedDict(list(insertitem.items())+list(od.items()))\n",
    "print(final)"
   ]
  },
  {
   "cell_type": "code",
   "execution_count": 125,
   "id": "61e6dd8a",
   "metadata": {},
   "outputs": [
    {
     "name": "stdout",
     "output_type": "stream",
     "text": [
      "OrderedDict([('T', None), ('e', None), ('c', None), ('h', None), ('i', None), ('r', None), ('o', None), ('k', None)])\n",
      "T\n",
      "e\n",
      "c\n",
      "h\n",
      "i\n",
      "r\n",
      "o\n",
      "7\n",
      "True\n"
     ]
    }
   ],
   "source": [
    "# 6. Write a Python program to check order of character in string using OrderedDict()?\n",
    "from collections import OrderedDict\n",
    "\n",
    "def chechOrder(input,pattern):\n",
    "    dict = OrderedDict.fromkeys(input)\n",
    "    print(dict)\n",
    "    ptrlen = 0\n",
    "    for key,value in dict.items():\n",
    "        if key== pattern[ptrlen]:\n",
    "            print(pattern[ptrlen])\n",
    "            ptrlen =ptrlen+1\n",
    "            \n",
    "        if (ptrlen == len(pattern)):\n",
    "            print(len(pattern))\n",
    "            return True\n",
    "    return False\n",
    "input = \"Techirock\"\n",
    "pattern = \"Techiro\"\n",
    "print(chechOrder(input,pattern))"
   ]
  },
  {
   "cell_type": "code",
   "execution_count": 139,
   "id": "d1cac8f5",
   "metadata": {},
   "outputs": [
    {
     "name": "stdout",
     "output_type": "stream",
     "text": [
      "[('yash', '02'), ('rajnish', '09'), ('ravi', '10'), ('sanjeev', '15'), ('suraj', '32')]\n"
     ]
    }
   ],
   "source": [
    "# 7. Write a Python program to sort Python Dictionaries by Key or Value?\n",
    "from collections import OrderedDict\n",
    "od  = {'ravi': '10', 'rajnish': '09',\n",
    "        'sanjeev': '15', 'yash': '02', 'suraj': '32'}\n",
    "od = OrderedDict(sorted(od.items()))\n",
    "print(sorted(od.items(), key = lambda kv: (kv[1],kv[0])))"
   ]
  },
  {
   "cell_type": "code",
   "execution_count": 159,
   "id": "eaab2fd2",
   "metadata": {},
   "outputs": [
    {
     "name": "stdout",
     "output_type": "stream",
     "text": [
      "Sorted by Key [('rajnish', '09'), ('ravi', '10'), ('sanjeev', '15'), ('suraj', '32'), ('yash', '02')]\n"
     ]
    }
   ],
   "source": [
    "def sortValuesOrKeys(by):\n",
    "    dic = {'ravi': '10', 'rajnish': '09',\n",
    "        'sanjeev': '15', 'yash': '02', 'suraj': '32'}\n",
    "    sortby = by\n",
    "    if sortby== 'bykey':\n",
    "        print(\"Sorted by Key\", sorted(dic.items()))\n",
    "    else:\n",
    "        print(sorted(dic.items(), key= lambda dicval: (dicval[1],dicval[0])))\n",
    "\n",
    "sortValuesOrKeys('bykey')"
   ]
  }
 ],
 "metadata": {
  "kernelspec": {
   "display_name": "Python 3 (ipykernel)",
   "language": "python",
   "name": "python3"
  },
  "language_info": {
   "codemirror_mode": {
    "name": "ipython",
    "version": 3
   },
   "file_extension": ".py",
   "mimetype": "text/x-python",
   "name": "python",
   "nbconvert_exporter": "python",
   "pygments_lexer": "ipython3",
   "version": "3.9.12"
  }
 },
 "nbformat": 4,
 "nbformat_minor": 5
}
