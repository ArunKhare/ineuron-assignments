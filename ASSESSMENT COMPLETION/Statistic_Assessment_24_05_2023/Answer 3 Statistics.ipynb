{
 "cells": [
  {
   "cell_type": "code",
   "execution_count": 1,
   "metadata": {},
   "outputs": [],
   "source": [
    "import pandas as pd\n",
    "import numpy as np\n",
    "import matplotlib_inline\n",
    "import matplotlib.pyplot as plt"
   ]
  },
  {
   "cell_type": "code",
   "execution_count": 4,
   "metadata": {},
   "outputs": [
    {
     "name": "stdout",
     "output_type": "stream",
     "text": [
      "mean_after : 128.36, mean_after :133.91\n"
     ]
    }
   ],
   "source": [
    "data = pd.read_csv(r\"C:\\Users\\arunk\\Assignments\\ASSESSMENT COMPLETION\\Statistic_Assessment_24_05_2023\\data.csv\")\n",
    "shape=data.shape\n",
    "mean_before = np.mean(data[' Blood Pressure Before (mmHg)'])\n",
    "mean_after = np.mean(data[' Blood Pressure After (mmHg)'])\n",
    "print(f\"mean_after : {mean_after}, mean_after :{mean_before}\")\n"
   ]
  },
  {
   "cell_type": "code",
   "execution_count": 6,
   "metadata": {},
   "outputs": [
    {
     "data": {
      "text/plain": [
       "Index(['Patient ID', ' Blood Pressure Before (mmHg)',\n",
       "       ' Blood Pressure After (mmHg)'],\n",
       "      dtype='object')"
      ]
     },
     "execution_count": 6,
     "metadata": {},
     "output_type": "execute_result"
    }
   ],
   "source": [
    "data.columns"
   ]
  },
  {
   "cell_type": "code",
   "execution_count": 14,
   "metadata": {},
   "outputs": [],
   "source": [
    "# A. Measure dispersion\n",
    "data[\"range_before\"] = data[' Blood Pressure Before (mmHg)'] - data[' Blood Pressure After (mmHg)']\n",
    "mean_absolute_deviation_before = sum(abs(data[' Blood Pressure Before (mmHg)'] - mean_before)) / shape[0]\n",
    "mean_absolute_deviation_after = sum(abs(data[' Blood Pressure After (mmHg)'] - mean_after)) / shape[0]\n",
    "sum_squared_deviation_before = sum((data[' Blood Pressure Before (mmHg)'] - mean_before)**2)\n",
    "sum_squared_deviation_after = sum((data[' Blood Pressure After (mmHg)'] - mean_after)**2)"
   ]
  },
  {
   "cell_type": "code",
   "execution_count": 15,
   "metadata": {},
   "outputs": [
    {
     "name": "stdout",
     "output_type": "stream",
     "text": [
      "range_before : 21 , range_after : 23\n",
      "mean absolute deviation before:5.7118, mean absolute deviationafter: 5.9 \n",
      "Variance_before: , 43.53727272727271, sd_bfore:6.598278012275075, Variance_after 47.4448484848485, sd_after6.8880221025232276\n"
     ]
    }
   ],
   "source": [
    "# A. Measure dispersion\n",
    "\n",
    "variance_before = sum_squared_deviation_before/(shape[0]-1)\n",
    "sd_before = np.sqrt(variance_before)\n",
    "variance_after = sum_squared_deviation_after/(shape[0]-1)\n",
    "sd_after = np.sqrt(variance_after)\n",
    "max_before = max(data[\" Blood Pressure Before (mmHg)\"])\n",
    "min_before = min(data[\" Blood Pressure Before (mmHg)\"])\n",
    "max_after = max(data[' Blood Pressure After (mmHg)'])\n",
    "min_after = min(data[\" Blood Pressure After (mmHg)\"])\n",
    "range_before = max_after-min_before\n",
    "range_after = max_after-min_after\n",
    "print(f'range_before : {range_before} , range_after : {range_after}')\n",
    "print(f'mean absolute deviation before:{mean_absolute_deviation_before}, mean absolute deviationafter: {mean_absolute_deviation_after} ')\n",
    "print(f\"Variance_before: , {variance_before}, sd_bfore:{sd_before}, Variance_after {variance_after}, sd_after{sd_after}\")\n"
   ]
  },
  {
   "cell_type": "code",
   "execution_count": 17,
   "metadata": {},
   "outputs": [
    {
     "name": "stdout",
     "output_type": "stream",
     "text": [
      "Lower_bound_before : 132.6167375095941Upper_bound_before : 135.2032624904059\n",
      "Lower_bound_after : 127.00994766790546,Upper_bound_after : 129.71005233209456\n"
     ]
    }
   ],
   "source": [
    "\"\"\"interpretation \n",
    "The mean absolute deviation (MAD) is a measure of theaverage distance between each data point and the mean. Inthis case, the mean absolute deviation before isapproximately 5.7118, and the mean absolute deviation afteris approximately 5.9.\n",
    "The MAD indicates the average amount of deviation or spreadin the data from the mean value. A higher MAD suggests ahigher variability or dispersion in the data points. Inthis case, both before and after measurements have asimilar MAD, indicating a similar level of dispersion inthe data.\n",
    "The variance and standard deviation provide additionalmeasures of the spread of the data. The variance before isapproximately 43.5373, with a standard deviation ofapproximately 6.5983. The variance after is approximately47.4448, with a standard deviation of approximately 6.8880.\n",
    "The variance quantifies the average squared deviation fromthe mean, while the standard deviation is the square rootof the variance and provides a measure of the averagedeviation from the mean. In this case, both before andafter measurements have similar variances and standarddeviations, indicating a similar level of dispersion orspread in the data.\n",
    "Overall, these measures of dispersion provide insights intothe spread or variability of the blood pressuremeasurements before and after.\n",
    "\"\"\""
   ]
  },
  {
   "cell_type": "code",
   "execution_count": 18,
   "metadata": {},
   "outputs": [
    {
     "name": "stdout",
     "output_type": "stream",
     "text": [
      "Lower_bound_before : 132.6167375095941Upper_bound_before : 135.2032624904059\n",
      "Lower_bound_after : 127.00994766790546,Upper_bound_after : 129.71005233209456\n"
     ]
    }
   ],
   "source": [
    "# b. Calculate mean and 5% confidence interval and plot itin a graph\n",
    "    # critical_value = 0.05/2 = 1- 0.025 = P_value = AUC =0.975 = Z_Score = 1.96( from Z table)\n",
    "    # lower_bound = mean-(\"cirtical value\"* sd/sqrt(n))\n",
    "    # upper_bound = mean+(\"cirtical value\"* sd/sqrt(n))\n",
    "critical_value  = 1.96\n",
    "lower_bound_before = mean_before - (1.96 * sd_before/np.sqrt(shape[0]))\n",
    "upper_bound_before = mean_before + (1.96 * sd_before/np.sqrt(shape[0]))\n",
    "print(f\"Lower_bound_before : {lower_bound_before}Upper_bound_before : {upper_bound_before}\")\n",
    "lower_bound_after = mean_after - (1.96 * sd_after/np.sqrt(shape[0]))\n",
    "upper_bound_after = mean_after + (1.96 * sd_after/np.sqrt(shape[0]))\n",
    "print(f\"Lower_bound_after : {lower_bound_after},Upper_bound_after : {upper_bound_after}\")\n"
   ]
  },
  {
   "cell_type": "code",
   "execution_count": 20,
   "metadata": {},
   "outputs": [
    {
     "data": {
      "text/plain": [
       "<function matplotlib.pyplot.show(close=None, block=None)>"
      ]
     },
     "execution_count": 20,
     "metadata": {},
     "output_type": "execute_result"
    },
    {
     "data": {
      "image/png": "[encoded data removed]",
      "text/plain": [
       "<Figure size 576x432 with 1 Axes>"
      ]
     },
     "metadata": {
      "needs_background": "light"
     },
     "output_type": "display_data"
    }
   ],
   "source": [
    "plt.figure(figsize=(8, 6))\n",
    "plt.errorbar(0, mean_before, yerr=(upper_bound_before - mean_before), fmt='o', label='Mean', color='blue')\n",
    "plt.axhline(y=mean_before, color='blue', linestyle='--', label='Mean')\n",
    "plt.axhline(y=lower_bound_before, color ='green', linestyle='--',label='Lower Bound (5% CI)')\n",
    "plt.axhline(y=upper_bound_before, color ='green', linestyle='--',label='Upper Bound (5% CI)')\n",
    "plt.xticks(range(1, shape[0]+1), data['Patient ID'])\n",
    "plt.xlabel(\"Patient ID\")\n",
    "plt.ylabel(\"Blood Pressure Before(mmHg)\")\n",
    "plt.title(\"Mean and 5% Confidence Interval\")\n",
    "plt.legend()\n",
    "plt.show"
   ]
  },
  {
   "cell_type": "code",
   "execution_count": 21,
   "metadata": {},
   "outputs": [
    {
     "name": "stdout",
     "output_type": "stream",
     "text": [
      " correlation coefficient : 0.9779485966556019 ,P_ value 1.8097381433068541e-68\n",
      "t_value : 46.35573256849139\n"
     ]
    },
    {
     "data": {
      "text/plain": [
       "' interpretation \\nBased on the calculated correlation coefficient of 0.9779, it indicates a strong positive correlation betweenthe \"Blood Pressure Before\" and \"Blood Pressure After\" measurements. \\nThe p-value of 1.8097e-68 indicates that the correlation coefficient is statistically significant at the 1%level of significance. This means that the observed correlation is highly unlikely to occur by chance, providingevidence to reject the null hypothesis of no correlation.\\nThe calculated t-value of 46.3557 indicates the strength of the correlation and is used to assess thesignificance of the correlation coefficient. A large absolute t-value suggests a stronger correlation, and inthis case, the large t-value supports the significant correlation observed.\\n'"
      ]
     },
     "execution_count": 21,
     "metadata": {},
     "output_type": "execute_result"
    }
   ],
   "source": [
    "from scipy.stats import pearsonr\n",
    "r, p_value = pearsonr(data[' Blood Pressure Before (mmHg)'], data[' Blood Pressure After (mmHg)'])\n",
    "t_value = r * np.sqrt((shape[0] - 2) / (1 - r**2))\n",
    "print(f\" correlation coefficient : {r} ,P_ value { p_value}\")\n",
    "print(f\"t_value : {t_value}\" )\n",
    "\"\"\" interpretation \n",
    "Based on the calculated correlation coefficient of 0.9779, it indicates a strong positive correlation betweenthe \"Blood Pressure Before\" and \"Blood Pressure After\" measurements. \n",
    "The p-value of 1.8097e-68 indicates that the correlation coefficient is statistically significant at the 1%level of significance. This means that the observed correlation is highly unlikely to occur by chance, providingevidence to reject the null hypothesis of no correlation.\n",
    "The calculated t-value of 46.3557 indicates the strength of the correlation and is used to assess thesignificance of the correlation coefficient. A large absolute t-value suggests a stronger correlation, and inthis case, the large t-value supports the significant correlation observed.\n",
    "\"\"\""
   ]
  },
  {
   "cell_type": "code",
   "execution_count": null,
   "metadata": {},
   "outputs": [],
   "source": []
  }
 ],
 "metadata": {
  "kernelspec": {
   "display_name": "base",
   "language": "python",
   "name": "python3"
  },
  "language_info": {
   "codemirror_mode": {
    "name": "ipython",
    "version": 3
   },
   "file_extension": ".py",
   "mimetype": "text/x-python",
   "name": "python",
   "nbconvert_exporter": "python",
   "pygments_lexer": "ipython3",
   "version": "3.9.12"
  },
  "orig_nbformat": 4
 },
 "nbformat": 4,
 "nbformat_minor": 2
}
