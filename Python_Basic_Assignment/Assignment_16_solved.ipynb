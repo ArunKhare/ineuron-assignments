{
 "cells": [
  {
   "cell_type": "markdown",
   "id": "6423edd4",
   "metadata": {},
   "source": [
    "1. Create a list called years_list, starting with the year of your birth, and each year thereafter until\n",
    "the year of your fifth birthday. For example, if you were born in 1980. the list would be years_list =\n",
    "[1980, 1981, 1982, 1983, 1984, 1985].\n"
   ]
  },
  {
   "cell_type": "code",
   "execution_count": 3,
   "id": "aed008d3",
   "metadata": {},
   "outputs": [
    {
     "data": {
      "text/plain": [
       "[1978, 1979, 1980, 1981, 1982, 1983]"
      ]
     },
     "execution_count": 3,
     "metadata": {},
     "output_type": "execute_result"
    }
   ],
   "source": [
    "years_list = [y for y in range(1978, 1978+6)]\n",
    "years_list"
   ]
  },
  {
   "cell_type": "markdown",
   "id": "70f08277",
   "metadata": {},
   "source": [
    "2. In which year in years_list was your third birthday? Remember, you were 0 years of age for your\n",
    "first year.\n"
   ]
  },
  {
   "cell_type": "code",
   "execution_count": 6,
   "id": "38b2ad68",
   "metadata": {},
   "outputs": [
    {
     "data": {
      "text/plain": [
       "1981"
      ]
     },
     "execution_count": 6,
     "metadata": {},
     "output_type": "execute_result"
    }
   ],
   "source": [
    "years_list[3]"
   ]
  },
  {
   "cell_type": "markdown",
   "id": "377c9e5a",
   "metadata": {},
   "source": [
    "3.In the years list, which year were you the oldest?"
   ]
  },
  {
   "cell_type": "code",
   "execution_count": 17,
   "id": "ff9cbaae",
   "metadata": {},
   "outputs": [
    {
     "data": {
      "text/plain": [
       "1983"
      ]
     },
     "execution_count": 17,
     "metadata": {},
     "output_type": "execute_result"
    }
   ],
   "source": [
    "years_list[-1]\n",
    "max(years_list)"
   ]
  },
  {
   "cell_type": "markdown",
   "id": "e9aaf9ea",
   "metadata": {},
   "source": [
    "4. Make a list called things with these three strings as elements: &quot;mozzarella&quot;, &quot;cinderella&quot;,\n",
    "&quot;salmonella&quot;."
   ]
  },
  {
   "cell_type": "code",
   "execution_count": 20,
   "id": "31dfac05",
   "metadata": {},
   "outputs": [],
   "source": [
    "things = (\"mozzarella\", \"cinderella\", \"salmonella\")\n",
    "things= list(things)"
   ]
  },
  {
   "cell_type": "markdown",
   "id": "ffa668ef",
   "metadata": {},
   "source": [
    "5. Capitalize the element in things that refers to a person and then print the list. Did it change the\n",
    "element in the list?"
   ]
  },
  {
   "cell_type": "code",
   "execution_count": 21,
   "id": "22acf02b",
   "metadata": {},
   "outputs": [
    {
     "name": "stdout",
     "output_type": "stream",
     "text": [
      "['mozzarella', 'cinderella', 'salmonella']\n"
     ]
    }
   ],
   "source": [
    "for i in things:\n",
    "    i.capitalize()\n",
    "print(things)\n",
    "#doesn't change the elements in list"
   ]
  },
  {
   "cell_type": "markdown",
   "id": "2c7fb009",
   "metadata": {},
   "source": [
    "6. Make a surprise list with the elements &quot;Groucho,&quot; &quot;Chico,&quot; and &quot;Harpo.&quot;"
   ]
  },
  {
   "cell_type": "code",
   "execution_count": 25,
   "id": "e3bbf172",
   "metadata": {},
   "outputs": [
    {
     "data": {
      "text/plain": [
       "['Groucho', 'Chico', 'Harpo']"
      ]
     },
     "execution_count": 25,
     "metadata": {},
     "output_type": "execute_result"
    }
   ],
   "source": [
    "surprise = list(( \"Groucho\", \"Chico\",\"Harpo\"))\n",
    "surprise"
   ]
  },
  {
   "cell_type": "markdown",
   "id": "98919a32",
   "metadata": {},
   "source": [
    "7. Lowercase the last element of the surprise list, reverse it, and then capitalize it."
   ]
  },
  {
   "cell_type": "code",
   "execution_count": 33,
   "id": "f2319306",
   "metadata": {},
   "outputs": [
    {
     "name": "stdout",
     "output_type": "stream",
     "text": [
      "harpo\n",
      "opraH\n",
      "Harpo\n"
     ]
    }
   ],
   "source": [
    "print (surprise[-1].lower())\n",
    "print (surprise[-1][::-1])\n",
    "print (surprise[-1].capitalize())"
   ]
  },
  {
   "cell_type": "markdown",
   "id": "d3294d3d",
   "metadata": {},
   "source": [
    "8. Make an English-to-French dictionary called e2f and print it. Here are your starter words: dog is\n",
    "chien, cat is chat, and walrus is morse."
   ]
  },
  {
   "cell_type": "code",
   "execution_count": 35,
   "id": "6ea80170",
   "metadata": {},
   "outputs": [],
   "source": [
    "e2f = {\"dog\":\"chien\", \"cat\":\"chat\", \"wairus\":\"morse\"}"
   ]
  },
  {
   "cell_type": "markdown",
   "id": "b61b022f",
   "metadata": {},
   "source": [
    "9. Write the French word for walrus in your three-word dictionary e2f."
   ]
  },
  {
   "cell_type": "code",
   "execution_count": 36,
   "id": "1811c45d",
   "metadata": {},
   "outputs": [
    {
     "data": {
      "text/plain": [
       "'morse'"
      ]
     },
     "execution_count": 36,
     "metadata": {},
     "output_type": "execute_result"
    }
   ],
   "source": [
    "e2f[\"wairus\"]"
   ]
  },
  {
   "cell_type": "markdown",
   "id": "97919a4d",
   "metadata": {},
   "source": [
    "10. Make a French-to-English dictionary called f2e from e2f. Use the items method."
   ]
  },
  {
   "cell_type": "code",
   "execution_count": 58,
   "id": "dd76dd88",
   "metadata": {},
   "outputs": [
    {
     "data": {
      "text/plain": [
       "{'chien': 'dog', 'chat': 'cat', 'morse': 'wairus'}"
      ]
     },
     "execution_count": 58,
     "metadata": {},
     "output_type": "execute_result"
    }
   ],
   "source": [
    "f2e = dict((key,value) for value, key in f2e.items())\n",
    "f2e"
   ]
  },
  {
   "cell_type": "markdown",
   "id": "1afa5889",
   "metadata": {},
   "source": [
    "11. Print the English version of the French word chien using f2e."
   ]
  },
  {
   "cell_type": "code",
   "execution_count": 59,
   "id": "74d6ce97",
   "metadata": {},
   "outputs": [
    {
     "data": {
      "text/plain": [
       "'dog'"
      ]
     },
     "execution_count": 59,
     "metadata": {},
     "output_type": "execute_result"
    }
   ],
   "source": [
    "f2e[\"chien\"]"
   ]
  },
  {
   "cell_type": "markdown",
   "id": "35fb4598",
   "metadata": {},
   "source": [
    "12. Make and print a set of English words from the keys in e2f."
   ]
  },
  {
   "cell_type": "code",
   "execution_count": 61,
   "id": "1fdf643a",
   "metadata": {},
   "outputs": [
    {
     "data": {
      "text/plain": [
       "dict_keys(['dog', 'cat', 'wairus'])"
      ]
     },
     "execution_count": 61,
     "metadata": {},
     "output_type": "execute_result"
    }
   ],
   "source": [
    "e2f.keys()"
   ]
  },
  {
   "cell_type": "markdown",
   "id": "c97e4531",
   "metadata": {},
   "source": [
    "13. Make a multilevel dictionary called life. Use these strings for the topmost keys: &#39;animals&#39;, &#39;plants&#39;,\n",
    "and &#39;other&#39;. Make the &#39;animals&#39; key refer to another dictionary with the keys &#39;cats&#39;, &#39;octopi&#39;, and\n",
    "&#39;emus&#39;. Make the &#39;cats&#39; key refer to a list of strings with the values &#39;Henri&#39;, &#39;Grumpy&#39;, and &#39;Lucy&#39;.\n",
    "Make all the other keys refer to empty dictionaries."
   ]
  },
  {
   "cell_type": "code",
   "execution_count": 65,
   "id": "53d50909",
   "metadata": {},
   "outputs": [
    {
     "data": {
      "text/plain": [
       "{'animals': {'cats': ['Henri', 'Grumpy', 'Lucy']},\n",
       " 'octopi': '',\n",
       " 'emus': '',\n",
       " 'plants': '',\n",
       " 'other': ''}"
      ]
     },
     "execution_count": 65,
     "metadata": {},
     "output_type": "execute_result"
    }
   ],
   "source": [
    "life ={\"animals\":{\"cats\":[ 'Henri', 'Grumpy', 'Lucy']},\"octopi\":\"\",\"emus\":\"\", \"plants\":\"\", \"other\":\"\"}\n",
    "life"
   ]
  },
  {
   "cell_type": "markdown",
   "id": "0b0bba2c",
   "metadata": {},
   "source": [
    "Print the top-level keys of life."
   ]
  },
  {
   "cell_type": "code",
   "execution_count": 68,
   "id": "34faced6",
   "metadata": {},
   "outputs": [
    {
     "data": {
      "text/plain": [
       "dict_keys(['animals', 'octopi', 'emus', 'plants', 'other'])"
      ]
     },
     "execution_count": 68,
     "metadata": {},
     "output_type": "execute_result"
    }
   ],
   "source": [
    "life.keys()"
   ]
  },
  {
   "cell_type": "markdown",
   "id": "db6e4c46",
   "metadata": {},
   "source": [
    "15. Print the keys for life[&#39;animals&#39;]."
   ]
  },
  {
   "cell_type": "code",
   "execution_count": 71,
   "id": "4e05d875",
   "metadata": {},
   "outputs": [
    {
     "data": {
      "text/plain": [
       "dict_keys(['cats'])"
      ]
     },
     "execution_count": 71,
     "metadata": {},
     "output_type": "execute_result"
    }
   ],
   "source": [
    "life[\"animals\"].keys()"
   ]
  },
  {
   "cell_type": "markdown",
   "id": "4d9e4f51",
   "metadata": {},
   "source": [
    "16. Print the values for life[&#39;animals&#39;][&#39;cats&#39;]\n"
   ]
  },
  {
   "cell_type": "code",
   "execution_count": 73,
   "id": "149653f2",
   "metadata": {},
   "outputs": [
    {
     "data": {
      "text/plain": [
       "['Henri', 'Grumpy', 'Lucy']"
      ]
     },
     "execution_count": 73,
     "metadata": {},
     "output_type": "execute_result"
    }
   ],
   "source": [
    "life[\"animals\"][\"cats\"]"
   ]
  },
  {
   "cell_type": "code",
   "execution_count": null,
   "id": "dd139f93",
   "metadata": {},
   "outputs": [],
   "source": []
  }
 ],
 "metadata": {
  "kernelspec": {
   "display_name": "Python 3 (ipykernel)",
   "language": "python",
   "name": "python3"
  },
  "language_info": {
   "codemirror_mode": {
    "name": "ipython",
    "version": 3
   },
   "file_extension": ".py",
   "mimetype": "text/x-python",
   "name": "python",
   "nbconvert_exporter": "python",
   "pygments_lexer": "ipython3",
   "version": "3.9.7"
  }
 },
 "nbformat": 4,
 "nbformat_minor": 5
}
