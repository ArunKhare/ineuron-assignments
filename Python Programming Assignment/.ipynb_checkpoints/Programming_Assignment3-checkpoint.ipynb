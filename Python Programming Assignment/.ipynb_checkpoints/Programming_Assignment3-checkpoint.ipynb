{
 "cells": [
  {
   "cell_type": "code",
   "execution_count": null,
   "id": "ae9743f7",
   "metadata": {},
   "outputs": [],
   "source": [
    "1. Write a Python Program to Check if a Number is Positive, Negative or Zero?\n",
    "2. Write a Python Program to Check if a Number is Odd or Even?\n",
    "3. Write a Python Program to Check Leap Year?\n",
    "4. Write a Python Program to Check Prime Number?\n",
    "5. Write a Python Program to Print all Prime Numbers in an Interval of 1-10000?"
   ]
  },
  {
   "cell_type": "code",
   "execution_count": 1,
   "id": "d228ff33",
   "metadata": {},
   "outputs": [
    {
     "name": "stdout",
     "output_type": "stream",
     "text": [
      "Enter a number : 10\n",
      " Your number is greater than zero\n"
     ]
    }
   ],
   "source": [
    "def check_no():\n",
    "    num = float(input(\"Enter a number : \"))\n",
    "    if num > 0:\n",
    "        print(\" Your number is greater than zero\")\n",
    "    elif num ==0:\n",
    "        print(\" Your number is Zero\")\n",
    "    elif num<0:\n",
    "        print(\" Your number a Negative number\")\n",
    "    else: \n",
    "        print( \"You have not entered a number\")\n",
    "        \n",
    "check_no()"
   ]
  },
  {
   "cell_type": "code",
   "execution_count": 4,
   "id": "22bceed5",
   "metadata": {},
   "outputs": [
    {
     "name": "stdout",
     "output_type": "stream",
     "text": [
      "Enter a number : 1\n",
      "Number 1 is odd\n"
     ]
    }
   ],
   "source": [
    "def odd_even():\n",
    "    num = eval(input(\"Enter a number : \"))\n",
    "    if num%2 ==0:\n",
    "        print(f\"Number {num} is Even\")\n",
    "    else:\n",
    "        print(f'Number {num} is odd')\n",
    "odd_even()"
   ]
  },
  {
   "cell_type": "code",
   "execution_count": 8,
   "id": "48034a3f",
   "metadata": {},
   "outputs": [
    {
     "name": "stdout",
     "output_type": "stream",
     "text": [
      "Leap Year\n"
     ]
    }
   ],
   "source": [
    "def CheckYear(year):\n",
    "    if (year % 4) == 0:\n",
    "        if (year % 100) == 0:\n",
    "            if (year % 400) == 0:\n",
    "                return True\n",
    "            else:\n",
    "                return False\n",
    "        else:\n",
    "             return True\n",
    "    else:\n",
    "        return False\n",
    "year = 3200\n",
    "if(CheckYear(year)):\n",
    "    print(\"Leap Year\")\n",
    "else:\n",
    "    print(\"It is not a Leap Year\")"
   ]
  },
  {
   "cell_type": "code",
   "execution_count": 9,
   "id": "3389300d",
   "metadata": {},
   "outputs": [
    {
     "name": "stdout",
     "output_type": "stream",
     "text": [
      "Enter the Year: 2012\n",
      "2012 is a Leap Year\n"
     ]
    }
   ],
   "source": [
    "Year = int(input(\"Enter the Year: \"))\n",
    "if (( Year%400 == 0) or (( Year%4 == 0 ) and ( Year%100 != 0))):\n",
    "    print(\"%d is a Leap Year\" %Year)\n",
    "else:\n",
    "    print(\"%d is Not the Leap Year\" %Year)"
   ]
  },
  {
   "cell_type": "code",
   "execution_count": null,
   "id": "3f8affdc",
   "metadata": {},
   "outputs": [],
   "source": []
  }
 ],
 "metadata": {
  "kernelspec": {
   "display_name": "Python 3 (ipykernel)",
   "language": "python",
   "name": "python3"
  },
  "language_info": {
   "codemirror_mode": {
    "name": "ipython",
    "version": 3
   },
   "file_extension": ".py",
   "mimetype": "text/x-python",
   "name": "python",
   "nbconvert_exporter": "python",
   "pygments_lexer": "ipython3",
   "version": "3.9.12"
  }
 },
 "nbformat": 4,
 "nbformat_minor": 5
}
