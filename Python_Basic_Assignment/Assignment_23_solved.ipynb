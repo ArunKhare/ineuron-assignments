{
 "cells": [
  {
   "cell_type": "markdown",
   "id": "cd07e08d",
   "metadata": {},
   "source": [
    "1. What is the result of the code, and why?\n",
    "&gt;&gt;&gt; def func(a, b=6, c=8):\n",
    "print(a, b, c)\n",
    "&gt;&gt;&gt; func(1, 2)\n"
   ]
  },
  {
   "cell_type": "code",
   "execution_count": 3,
   "id": "1fbbbc2d",
   "metadata": {},
   "outputs": [
    {
     "name": "stdout",
     "output_type": "stream",
     "text": [
      "1 2 8\n"
     ]
    },
    {
     "data": {
      "text/plain": [
       "'passing parameters will calling the function overriders the a and b values'"
      ]
     },
     "execution_count": 3,
     "metadata": {},
     "output_type": "execute_result"
    }
   ],
   "source": [
    "def func(a, b=6, c=8): \n",
    "    print(a, b, c) \n",
    "func(1, 2)\n",
    "\"\"\"passing Arguments will calling the function overriders parameter a and b values\"\"\""
   ]
  },
  {
   "cell_type": "markdown",
   "id": "5e70836b",
   "metadata": {},
   "source": [
    "2. What is the result of this code, and why?\n",
    "&gt;&gt;&gt; def func(a, b, c=5):\n",
    "print(a, b, c)\n",
    "&gt;&gt;&gt; func(1, c=3, b=2)\n"
   ]
  },
  {
   "cell_type": "code",
   "execution_count": 9,
   "id": "97803808",
   "metadata": {},
   "outputs": [
    {
     "name": "stdout",
     "output_type": "stream",
     "text": [
      "1 2 3\n"
     ]
    },
    {
     "data": {
      "text/plain": [
       "'The predertimed argument (named) takes preceding the corresponding positional arguments'"
      ]
     },
     "execution_count": 9,
     "metadata": {},
     "output_type": "execute_result"
    }
   ],
   "source": [
    "def func(a, b, c=5): \n",
    "    print(a, b, c)\n",
    "func(1, c=3, b=2)\n",
    "\"\"\"The predertimed argument (named) takes preceding the corresponding positional arguments\"\"\""
   ]
  },
  {
   "cell_type": "markdown",
   "id": "f76bf93b",
   "metadata": {},
   "source": [
    "3. How about this code: what is its result, and why?\n",
    "&gt;&gt;&gt; def func(a, *pargs):\n",
    "print(a, pargs)\n",
    "&gt;&gt;&gt; func(1, 2, 3)\n"
   ]
  },
  {
   "cell_type": "code",
   "execution_count": 22,
   "id": "ecbc4728",
   "metadata": {},
   "outputs": [
    {
     "name": "stdout",
     "output_type": "stream",
     "text": [
      "1 (2, 3)\n"
     ]
    },
    {
     "data": {
      "text/plain": [
       "' a is a predetermined corresponding positional Arugment,\\nThe * symbol is used to pass a variable number of arguments to a function'"
      ]
     },
     "execution_count": 22,
     "metadata": {},
     "output_type": "execute_result"
    }
   ],
   "source": [
    "def func(a, *pargs): \n",
    "    print(a, pargs) \n",
    "\n",
    "func(1, 2, 3)\n",
    "\"\"\" a is a predetermined corresponding positional Arugment,\n",
    "The * symbol is used to pass a variable number of arguments to a function\"\"\""
   ]
  },
  {
   "cell_type": "markdown",
   "id": "bf9aed95",
   "metadata": {},
   "source": [
    "4. What does this code print, and why?\n",
    "&gt;&gt;&gt; def func(a, **kargs):\n",
    "print(a, kargs)\n",
    "&gt;&gt;&gt; func(a=1, c=3, b=2)"
   ]
  },
  {
   "cell_type": "code",
   "execution_count": 15,
   "id": "949e149e",
   "metadata": {},
   "outputs": [
    {
     "name": "stdout",
     "output_type": "stream",
     "text": [
      "1 {'c': 3, 'b': 2}\n"
     ]
    },
    {
     "data": {
      "text/plain": [
       "'The ** symbol is used before an argument to pass a keyword argument dictionary to a function'"
      ]
     },
     "execution_count": 15,
     "metadata": {},
     "output_type": "execute_result"
    }
   ],
   "source": [
    "def func(a, **kargs): \n",
    "    print(a, kargs) \n",
    "\n",
    "func(a=1, c=3, b=2)\n",
    "\"The ** symbol is used before an argument to pass a variable no of keyword argument dictionary to a function\""
   ]
  },
  {
   "cell_type": "markdown",
   "id": "0cffa655",
   "metadata": {},
   "source": [
    "5. What gets printed by this, and explain?\n",
    "&gt;&gt;&gt; def func(a, b, c=8, d=5): print(a, b, c, d)\n",
    "&gt;&gt;&gt; func(1, *(5, 6))\n"
   ]
  },
  {
   "cell_type": "code",
   "execution_count": 20,
   "id": "a0189382",
   "metadata": {},
   "outputs": [
    {
     "name": "stdout",
     "output_type": "stream",
     "text": [
      "1 5 6 5\n"
     ]
    },
    {
     "data": {
      "text/plain": [
       "'corresponding positional Arugments takes preceding\\nDefault argument follows non default arguments '"
      ]
     },
     "execution_count": 20,
     "metadata": {},
     "output_type": "execute_result"
    }
   ],
   "source": [
    "def func(a, b, c=8, d=5): \n",
    "    print(a, b, c, d) \n",
    "func(1, *(5, 6))\n",
    "\n",
    "\"\"\"corresponding positional Arugments takes preceding\n",
    "Default argument follows non default arguments \"\"\""
   ]
  },
  {
   "cell_type": "markdown",
   "id": "66f69b32",
   "metadata": {},
   "source": [
    "6. what is the result of this, and explain?\n",
    "&gt;&gt;&gt; def func(a, b, c): a = 2; b[0] = &#39;x&#39;; c[&#39;a&#39;] = &#39;y&#39;\n",
    "&gt;&gt;&gt; l=1; m=[1]; n={&#39;a&#39;:0}\n",
    "&gt;&gt;&gt; func(l, m, n)\n",
    "\n",
    "&gt;&gt;&gt; l, m, n"
   ]
  },
  {
   "cell_type": "code",
   "execution_count": 120,
   "id": "2921c47b",
   "metadata": {},
   "outputs": [
    {
     "data": {
      "text/plain": [
       "(1, ['x'], {'a': 'y'})"
      ]
     },
     "execution_count": 120,
     "metadata": {},
     "output_type": "execute_result"
    }
   ],
   "source": [
    "def func(a, b, c): \n",
    "    a = 2; \n",
    "    b[0] = 'x'; \n",
    "    c['a'] = 'y' \n",
    "\n",
    "l=1; m=[1]; n={'a':0} \n",
    "func(l, m, n)\n",
    "l, m, n"
   ]
  },
  {
   "cell_type": "code",
   "execution_count": null,
   "id": "51923543",
   "metadata": {},
   "outputs": [],
   "source": []
  }
 ],
 "metadata": {
  "kernelspec": {
   "display_name": "Python 3 (ipykernel)",
   "language": "python",
   "name": "python3"
  },
  "language_info": {
   "codemirror_mode": {
    "name": "ipython",
    "version": 3
   },
   "file_extension": ".py",
   "mimetype": "text/x-python",
   "name": "python",
   "nbconvert_exporter": "python",
   "pygments_lexer": "ipython3",
   "version": "3.9.7"
  }
 },
 "nbformat": 4,
 "nbformat_minor": 5
}
