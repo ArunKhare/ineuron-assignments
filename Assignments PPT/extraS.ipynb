{
 "cells": [
  {
   "cell_type": "code",
   "execution_count": 1,
   "metadata": {},
   "outputs": [],
   "source": [
    "# ChainMap \n",
    "\n",
    "def palindrom(sstring):\n",
    "    revstr = sstring[::-1]\n",
    "    if sstring == revstr:\n",
    "        print (True)\n",
    "    else:\n",
    "        print(False)"
   ]
  },
  {
   "cell_type": "code",
   "execution_count": 3,
   "metadata": {},
   "outputs": [
    {
     "name": "stdout",
     "output_type": "stream",
     "text": [
      "True\n"
     ]
    }
   ],
   "source": [
    "palindrom('AruurA')"
   ]
  },
  {
   "cell_type": "code",
   "execution_count": 6,
   "metadata": {},
   "outputs": [
    {
     "data": {
      "text/plain": [
       "24"
      ]
     },
     "execution_count": 6,
     "metadata": {},
     "output_type": "execute_result"
    }
   ],
   "source": [
    "def fact(n):\n",
    "    if n <= 1 :\n",
    "        return 1\n",
    "    return n*fact(n-1)\n",
    "fact(4)"
   ]
  },
  {
   "cell_type": "code",
   "execution_count": 38,
   "metadata": {},
   "outputs": [
    {
     "name": "stdout",
     "output_type": "stream",
     "text": [
      " nurAnurA\n",
      "3210-1-2-3-4\n",
      "K\n",
      "hK\n",
      "ahK\n",
      "rahK\n",
      "erahK\n"
     ]
    }
   ],
   "source": [
    "def rev_str(string):\n",
    "    revstring = \" \"\n",
    "    index = \"\"\n",
    "    for i in range(len(string)-1,-5,-1):\n",
    "        revstring = revstring + string[i]\n",
    "        index += str(i)\n",
    "    print(revstring)\n",
    "    print(index)\n",
    "\n",
    "rev_str(\"Arun\")\n",
    "\n",
    "def reverse_string(string):\n",
    "    rev_str = \"\"\n",
    "    for i in string:\n",
    "        rev_str = i + rev_str\n",
    "        print(rev_str)\n",
    "    \n",
    "reverse_string(\"Khare\")"
   ]
  },
  {
   "cell_type": "code",
   "execution_count": 32,
   "metadata": {},
   "outputs": [
    {
     "name": "stdout",
     "output_type": "stream",
     "text": [
      "aaehknrru\n"
     ]
    },
    {
     "data": {
      "text/plain": [
       "'aaehknrru'"
      ]
     },
     "execution_count": 32,
     "metadata": {},
     "output_type": "execute_result"
    }
   ],
   "source": [
    "# write a python program to sort alphabetically the words from a string provided by the user\n",
    "def alpha_order():\n",
    "    input_string = input(\"provide input: \")\n",
    "    input_string = input_string.lower()\n",
    "    sorted_list = sorted(input_string)\n",
    "    sorted_string = \"\".join(sorted_list)\n",
    "    print(sorted_string)\n",
    "\n",
    "alpha_order()\n",
    "\n",
    "\"\".join(sorted(\"Kharearun\".lower()))"
   ]
  },
  {
   "cell_type": "code",
   "execution_count": 6,
   "metadata": {},
   "outputs": [
    {
     "name": "stdout",
     "output_type": "stream",
     "text": [
      "['XX', 'YY']\n"
     ]
    }
   ],
   "source": [
    "X= [\"XX\", \"YY\"]\n",
    "for i in X:\n",
    "    i.lower()\n",
    "    \n",
    "print(X)"
   ]
  },
  {
   "cell_type": "code",
   "execution_count": 24,
   "metadata": {},
   "outputs": [],
   "source": [
    "# Writw a python function to check if a number is prime:\n",
    "def is_prime(num):\n",
    "    if num < 2:\n",
    "        return False\n",
    "\n",
    "    for i in range(2, int(num**0.5) + 1):\n",
    "        if num % i == 0:\n",
    "            return False\n",
    "\n",
    "    return True       \n"
   ]
  },
  {
   "cell_type": "code",
   "execution_count": 39,
   "metadata": {},
   "outputs": [
    {
     "name": "stdout",
     "output_type": "stream",
     "text": [
      "3245\n",
      "maxnum : 3245\n"
     ]
    }
   ],
   "source": [
    "# find the largest number in list\n",
    "maxnum = 0\n",
    "lst = [1,3,76,34,7,3,798,3245,352,436]\n",
    "print(max(lst))\n",
    "\n",
    "for i in lst:\n",
    "    if i > maxnum:\n",
    "        maxnum = i\n",
    "print(f\"maxnum : {maxnum}\")\n"
   ]
  },
  {
   "cell_type": "code",
   "execution_count": 33,
   "metadata": {},
   "outputs": [
    {
     "ename": "AttributeError",
     "evalue": "type object 'Employee' has no attribute '__emp'",
     "output_type": "error",
     "traceback": [
      "\u001b[1;31m---------------------------------------------------------------------------\u001b[0m",
      "\u001b[1;31mAttributeError\u001b[0m                            Traceback (most recent call last)",
      "\u001b[1;32mc:\\Users\\arunk\\ineuron-assignments\\Assignments PPT\\extraS.ipynb Cell 9\u001b[0m in \u001b[0;36m2\n\u001b[0;32m     <a href='vscode-notebook-cell:/c%3A/Users/arunk/ineuron-assignments/Assignments%20PPT/extraS.ipynb#X11sZmlsZQ%3D%3D?line=17'>18</a>\u001b[0m emp \u001b[39m=\u001b[39m Employee(\u001b[39m\"\u001b[39m\u001b[39mArun\u001b[39m\u001b[39m\"\u001b[39m, \u001b[39m2000\u001b[39m)\n\u001b[0;32m     <a href='vscode-notebook-cell:/c%3A/Users/arunk/ineuron-assignments/Assignments%20PPT/extraS.ipynb#X11sZmlsZQ%3D%3D?line=18'>19</a>\u001b[0m emp\u001b[39m.\u001b[39mget_salary()\n\u001b[1;32m---> <a href='vscode-notebook-cell:/c%3A/Users/arunk/ineuron-assignments/Assignments%20PPT/extraS.ipynb#X11sZmlsZQ%3D%3D?line=19'>20</a>\u001b[0m Employee\u001b[39m.\u001b[39;49m__emp\u001b[39m.\u001b[39m__salary\n",
      "\u001b[1;31mAttributeError\u001b[0m: type object 'Employee' has no attribute '__emp'"
     ]
    }
   ],
   "source": [
    "\n",
    "class Employee:\n",
    "    def __init__(self, name, salary):\n",
    "        self.name = name\n",
    "        self.__salary = salary\n",
    "\n",
    "    def get_salary(self):\n",
    "        return self.__salary\n",
    "\n",
    "    def set_salary(self, new_salary):\n",
    "        if new_salary > 0:\n",
    "            self.__salary = new_salary\n",
    "        else:\n",
    "            print(\"Invalid salary\")\n",
    "\n",
    "    def display_info(self):\n",
    "        print(\"Name:\", self.name)\n",
    "        print(\"Salary:\", self.__salary)\n",
    "emp = Employee(\"Arun\", 2000)\n",
    "emp.get_salary()\n",
    "Employee.__emp.__salary"
   ]
  },
  {
   "cell_type": "code",
   "execution_count": 46,
   "metadata": {},
   "outputs": [],
   "source": [
    "z = set(\"abc\")\n",
    "z.add(\"san\")"
   ]
  },
  {
   "cell_type": "code",
   "execution_count": 54,
   "metadata": {},
   "outputs": [],
   "source": [
    "z\n",
    "z.update(set(['rpaaa','aq']))"
   ]
  },
  {
   "cell_type": "code",
   "execution_count": 55,
   "metadata": {},
   "outputs": [
    {
     "data": {
      "text/plain": [
       "{'a', 'aq', 'b', 'c', 'flast', 'last', 'p', 'paaa', 'q', 'rpaaa', 'san'}"
      ]
     },
     "execution_count": 55,
     "metadata": {},
     "output_type": "execute_result"
    }
   ],
   "source": [
    "z.add(\"flast\")\n",
    "z"
   ]
  },
  {
   "cell_type": "code",
   "execution_count": 45,
   "metadata": {},
   "outputs": [
    {
     "data": {
      "text/plain": [
       "'Abc.def'"
      ]
     },
     "execution_count": 45,
     "metadata": {},
     "output_type": "execute_result"
    }
   ],
   "source": [
    "\"abc.DEF\".capitalize()"
   ]
  },
  {
   "cell_type": "code",
   "execution_count": 101,
   "metadata": {},
   "outputs": [
    {
     "data": {
      "text/plain": [
       "6"
      ]
     },
     "execution_count": 101,
     "metadata": {},
     "output_type": "execute_result"
    }
   ],
   "source": [
    "# Binary Search on sorted list\n",
    "\n",
    "lst = ['a', 'b', 'c', 'd', 'e', 'f', 'g']\n",
    "\n",
    "# lst =  [1,2,3,4,5,6,7,10,11, 12, 13, 14]\n",
    "\n",
    "def bins(lst,ele):\n",
    "    r = len(lst)-1\n",
    "    l = 0\n",
    "\n",
    "    while l<=r:\n",
    "        mid = (l+r)//2\n",
    "        if ele == lst[mid]:\n",
    "            return mid\n",
    "        \n",
    "        if ele < lst[mid]:\n",
    "            r = mid-1\n",
    "        else: \n",
    "            l = mid+1\n",
    "    return -1\n",
    "\n",
    "bins(lst,'g')        "
   ]
  },
  {
   "cell_type": "code",
   "execution_count": 62,
   "metadata": {},
   "outputs": [
    {
     "data": {
      "text/plain": [
       "{1, 2, 3, 4}"
      ]
     },
     "execution_count": 62,
     "metadata": {},
     "output_type": "execute_result"
    }
   ],
   "source": [
    "lst = [1,1,2,3,4,4]\n",
    "set(lst)"
   ]
  },
  {
   "cell_type": "code",
   "execution_count": 63,
   "metadata": {},
   "outputs": [
    {
     "name": "stdout",
     "output_type": "stream",
     "text": [
      "[1, 2, 3, 4]\n"
     ]
    }
   ],
   "source": [
    "lst = [1,1,2,3,4,4]\n",
    "no_dup = []\n",
    "for i in lst:\n",
    "    if i not in no_dup:\n",
    "        no_dup.append(i)\n",
    "print(no_dup)\n"
   ]
  },
  {
   "cell_type": "code",
   "execution_count": 65,
   "metadata": {},
   "outputs": [
    {
     "data": {
      "text/plain": [
       "3"
      ]
     },
     "execution_count": 65,
     "metadata": {},
     "output_type": "execute_result"
    }
   ],
   "source": [
    "lst.__getitem__(3)"
   ]
  },
  {
   "cell_type": "code",
   "execution_count": 102,
   "metadata": {},
   "outputs": [
    {
     "data": {
      "text/plain": [
       "[0, 1, 1, 2, 3, 5, 8, 13, 21, 34, 55]"
      ]
     },
     "execution_count": 102,
     "metadata": {},
     "output_type": "execute_result"
    }
   ],
   "source": [
    "# write a function to calcualte fibonacci sequence upto the given number\n",
    "\n",
    "def fib(n):\n",
    "    nos = [0,1]\n",
    "    if n==0 or n==1:\n",
    "        return n\n",
    "    \n",
    "    for i in range(2,n+1):\n",
    "        new = nos[i-2]+nos[i-1]\n",
    "        nos.append(new)\n",
    "    return nos\n",
    "\n",
    "fib(10)"
   ]
  },
  {
   "cell_type": "code",
   "execution_count": 120,
   "metadata": {},
   "outputs": [
    {
     "name": "stdout",
     "output_type": "stream",
     "text": [
      "55\n",
      "[0, 1, 1, 2, 3, 5, 8]\n"
     ]
    },
    {
     "data": {
      "text/plain": [
       "[0, 1, 1, 2, 3, 5, 8, 13]"
      ]
     },
     "execution_count": 120,
     "metadata": {},
     "output_type": "execute_result"
    }
   ],
   "source": [
    "def fibonacci(n):\n",
    "    if n <= 1:\n",
    "        return n\n",
    "    return fibonacci(n-1)+fibonacci(n-2)\n",
    "\n",
    "print(fibonacci(10))\n",
    "\n",
    "\n",
    "def fin_seq(n):\n",
    "    fib_sequence = []  \n",
    "    for i in range(n-3):\n",
    "        fib_sequence.append(fibonacci(i))\n",
    "    return fib_sequence\n",
    "print(fin_seq(10))\n",
    "\n",
    "\n",
    "\n",
    "def fib(n):\n",
    "    if n <= 1:\n",
    "        return n\n",
    "    fibno = [0,1]\n",
    "    while fibno[-1] <= n-3:\n",
    "        nextno = fibno[-1] + fibno[-2]\n",
    "        fibno.append(nextno)\n",
    "    return fibno\n",
    "fib(13)\n"
   ]
  },
  {
   "cell_type": "code",
   "execution_count": null,
   "metadata": {},
   "outputs": [],
   "source": [
    "# write a function to merge two sorted list into single sorted list\n",
    "\n",
    "def mergelst(l1,l2):\n",
    "    if l1[-1]<l2[0]:\n",
    "        l1.extend(l2)\n",
    "        return l1\n",
    "    elif l2[-1] <l1[0]:\n",
    "        l2.extend(l1)\n",
    "        return l2\n",
    "    i\n"
   ]
  },
  {
   "cell_type": "code",
   "execution_count": 76,
   "metadata": {},
   "outputs": [
    {
     "name": "stdout",
     "output_type": "stream",
     "text": [
      "1.0\n"
     ]
    }
   ],
   "source": [
    "print(True**False/True)"
   ]
  },
  {
   "cell_type": "code",
   "execution_count": 77,
   "metadata": {},
   "outputs": [
    {
     "data": {
      "text/plain": [
       "False"
      ]
     },
     "execution_count": 77,
     "metadata": {},
     "output_type": "execute_result"
    }
   ],
   "source": [
    "2 =='2'"
   ]
  },
  {
   "cell_type": "code",
   "execution_count": 79,
   "metadata": {},
   "outputs": [
    {
     "data": {
      "text/plain": [
       "1"
      ]
     },
     "execution_count": 79,
     "metadata": {},
     "output_type": "execute_result"
    }
   ],
   "source": [
    "pow(10,0)"
   ]
  },
  {
   "cell_type": "code",
   "execution_count": 80,
   "metadata": {},
   "outputs": [
    {
     "data": {
      "text/plain": [
       "False"
      ]
     },
     "execution_count": 80,
     "metadata": {},
     "output_type": "execute_result"
    }
   ],
   "source": [
    "'2' == 2"
   ]
  },
  {
   "cell_type": "code",
   "execution_count": 92,
   "metadata": {},
   "outputs": [
    {
     "name": "stdout",
     "output_type": "stream",
     "text": [
      "None\n"
     ]
    }
   ],
   "source": [
    "class stack:\n",
    "    def __init__(self) -> None:\n",
    "      self.stack = []\n",
    "\n",
    "    def push(self,e):\n",
    "       self.stack.append(e)\n",
    "    \n",
    "    def remove(self):\n",
    "       self.stack.pop()\n",
    "    \n",
    "    def peek(self):\n",
    "       return(self.stack[-1])\n",
    "    \n",
    "st = stack()\n",
    "st.push(10)\n",
    "st.push(3)\n",
    "st.peek()\n",
    "st.remove()\n",
    "st.peek()\n",
    "\n",
    "r = st.remove()\n",
    "print(r)"
   ]
  },
  {
   "cell_type": "code",
   "execution_count": 86,
   "metadata": {},
   "outputs": [],
   "source": [
    "# write a python program to find the longest common substring between two strings\n",
    "def longest_common_substring(s1, s2):\n",
    "    m = len(s1)\n",
    "    n = len(s2)\n",
    "\n",
    "    # Create a table to store lengths of longest common suffixes\n",
    "    # 'dp[i][j]' represents the length of the longest common substring\n",
    "    # ending at 's1[i-1]' and 's2[j-1]'.\n",
    "    dp = [[0] * (n+1) for _ in range(m+1)]\n",
    "\n",
    "    # Variables to keep track of the longest common substring\n",
    "    max_length = 0\n",
    "    end_index = 0\n",
    "\n",
    "    # Compute the lengths of longest common substrings\n",
    "    for i in range(1, m+1):\n",
    "        for j in range(1, n+1):\n",
    "            if s1[i-1] == s2[j-1]:\n",
    "                dp[i][j] = dp[i-1][j-1] + 1\n",
    "                if dp[i][j] > max_length:\n",
    "                    max_length = dp[i][j]\n",
    "                    end_index = i\n",
    "\n",
    "    # Retrieve the longest common substring\n",
    "    longest_substring = s1[end_index - max_length: end_index]\n",
    "\n",
    "    return longest_substring\n",
    "\n",
    "\n",
    "# Example usage:\n",
    "string1 = \"abcdef\"\n",
    "string2 = \"defabc\"\n",
    "result = longest_common_substring(string1, string2)\n",
    "print(\"Longest Common Substring:\", result)\n",
    "\n"
   ]
  },
  {
   "cell_type": "code",
   "execution_count": 93,
   "metadata": {},
   "outputs": [
    {
     "name": "stdout",
     "output_type": "stream",
     "text": [
      "Depth-First Search (DFS) traversal:\n",
      "1\n",
      "2\n",
      "4\n",
      "5\n",
      "3\n",
      "6\n",
      "7\n"
     ]
    }
   ],
   "source": [
    "# write a python program to implement a binary tree and perform depth-first search\n",
    "\n",
    "class Node:\n",
    "    def __init__(self, value):\n",
    "        self.value = value\n",
    "        self.left = None\n",
    "        self.right = None\n",
    "\n",
    "def create_binary_tree():\n",
    "    root = Node(1)\n",
    "    root.left = Node(2)\n",
    "    root.right = Node(3)\n",
    "    root.left.left = Node(4)\n",
    "    root.left.right = Node(5)\n",
    "    root.right.left = Node(6)\n",
    "    root.right.right = Node(7)\n",
    "    return root\n",
    "\n",
    "def dfs(node):\n",
    "    if node is None:\n",
    "        return\n",
    "\n",
    "    # Perform the desired operation on the node value (printing in this case)\n",
    "    print(node.value)\n",
    "\n",
    "    # Recursively traverse the left and right subtrees\n",
    "    dfs(node.left)\n",
    "    dfs(node.right)\n",
    "\n",
    "# Create a binary tree\n",
    "root = create_binary_tree()\n",
    "\n",
    "# Perform depth-first search (DFS) traversal\n",
    "print(\"Depth-First Search (DFS) traversal:\")\n",
    "dfs(root)\n",
    "\n"
   ]
  },
  {
   "cell_type": "code",
   "execution_count": 128,
   "metadata": {},
   "outputs": [
    {
     "name": "stdout",
     "output_type": "stream",
     "text": [
      "[]\n",
      "[1, 2, 3, 4]\n"
     ]
    }
   ],
   "source": [
    "MY_LIST = [1,2,3,4,5]\n",
    "print(MY_LIST[-1:-4])\n",
    "print(MY_LIST[-5:-1])"
   ]
  },
  {
   "cell_type": "code",
   "execution_count": 136,
   "metadata": {},
   "outputs": [
    {
     "data": {
      "text/plain": [
       "{'key2': 1, 'key4': 2, 'key5': 3, 'key3': 4}"
      ]
     },
     "execution_count": 136,
     "metadata": {},
     "output_type": "execute_result"
    }
   ],
   "source": [
    "my_dict = {'key5':3,'key2':1,'key3':4,'key4':2}\n",
    "dict(sorted(my_dict.items(), key=lambda item:item[1]))"
   ]
  },
  {
   "cell_type": "code",
   "execution_count": 143,
   "metadata": {},
   "outputs": [
    {
     "name": "stdout",
     "output_type": "stream",
     "text": [
      "[1, 2, 3, 4, 5, 6]\n"
     ]
    },
    {
     "data": {
      "text/plain": [
       "[(1, 3, 5), (2, 4, 6)]"
      ]
     },
     "execution_count": 143,
     "metadata": {},
     "output_type": "execute_result"
    }
   ],
   "source": [
    "my_list = [(1,2),(3,4),(5,6)]\n",
    "\n",
    "new_list = [X for tup in my_list for X in tup]\n",
    "print(new_list)\n",
    "\n",
    "list(zip(*my_list))"
   ]
  },
  {
   "cell_type": "code",
   "execution_count": 144,
   "metadata": {},
   "outputs": [
    {
     "name": "stdout",
     "output_type": "stream",
     "text": [
      "(1, 3, 5)\n",
      "(2, 4, 6)\n"
     ]
    }
   ],
   "source": [
    "for i in zip(*my_list):\n",
    "    print(i)"
   ]
  },
  {
   "cell_type": "code",
   "execution_count": 146,
   "metadata": {},
   "outputs": [
    {
     "data": {
      "text/plain": [
       "{'a', 'b', 'c', 'p', 'q', 'san'}"
      ]
     },
     "execution_count": 146,
     "metadata": {},
     "output_type": "execute_result"
    }
   ],
   "source": [
    "z=set('abc')\n",
    "\n",
    "z.add('san')\n",
    "\n",
    "z.update(set(['p', 'q']))\n",
    "z"
   ]
  },
  {
   "cell_type": "code",
   "execution_count": 4,
   "metadata": {},
   "outputs": [
    {
     "name": "stdout",
     "output_type": "stream",
     "text": [
      "MID: 0\n",
      "n1 n2 (0, 1, 1, 1)\n",
      "LEFT : 0 0 [50]\n",
      "Right : 1 0 [70]\n",
      "ARRAY [50, 70, 65, 13, 80, 62, 98, 27] 50\n",
      "FINAL ARRAY [50, 70, 65, 13, 80, 62, 98, 27] 50\n",
      "MID: 2\n",
      "n1 n2 (2, 3, 1, 1)\n",
      "LEFT : 2 0 [65]\n",
      "Right : 3 0 [13]\n",
      "ARRAY [50, 70, 13, 13, 80, 62, 98, 27] 13\n",
      "FINAL ARRAY [50, 70, 13, 65, 80, 62, 98, 27] 65\n",
      "MID: 1\n",
      "n1 n2 (0, 3, 2, 2)\n",
      "LEFT : 0 0 [50, 0]\n",
      "LEFT : 0 1 [50, 70]\n",
      "Right : 2 0 [13, 0]\n",
      "Right : 2 1 [13, 65]\n",
      "ARRAY [13, 70, 13, 65, 80, 62, 98, 27] 13\n",
      "ARRAY [13, 50, 13, 65, 80, 62, 98, 27] 50\n",
      "ARRAY [13, 50, 65, 65, 80, 62, 98, 27] 65\n",
      "FINAL ARRAY [13, 50, 65, 70, 80, 62, 98, 27] 70\n",
      "MID: 4\n",
      "n1 n2 (4, 5, 1, 1)\n",
      "LEFT : 4 0 [80]\n",
      "Right : 5 0 [62]\n",
      "ARRAY [13, 50, 65, 70, 62, 62, 98, 27] 62\n",
      "FINAL ARRAY [13, 50, 65, 70, 62, 80, 98, 27] 80\n",
      "MID: 6\n",
      "n1 n2 (6, 7, 1, 1)\n",
      "LEFT : 6 0 [98]\n",
      "Right : 7 0 [27]\n",
      "ARRAY [13, 50, 65, 70, 62, 80, 27, 27] 27\n",
      "FINAL ARRAY [13, 50, 65, 70, 62, 80, 27, 98] 98\n",
      "MID: 5\n",
      "n1 n2 (4, 7, 2, 2)\n",
      "LEFT : 4 0 [62, 0]\n",
      "LEFT : 4 1 [62, 80]\n",
      "Right : 6 0 [27, 0]\n",
      "Right : 6 1 [27, 98]\n",
      "ARRAY [13, 50, 65, 70, 27, 80, 27, 98] 27\n",
      "ARRAY [13, 50, 65, 70, 27, 62, 27, 98] 62\n",
      "ARRAY [13, 50, 65, 70, 27, 62, 80, 98] 80\n",
      "FINAL ARRAY [13, 50, 65, 70, 27, 62, 80, 98] 80\n",
      "MID: 3\n",
      "n1 n2 (0, 7, 4, 4)\n",
      "LEFT : 0 0 [13, 0, 0, 0]\n",
      "LEFT : 0 1 [13, 50, 0, 0]\n",
      "LEFT : 0 2 [13, 50, 65, 0]\n",
      "LEFT : 0 3 [13, 50, 65, 70]\n",
      "Right : 4 0 [27, 0, 0, 0]\n",
      "Right : 4 1 [27, 62, 0, 0]\n",
      "Right : 4 2 [27, 62, 80, 0]\n",
      "Right : 4 3 [27, 62, 80, 98]\n",
      "ARRAY [13, 50, 65, 70, 27, 62, 80, 98] 13\n",
      "ARRAY [13, 27, 65, 70, 27, 62, 80, 98] 27\n",
      "ARRAY [13, 27, 50, 70, 27, 62, 80, 98] 50\n",
      "ARRAY [13, 27, 50, 62, 27, 62, 80, 98] 62\n",
      "ARRAY [13, 27, 50, 62, 65, 62, 80, 98] 65\n",
      "ARRAY [13, 27, 50, 62, 65, 70, 80, 98] 70\n",
      "FINAL ARRAY [13, 27, 50, 62, 65, 70, 80, 98] 70\n",
      "sorted array after applying the merge sort is :  [13, 27, 50, 62, 65, 70, 80, 98]\n"
     ]
    }
   ],
   "source": [
    "## Implementation of Merge Sortn\n",
    "## function definition of merge Procedure\n",
    "## n1+n2 = N\n",
    "## Merge Procedure time complexity = O(N)\n",
    "def mergeProcedure(arr,i,mid,j):\n",
    "    ## number of elements in the left subarray(i,mid)\n",
    "    n1 = mid - i + 1\n",
    "    ## number of elements in the right subarray(mid+1,j)\n",
    "    n2 = j - mid # (+1-1)\n",
    "    print(\"MID:\", mid)\n",
    "    print(f\"n1 n2 {i,j, n1,n2}\")\n",
    "    ## initialization of left subarray\n",
    "    leftsubarray = [0]*n1\n",
    "    rightsubarray = [0]*n2\n",
    "\n",
    "    ## copy the elements from an array to the subarrays\n",
    "    for m in range(n1):\n",
    "        leftsubarray[m] = arr[i+m]\n",
    "        print(\"LEFT :\",i,m,leftsubarray)\n",
    "    for n in range(n2):\n",
    "        rightsubarray[n] = arr[mid+1+n]\n",
    "        print(\"Right :\",mid+1,n, rightsubarray)\n",
    "    p = 0\n",
    "    q = 0\n",
    "    k = i\n",
    "\n",
    "    ## returning a sorted subarray\n",
    "    while p < n1 and q < n2:\n",
    "        if leftsubarray[p] <=rightsubarray[q]:\n",
    "            arr[k] = leftsubarray[p]\n",
    "            p += 1\n",
    "        else:\n",
    "            arr[k] = rightsubarray[q]\n",
    "            q += 1\n",
    "        print(\"ARRAY\",arr, arr[k])\n",
    "        k += 1\n",
    "    ## copy the entire elements from left subarray\n",
    "    while p < n1:\n",
    "        arr[k] = leftsubarray[p]\n",
    "        p += 1\n",
    "        k += 1\n",
    "\n",
    "    ## copy the entire elements from right subarray\n",
    "    while p < n2:\n",
    "        arr[k] = leftsubarray[q]\n",
    "        q += 1\n",
    "        k += 1\n",
    "    print(\"FINAL ARRAY\",arr,arr[k-1])\n",
    "## function defination of merge sort\n",
    "## Approach -> Divide and conquer\n",
    "## Recurrence Relation -> 2T(N/2) + O(N)\n",
    "## Time complexity of o(n log n)\n",
    "def mergesort(arr, i, j):\n",
    "    if i < j:\n",
    "        ## divide\n",
    "        mid = i+(j-i)//2\n",
    "        \n",
    "        ## recursive call -> left and right subtree\n",
    "        mergesort(arr,i,mid)\n",
    "        mergesort(arr,mid+1,j)\n",
    "        ## combine -> merge procedure (function calling)\n",
    "        mergeProcedure(arr,i,mid,j)\n",
    "    return arr\n",
    "## Drive code\n",
    "arr = [50,70,65,13,80,62,98,27]\n",
    "i= 0; \n",
    "j =len(arr)-1\n",
    "\n",
    "## function calling\n",
    "result = mergesort(arr,i,j)\n",
    "print(\"sorted array after applying the merge sort is : \", result)\n"
   ]
  },
  {
   "cell_type": "code",
   "execution_count": null,
   "metadata": {},
   "outputs": [],
   "source": []
  },
  {
   "cell_type": "code",
   "execution_count": null,
   "metadata": {},
   "outputs": [],
   "source": []
  }
 ],
 "metadata": {
  "kernelspec": {
   "display_name": "base",
   "language": "python",
   "name": "python3"
  },
  "language_info": {
   "codemirror_mode": {
    "name": "ipython",
    "version": 3
   },
   "file_extension": ".py",
   "mimetype": "text/x-python",
   "name": "python",
   "nbconvert_exporter": "python",
   "pygments_lexer": "ipython3",
   "version": "3.9.12"
  },
  "orig_nbformat": 4
 },
 "nbformat": 4,
 "nbformat_minor": 2
}
