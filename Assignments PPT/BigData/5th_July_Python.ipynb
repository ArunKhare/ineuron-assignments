{
 "cells": [
  {
   "cell_type": "markdown",
   "metadata": {},
   "source": [
    "1. Write a Python program to check if a given string is an anagram."
   ]
  },
  {
   "cell_type": "code",
   "execution_count": 22,
   "metadata": {},
   "outputs": [
    {
     "data": {
      "text/plain": [
       "True"
      ]
     },
     "execution_count": 22,
     "metadata": {},
     "output_type": "execute_result"
    }
   ],
   "source": [
    "str1 = \"astronomer\"; anag1 = \"moon starer\"\n",
    "str2 = \"listen\"; anag2 = \"slient\"\n",
    "\n",
    "def anagram(string, anag):\n",
    "    \n",
    "    char_count = {}\n",
    "\n",
    "    for char in string:\n",
    "        if char not in char_count:\n",
    "            char_count[char] = 1\n",
    "        else:\n",
    "            char_count[char] += 1\n",
    "\n",
    "    for char in anag:\n",
    "        if char == \" \":\n",
    "            continue\n",
    "        if char not in char_count or char_count[char] == 0:\n",
    "            return False\n",
    "        char_count[char] -=1\n",
    "\n",
    "    return True\n",
    "    \n",
    "\n",
    "anagram(str1, anag1)"
   ]
  },
  {
   "attachments": {},
   "cell_type": "markdown",
   "metadata": {},
   "source": [
    "2. Write a Python program to find the maximum and minimum values in a\n",
    "dictionary."
   ]
  },
  {
   "cell_type": "code",
   "execution_count": 24,
   "metadata": {},
   "outputs": [
    {
     "data": {
      "text/plain": [
       "(5, 100)"
      ]
     },
     "execution_count": 24,
     "metadata": {},
     "output_type": "execute_result"
    }
   ],
   "source": [
    "def minMax_values(dic : dict) -> int:\n",
    "    min_v = None\n",
    "    max_v = 0\n",
    "\n",
    "    for k,v in dic.items():\n",
    "        if v > max_v:\n",
    "            max_v = v\n",
    "        if not min_v:\n",
    "            min_v = v\n",
    "        if v < min_v:\n",
    "            min_v = v\n",
    "\n",
    "    return min_v, max_v\n",
    "  \n",
    "\n",
    "values = {\"n1\":10, \"n2\":20, 'n3':50, \"n4\":100, \"n5\":5}\n",
    "\n",
    "minMax_values(values)\n"
   ]
  },
  {
   "attachments": {},
   "cell_type": "markdown",
   "metadata": {},
   "source": [
    "3. Write a Python program to find the average of a list of numbers.\n"
   ]
  },
  {
   "cell_type": "code",
   "execution_count": 25,
   "metadata": {},
   "outputs": [
    {
     "data": {
      "text/plain": [
       "3.4"
      ]
     },
     "execution_count": 25,
     "metadata": {},
     "output_type": "execute_result"
    }
   ],
   "source": [
    "from numpy import mean\n",
    "def avgofList(lst):\n",
    "    return mean(lst)\n",
    "avgofList([1,2,4,5,5])"
   ]
  },
  {
   "attachments": {},
   "cell_type": "markdown",
   "metadata": {},
   "source": [
    "4. Write a Python program to remove all vowels from a string.\n"
   ]
  },
  {
   "cell_type": "code",
   "execution_count": 27,
   "metadata": {},
   "outputs": [
    {
     "data": {
      "text/plain": [
       "'Wrt  Pythn prgrm t rmv ll vwls frm  strng'"
      ]
     },
     "execution_count": 27,
     "metadata": {},
     "output_type": "execute_result"
    }
   ],
   "source": [
    "def removeVowels(string):\n",
    "    vowels = set('aeiouAEIOU')\n",
    "    onlyconsonants = \"\"\n",
    "    for i in string:\n",
    "        if i not in vowels:\n",
    "            onlyconsonants = onlyconsonants+i\n",
    "    return onlyconsonants\n",
    "\n",
    "string = \"Write a Python program to remove all vowels from a string\"\n",
    "\n",
    "removeVowels(string)"
   ]
  },
  {
   "attachments": {},
   "cell_type": "markdown",
   "metadata": {},
   "source": [
    "5. Write a Python function to calculate the factorial of a number using recursion.\n"
   ]
  },
  {
   "cell_type": "code",
   "execution_count": 30,
   "metadata": {},
   "outputs": [
    {
     "data": {
      "text/plain": [
       "24"
      ]
     },
     "execution_count": 30,
     "metadata": {},
     "output_type": "execute_result"
    }
   ],
   "source": [
    "def factorical(n):\n",
    "    if n <=1:\n",
    "        return 1\n",
    "    \n",
    "    return n*factorical(n-1)\n",
    "\n",
    "factorical(4)"
   ]
  },
  {
   "attachments": {},
   "cell_type": "markdown",
   "metadata": {},
   "source": [
    "6. Write a Python program to merge two unsorted lists into a single sorted list\n",
    "using the merge sort algorithm.\n"
   ]
  },
  {
   "cell_type": "code",
   "execution_count": 19,
   "metadata": {},
   "outputs": [
    {
     "name": "stdout",
     "output_type": "stream",
     "text": [
      "4 8\n",
      "CALL  1 [50, 70, 65, 13] [80, 62, 98, 27]\n",
      "2 4\n",
      "CALL  1 [50, 70] [65, 13]\n",
      "1 2\n",
      "CALL  1 [50] [70]\n",
      "<<<<>>>> [50]\n",
      "-----\n",
      "<<<<>>>> [70]\n",
      "AFTER ([50], [70])\n",
      "I J >> (1, 1)(0, 0)\n",
      "Merged [50]\n",
      "Merged remaining [50, 70]\n",
      "-----\n",
      "1 2\n",
      "CALL  1 [65] [13]\n",
      "<<<<>>>> [65]\n",
      "-----\n",
      "<<<<>>>> [13]\n",
      "AFTER ([65], [13])\n",
      "I J >> (1, 1)(0, 0)\n",
      "Merged [13]\n",
      "Merged remaining [13, 65]\n",
      "AFTER ([50, 70], [13, 65])\n",
      "I J >> (2, 2)(0, 0)\n",
      "Merged [13]\n",
      "I J >> (2, 2)(0, 1)\n",
      "Merged [13, 50]\n",
      "I J >> (2, 2)(1, 1)\n",
      "Merged [13, 50, 65]\n",
      "Merged remaining [13, 50, 65, 70]\n",
      "-----\n",
      "2 4\n",
      "CALL  1 [80, 62] [98, 27]\n",
      "1 2\n",
      "CALL  1 [80] [62]\n",
      "<<<<>>>> [80]\n",
      "-----\n",
      "<<<<>>>> [62]\n",
      "AFTER ([80], [62])\n",
      "I J >> (1, 1)(0, 0)\n",
      "Merged [62]\n",
      "Merged remaining [62, 80]\n",
      "-----\n",
      "1 2\n",
      "CALL  1 [98] [27]\n",
      "<<<<>>>> [98]\n",
      "-----\n",
      "<<<<>>>> [27]\n",
      "AFTER ([98], [27])\n",
      "I J >> (1, 1)(0, 0)\n",
      "Merged [27]\n",
      "Merged remaining [27, 98]\n",
      "AFTER ([62, 80], [27, 98])\n",
      "I J >> (2, 2)(0, 0)\n",
      "Merged [27]\n",
      "I J >> (2, 2)(0, 1)\n",
      "Merged [27, 62]\n",
      "I J >> (2, 2)(1, 1)\n",
      "Merged [27, 62, 80]\n",
      "Merged remaining [27, 62, 80, 98]\n",
      "AFTER ([13, 50, 65, 70], [27, 62, 80, 98])\n",
      "I J >> (4, 4)(0, 0)\n",
      "Merged [13]\n",
      "I J >> (4, 4)(1, 0)\n",
      "Merged [13, 27]\n",
      "I J >> (4, 4)(1, 1)\n",
      "Merged [13, 27, 50]\n",
      "I J >> (4, 4)(2, 1)\n",
      "Merged [13, 27, 50, 62]\n",
      "I J >> (4, 4)(2, 2)\n",
      "Merged [13, 27, 50, 62, 65]\n",
      "I J >> (4, 4)(3, 2)\n",
      "Merged [13, 27, 50, 62, 65, 70]\n",
      "Merged remaining [13, 27, 50, 62, 65, 70, 80, 98]\n",
      "[13, 27, 50, 62, 65, 70, 80, 98]\n"
     ]
    }
   ],
   "source": [
    "def merge_sort(arr):\n",
    "    if len(arr) <= 1:\n",
    "        print(\"<<<<>>>>\", arr)\n",
    "        return arr\n",
    "    count = 0 \n",
    "    mid = len(arr)//2\n",
    "    print(mid, len(arr))\n",
    "    left = arr[:mid]\n",
    "    right = arr[mid:]\n",
    "    count+=1\n",
    "    print(\"CALL \",count , left, right)\n",
    "    left = merge_sort(left)\n",
    "    print(\"-----\")\n",
    "    right = merge_sort(right)\n",
    "    print(f\"AFTER {left, right}\")\n",
    "    return merge(left, right) \n",
    "\n",
    "def merge(left, right):\n",
    "    merged = []\n",
    "    i = j = 0\n",
    "\n",
    "    while i < len(left) and j < len(right):\n",
    "        print(f'I J >> {len(left), len(right)}{i,j}')\n",
    "        if left[i] <= right[j]:\n",
    "            merged.append(left[i])\n",
    "            i += 1\n",
    "        else:\n",
    "            merged.append(right[j])\n",
    "            j += 1\n",
    "        print(f\"Merged {merged}\")\n",
    "\n",
    "    while i < len(left):\n",
    "        merged.append(left[i])\n",
    "        i += 1\n",
    "    \n",
    "    while j < len(right):\n",
    "        merged.append(right[j])\n",
    "        j += 1\n",
    "\n",
    "    print(f\"Merged remaining {merged}\")\n",
    "    \n",
    "    return merged\n",
    "\n",
    "\n",
    "arr = [50,70,65,13,80,62,98,27]\n",
    "sorted_list = merge_sort(arr) \n",
    "\n",
    "print(sorted_list)"
   ]
  },
  {
   "attachments": {},
   "cell_type": "markdown",
   "metadata": {},
   "source": [
    "7. Write a Python program to find the GCD (Greatest Common Divisor) of two\n",
    "numbers.\n"
   ]
  },
  {
   "cell_type": "code",
   "execution_count": 20,
   "metadata": {},
   "outputs": [
    {
     "name": "stdout",
     "output_type": "stream",
     "text": [
      "GCD:  12\n"
     ]
    }
   ],
   "source": [
    "def gcd(a, b):\n",
    "    while b != 0:\n",
    "        temp = b\n",
    "        b = a % b\n",
    "        a = temp\n",
    "    return a\n",
    "\n",
    "num1 = 24\n",
    "num2 = 36\n",
    "\n",
    "result = gcd(num1,num2)\n",
    "print(f\"GCD: \",result)"
   ]
  },
  {
   "attachments": {},
   "cell_type": "markdown",
   "metadata": {},
   "source": [
    "8. Write a Python program to find the second-largest element in a list.\n"
   ]
  },
  {
   "cell_type": "code",
   "execution_count": 31,
   "metadata": {},
   "outputs": [
    {
     "name": "stdout",
     "output_type": "stream",
     "text": [
      "Second largest element: 53\n"
     ]
    }
   ],
   "source": [
    "def second_largest(lst):\n",
    "    if len(lst) < 2:\n",
    "        return lst\n",
    "    largest = float('-inf')\n",
    "    second_largest = float('-inf')\n",
    "    \n",
    "    for num in lst:\n",
    "        if num > largest:\n",
    "            second_largest = largest\n",
    "            largest = num\n",
    "        elif num > second_largest and num != largest:\n",
    "            second_largest = num\n",
    "\n",
    "    if second_largest != float('-inf'):\n",
    "        print(\"Second largest element:\", second_largest)\n",
    "    else:\n",
    "        print(\"There is no second largest element\")\n",
    "\n",
    "\n",
    "second_largest([12,4,3,1,534,22,53])"
   ]
  },
  {
   "attachments": {},
   "cell_type": "markdown",
   "metadata": {},
   "source": [
    "9. Write a Python program to find the longest common subsequence between two\n",
    "strings using dynamic programming"
   ]
  },
  {
   "cell_type": "code",
   "execution_count": 47,
   "metadata": {},
   "outputs": [
    {
     "name": "stdout",
     "output_type": "stream",
     "text": [
      "[[0, 0, 0, 0, 0, 0, 0, 0], [0, 0, 0, 0, 0, 1, 1, 1], [0, 1, 1, 1, 1, 1, 1, 1], [0, 1, 1, 1, 1, 1, 1, 1], [0, 1, 1, 2, 2, 2, 2, 2], [0, 1, 1, 2, 2, 3, 3, 3], [0, 1, 1, 2, 2, 3, 3, 4]]\n",
      "4\n",
      "['', '', '', '']\n",
      "Longest Common Subsequence: GTAB\n"
     ]
    }
   ],
   "source": [
    "def longest_common_subsequence(str1, str2):\n",
    "    m = len(str1)\n",
    "    n = len(str2)\n",
    "\n",
    "    # Create a table to store the lengths of LCS\n",
    "    table = [[0] * (n + 1) for _ in range(m + 1)]\n",
    "    \n",
    "    # Build the table in a bottom-up manner\n",
    "    for i in range(1, m + 1):\n",
    "        for j in range(1, n + 1):\n",
    "            if str1[i - 1] == str2[j - 1]:\n",
    "                table[i][j] = table[i - 1][j - 1] + 1\n",
    "            else:\n",
    "                table[i][j] = max(table[i - 1][j], table[i][j - 1])\n",
    "    print(table)\n",
    "    # Retrieve the LCS from the table\n",
    "    lcs_length = table[m][n]\n",
    "    lcs = [''] * lcs_length\n",
    "    print(lcs_length)\n",
    "    print(lcs)\n",
    "    i = m\n",
    "    j = n\n",
    "    while i > 0 and j > 0:\n",
    "        if str1[i - 1] == str2[j - 1]:\n",
    "            lcs[lcs_length - 1] = str1[i - 1]\n",
    "            i -= 1\n",
    "            j -= 1\n",
    "            lcs_length -= 1\n",
    "        elif table[i - 1][j] > table[i][j - 1]:\n",
    "            i -= 1\n",
    "        else:\n",
    "            j -= 1\n",
    "    \n",
    "    return ''.join(lcs)\n",
    "\n",
    "# Example usage\n",
    "str1 = \"AGGTAB\"\n",
    "str2 = \"GXTXAYB\"\n",
    "\n",
    "result = longest_common_subsequence(str1, str2)\n",
    "print(\"Longest Common Subsequence:\", result)\n"
   ]
  },
  {
   "cell_type": "code",
   "execution_count": null,
   "metadata": {},
   "outputs": [],
   "source": []
  }
 ],
 "metadata": {
  "kernelspec": {
   "display_name": "base",
   "language": "python",
   "name": "python3"
  },
  "language_info": {
   "codemirror_mode": {
    "name": "ipython",
    "version": 3
   },
   "file_extension": ".py",
   "mimetype": "text/x-python",
   "name": "python",
   "nbconvert_exporter": "python",
   "pygments_lexer": "ipython3",
   "version": "3.9.12"
  },
  "orig_nbformat": 4
 },
 "nbformat": 4,
 "nbformat_minor": 2
}
