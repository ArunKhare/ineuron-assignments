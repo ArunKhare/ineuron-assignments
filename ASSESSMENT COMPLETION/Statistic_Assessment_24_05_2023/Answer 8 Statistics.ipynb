{
 "cells": [
  {
   "cell_type": "code",
   "execution_count": 1,
   "metadata": {},
   "outputs": [
    {
     "data": {
      "text/plain": [
       "WilcoxonResult(statistic=0.0, pvalue=0.001953125)"
      ]
     },
     "execution_count": 1,
     "metadata": {},
     "output_type": "execute_result"
    }
   ],
   "source": [
    "from scipy import stats\n",
    "\n",
    "difference = [-3,-2,-2,-3,-1,-1,-2,-1,-2,-2]\n",
    "participant = [1,2,3,4,5,6,7,8,9,10]\n",
    "stats.wilcoxon(x=difference)"
   ]
  },
  {
   "cell_type": "markdown",
   "metadata": {},
   "source": [
    "Tnull hypothesis = There is no significant difference between anxiety levels before and after the therapy. It assumes that the therapy has no effect on anxiety levels.\n",
    "\n",
    "The p-value represents the probability of obtaining the observed test statistic or a more extreme value under the null hypothesis. In this case, the p-value of 0.001953125 is less than the significance level of 0.05, suggesting strong evidence to reject the null hypothesis. Therefore, we can conclude that there is a significant effect of the therapy on anxiety levels based on the Wilcoxon signed-rank test."
   ]
  }
 ],
 "metadata": {
  "kernelspec": {
   "display_name": "base",
   "language": "python",
   "name": "python3"
  },
  "language_info": {
   "codemirror_mode": {
    "name": "ipython",
    "version": 3
   },
   "file_extension": ".py",
   "mimetype": "text/x-python",
   "name": "python",
   "nbconvert_exporter": "python",
   "pygments_lexer": "ipython3",
   "version": "3.9.12"
  },
  "orig_nbformat": 4
 },
 "nbformat": 4,
 "nbformat_minor": 2
}
