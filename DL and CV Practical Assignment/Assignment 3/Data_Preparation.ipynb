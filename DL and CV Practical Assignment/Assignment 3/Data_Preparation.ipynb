{
 "cells": [
  {
   "cell_type": "code",
   "execution_count": 2,
   "metadata": {},
   "outputs": [],
   "source": [
    "import os\n",
    "import numpy as np\n",
    "import tensorflow as tf"
   ]
  },
  {
   "cell_type": "code",
   "execution_count": 9,
   "metadata": {},
   "outputs": [
    {
     "data": {
      "text/plain": [
       "(120,\n",
       " array(['Afghan_hound', 'African_hunting_dog', 'Airedale',\n",
       "        'American_Staffordshire_terrier', 'Appenzeller',\n",
       "        'Australian_terrier', 'Bedlington_terrier', 'Bernese_mountain_dog',\n",
       "        'Blenheim_spaniel', 'Border_collie'], dtype='<U30'))"
      ]
     },
     "execution_count": 9,
     "metadata": {},
     "output_type": "execute_result"
    }
   ],
   "source": [
    "unique_breeds = []\n",
    "for folders in os.listdir(\"Images\"):\n",
    "    breed = \"\".join(folders.split(\"-\")[1:])\n",
    "    unique_breeds.append(breed)\n",
    "unique_breeds = np.array(sorted(unique_breeds))\n",
    "len(unique_breeds),unique_breeds[:10]"
   ]
  },
  {
   "cell_type": "code",
   "execution_count": 14,
   "metadata": {},
   "outputs": [
    {
     "ename": "ModuleNotFoundError",
     "evalue": "No module named 'cv2'",
     "output_type": "error",
     "traceback": [
      "\u001b[1;31m---------------------------------------------------------------------------\u001b[0m",
      "\u001b[1;31mModuleNotFoundError\u001b[0m                       Traceback (most recent call last)",
      "\u001b[1;32mc:\\Users\\arunk\\Assignments\\DL and CV Practical Assignment\\Assignment 3\\Data_Preparation.ipynb Cell 3\u001b[0m in \u001b[0;36m<cell line: 3>\u001b[1;34m()\u001b[0m\n\u001b[0;32m      <a href='vscode-notebook-cell:/c%3A/Users/arunk/Assignments/DL%20and%20CV%20Practical%20Assignment/Assignment%203/Data_Preparation.ipynb#W1sZmlsZQ%3D%3D?line=0'>1</a>\u001b[0m \u001b[39m# DataPipeline\u001b[39;00m\n\u001b[1;32m----> <a href='vscode-notebook-cell:/c%3A/Users/arunk/Assignments/DL%20and%20CV%20Practical%20Assignment/Assignment%203/Data_Preparation.ipynb#W1sZmlsZQ%3D%3D?line=2'>3</a>\u001b[0m \u001b[39mimport\u001b[39;00m \u001b[39mcv2\u001b[39;00m\n\u001b[0;32m      <a href='vscode-notebook-cell:/c%3A/Users/arunk/Assignments/DL%20and%20CV%20Practical%20Assignment/Assignment%203/Data_Preparation.ipynb#W1sZmlsZQ%3D%3D?line=4'>5</a>\u001b[0m img1 \u001b[39m=\u001b[39m \u001b[39m\"\u001b[39m\u001b[39m./Images\u001b[39m\u001b[39m\\n\u001b[39;00m\u001b[39m02085620-Chihuahua\u001b[39m\u001b[39m\\n\u001b[39;00m\u001b[39m02085620_7.jpg\u001b[39m\u001b[39m\"\u001b[39m\n\u001b[0;32m      <a href='vscode-notebook-cell:/c%3A/Users/arunk/Assignments/DL%20and%20CV%20Practical%20Assignment/Assignment%203/Data_Preparation.ipynb#W1sZmlsZQ%3D%3D?line=5'>6</a>\u001b[0m img \u001b[39m=\u001b[39m cv2\u001b[39m.\u001b[39mimread(img1)\n",
      "\u001b[1;31mModuleNotFoundError\u001b[0m: No module named 'cv2'"
     ]
    }
   ],
   "source": [
    "# DataPipeline\n",
    "\n",
    "import cv2\n",
    "\n",
    "img1 = \"./Images\\n02085620-Chihuahua\\n02085620_7.jpg\"\n",
    "img = cv2.imread(img1)"
   ]
  },
  {
   "cell_type": "markdown",
   "metadata": {},
   "source": [
    "leetcode & hackerrank\n"
   ]
  },
  {
   "cell_type": "code",
   "execution_count": null,
   "metadata": {},
   "outputs": [],
   "source": [
    "IMG_SIZE= 224\n",
    "BATCH_SIZE = 32"
   ]
  }
 ],
 "metadata": {
  "kernelspec": {
   "display_name": "Python 3.9.0 ('localTensorflow')",
   "language": "python",
   "name": "python3"
  },
  "language_info": {
   "codemirror_mode": {
    "name": "ipython",
    "version": 3
   },
   "file_extension": ".py",
   "mimetype": "text/x-python",
   "name": "python",
   "nbconvert_exporter": "python",
   "pygments_lexer": "ipython3",
   "version": "3.9.0"
  },
  "orig_nbformat": 4,
  "vscode": {
   "interpreter": {
    "hash": "f628d50fe1f73287dcab126715da5413b4c58ffc2680b6c68f23460ddcbc49dc"
   }
  }
 },
 "nbformat": 4,
 "nbformat_minor": 2
}
