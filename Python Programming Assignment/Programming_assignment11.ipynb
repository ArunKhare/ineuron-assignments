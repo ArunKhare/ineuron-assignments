{
 "cells": [
  {
   "cell_type": "code",
   "execution_count": null,
   "id": "232e5304",
   "metadata": {},
   "outputs": [],
   "source": [
    "1. Write a Python program to find words which are greater than given length k?\n",
    "2. Write a Python program for removing i-th character from a string?\n",
    "3. Write a Python program to split and join a string?\n",
    "4. Write a Python to check if a given string is binary string or not?\n",
    "5. Write a Python program to find uncommon words from two Strings?\n",
    "6. Write a Python to find all duplicate characters in string?\n",
    "7. Write a Python Program to check if a string contains any special character?"
   ]
  },
  {
   "cell_type": "code",
   "execution_count": 16,
   "id": "09e8deec",
   "metadata": {},
   "outputs": [
    {
     "name": "stdout",
     "output_type": "stream",
     "text": [
      "Words > length 4 in \"Program to find words which are greater than given length\" \n",
      " ['Program', 'words', 'which', 'greater', 'given', 'length']\n"
     ]
    }
   ],
   "source": [
    "# 1. Write a Python program to find words which are greater than given length k?\n",
    "s = \"Program to find words which are greater than given length\"\n",
    "def wordsGreaterthan(s,n):\n",
    "    wordList= s.split(\" \")\n",
    "    wordsgtthan =[]\n",
    "    for i in wordList:\n",
    "        if len(i)>n:\n",
    "            wordsgtthan.append(i)\n",
    "    print(f'Words > length {n} in \"{s}\" \\n {wordsgtthan}')\n",
    "\n",
    "wordsGreaterthan(s,4)      "
   ]
  },
  {
   "cell_type": "code",
   "execution_count": 28,
   "id": "44e615f2",
   "metadata": {},
   "outputs": [
    {
     "name": "stdout",
     "output_type": "stream",
     "text": [
      "Program to fnd words which are greater than given length\n",
      "Prgram to find words which are greater than given length\n"
     ]
    }
   ],
   "source": [
    "# 2. Write a Python program for removing i-th character from a string?\n",
    "def remove_char(s,n):\n",
    "    \n",
    "    new_str =\"\"\n",
    "    for i in range(len(s)):\n",
    "        if i != n:\n",
    "            new_str +=  s[i]\n",
    "    print(new_str)\n",
    "    \n",
    "    new_str1 = ''.join([s[i] for i in range(len(s)) if i != 2])\n",
    "    print(new_str1)    \n",
    "\n",
    "remove_char(s,12)"
   ]
  },
  {
   "cell_type": "code",
   "execution_count": 44,
   "id": "df7065d2",
   "metadata": {},
   "outputs": [
    {
     "name": "stdout",
     "output_type": "stream",
     "text": [
      "old_string : Program to find words which are greater than given length\n",
      "split strings: 1. Program to f 2. ind words which are greater than given length\n",
      "Program to f<-||->ind words which are greater than given length\n"
     ]
    }
   ],
   "source": [
    "# 3. Write a Python program to split and join a string?\n",
    "def split_join(s,n):\n",
    "    \n",
    "    print(f\"old_string : {s}\")\n",
    "    str1 = s[:n]\n",
    "    str2 = s[n:]\n",
    "    print(f\"split strings: 1. {str1} 2. {str2}\")\n",
    "    seq =(str1,str2)\n",
    "    new_str = \"<-||->\".join(seq)\n",
    "    print(new_str)\n",
    "split_join(s,12)"
   ]
  },
  {
   "cell_type": "code",
   "execution_count": 46,
   "id": "9bc234cc",
   "metadata": {},
   "outputs": [
    {
     "data": {
      "text/plain": [
       "'No'"
      ]
     },
     "execution_count": 46,
     "metadata": {},
     "output_type": "execute_result"
    }
   ],
   "source": [
    "# 4. Write a Python to check if a given string is binary string or not?\n",
    "def check(string):\n",
    "    try:\n",
    "        # this will raise value error if\n",
    "        # string is not of base 2\n",
    "        int(string, 2)\n",
    "    except ValueError:\n",
    "        return \"No\"\n",
    "    return \"Yes\n",
    "check(s)"
   ]
  },
  {
   "cell_type": "code",
   "execution_count": 48,
   "id": "6da0a15f",
   "metadata": {},
   "outputs": [
    {
     "data": {
      "text/plain": [
       "{'ANY',\n",
       " 'Are',\n",
       " 'Did',\n",
       " 'Words',\n",
       " 'any',\n",
       " 'find',\n",
       " 'found',\n",
       " 'out',\n",
       " 'their',\n",
       " 'then',\n",
       " 'words,',\n",
       " 'you'}"
      ]
     },
     "execution_count": 48,
     "metadata": {},
     "output_type": "execute_result"
    }
   ],
   "source": [
    "# 5. Write a Python program to find uncommon words from two Strings?\n",
    "\n",
    "def uncommon(a,b):\n",
    "    a=a.split()\n",
    "    b=b.split()\n",
    "    k=set(a).symmetric_difference(set(b))\n",
    "    return k\n",
    "\n",
    "str1 =\" Are their any common words, then find out\"\n",
    "str2 =\" Did you found ANY common Words\"\n",
    "uncommon(str1,str2)\n"
   ]
  },
  {
   "cell_type": "code",
   "execution_count": 68,
   "id": "d3f6fe86",
   "metadata": {},
   "outputs": [
    {
     "name": "stdout",
     "output_type": "stream",
     "text": [
      "[' ', 'r', 'e', 't', 'h', 'i', 'n', 'o', 'm', 'd']\n"
     ]
    }
   ],
   "source": [
    "# 6. Write a Python to find all duplicate characters in string?\n",
    "def dup_char(a):\n",
    "    duplicates = []\n",
    "    for char in a:\n",
    "        if a.count(char)>1:\n",
    "            if char not in duplicates:\n",
    "                duplicates.append(char)\n",
    "    print(duplicates)\n",
    "dup_char(str1)    "
   ]
  },
  {
   "cell_type": "code",
   "execution_count": 92,
   "id": "dac7d00d",
   "metadata": {},
   "outputs": [
    {
     "name": "stdout",
     "output_type": "stream",
     "text": [
      "Object `character` not found.\n",
      "Special characters found ['!', '!', '#', '(', '<', '>', ')', ':']\n"
     ]
    }
   ],
   "source": [
    "# 7. Write a Python Program to check if a string contains any special character?\n",
    "import re\n",
    "def checkSpecialChar(s):\n",
    "    special_char = re.compile('[@_!#$%^&*()<>?/\\|}{~:]')\n",
    "    chars = special_char.findall(st)\n",
    "    print(f'Special characters found {chars}')   \n",
    "checkSpecialChar(st)    "
   ]
  },
  {
   "cell_type": "code",
   "execution_count": null,
   "id": "bd58038c",
   "metadata": {},
   "outputs": [],
   "source": [
    "\n"
   ]
  },
  {
   "cell_type": "code",
   "execution_count": null,
   "id": "ff0ea6e0",
   "metadata": {},
   "outputs": [],
   "source": []
  }
 ],
 "metadata": {
  "kernelspec": {
   "display_name": "Python 3 (ipykernel)",
   "language": "python",
   "name": "python3"
  },
  "language_info": {
   "codemirror_mode": {
    "name": "ipython",
    "version": 3
   },
   "file_extension": ".py",
   "mimetype": "text/x-python",
   "name": "python",
   "nbconvert_exporter": "python",
   "pygments_lexer": "ipython3",
   "version": "3.9.12"
  }
 },
 "nbformat": 4,
 "nbformat_minor": 5
}
