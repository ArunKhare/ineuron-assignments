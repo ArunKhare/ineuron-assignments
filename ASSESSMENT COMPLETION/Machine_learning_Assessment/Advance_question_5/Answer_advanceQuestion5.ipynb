{
 "cells": [
  {
   "cell_type": "markdown",
   "metadata": {},
   "source": [
    "Take any 3 questions and deploy them to AWS using Circle-CI and show a\n",
    "demo link"
   ]
  }
 ],
 "metadata": {
  "language_info": {
   "name": "python"
  },
  "orig_nbformat": 4
 },
 "nbformat": 4,
 "nbformat_minor": 2
}
