{
 "cells": [
  {
   "cell_type": "code",
   "execution_count": null,
   "id": "68557545",
   "metadata": {},
   "outputs": [],
   "source": [
    "Question 1:\n",
    "Please write a program using generator to print the numbers which can be divisible by 5 and\n",
    "7 between 0 and n in comma separated form while n is input by console.\n",
    "Example:\n",
    "If the following n is given as input to the program:\n",
    "100\n",
    "Then, the output of the program should be:\n",
    "0,35,70\n",
    "\n",
    "Question 2:\n",
    "Please write a program using generator to print the even numbers between 0 and n in comma\n",
    "separated form while n is input by console.\n",
    "Example:\n",
    "If the following n is given as input to the program:\n",
    "10\n",
    "Then, the output of the program should be:\n",
    "0,2,4,6,8,10\n",
    "\n",
    "Question 3:\n",
    "The Fibonacci Sequence is computed based on the following formula:\n",
    "f(n)=0 if n=0\n",
    "f(n)=1 if n=1\n",
    "f(n)=f(n-1)+f(n-2) if n&gt;1\n",
    "Please write a program using list comprehension to print the Fibonacci Sequence in comma\n",
    "separated form with a given n input by console.\n",
    "Example:\n",
    "If the following n is given as input to the program:\n",
    "7\n",
    "\n",
    "Then, the output of the program should be:\n",
    "0,1,1,2,3,5,8,13\n",
    "\n",
    "Question 4:\n",
    "Assuming that we have some email addresses in the &quot;username@companyname.com&quot; format,\n",
    "please write program to print the user name of a given email address. Both user names and\n",
    "company names are composed of letters only.\n",
    "Example:\n",
    "If the following email address is given as input to the program:\n",
    "john@google.com\n",
    "Then, the output of the program should be:\n",
    "john\n",
    "\n",
    "Question 5:\n",
    "Define a class named Shape and its subclass Square. The Square class has an init function\n",
    "which takes a length as argument. Both classes have a area function which can print the area\n",
    "of the shape where Shape&#39;s area is 0 by default."
   ]
  },
  {
   "cell_type": "markdown",
   "id": "f634f2ea",
   "metadata": {},
   "source": [
    "Question 1:\n",
    "Please write a program using generator to print the numbers which can be divisible by 5 and\n",
    "7 between 0 and n in comma separated form while n is input by console.\n",
    "Example:\n",
    "If the following n is given as input to the program:\n",
    "100\n",
    "Then, the output of the program should be:\n",
    "0,35,70\n"
   ]
  },
  {
   "cell_type": "code",
   "execution_count": 3,
   "id": "1fd99a01",
   "metadata": {},
   "outputs": [
    {
     "name": "stdout",
     "output_type": "stream",
     "text": [
      "0 35 70 "
     ]
    }
   ],
   "source": [
    "def NumGen(n):\n",
    "     \n",
    "    # iterate from 0 to N\n",
    "    for j in range(0, n+1):\n",
    " \n",
    "        # Short-circuit operator is used\n",
    "        if j % 5 == 0 and j % 7 == 0:\n",
    "            yield j\n",
    " \n",
    "# Driver code\n",
    "if __name__ == \"__main__\":\n",
    "       \n",
    "    # input goes here\n",
    "    N = 50\n",
    " \n",
    "    # Iterating over generator function\n",
    "    for j in NumGen(100):\n",
    "        print(j, end = \" \")"
   ]
  },
  {
   "cell_type": "code",
   "execution_count": 67,
   "id": "56ababbc",
   "metadata": {},
   "outputs": [
    {
     "name": "stdout",
     "output_type": "stream",
     "text": [
      "0 0\n",
      "1 35\n",
      "2 70\n"
     ]
    }
   ],
   "source": [
    "class gen:\n",
    "    def __init__(self,n):\n",
    "        self.n = n\n",
    "    def __iter__(self):\n",
    "        for j in range(0,self.n+1):\n",
    "            if j % 5 == 0 and j % 7 == 0:\n",
    "                yield j\n",
    "      \n",
    "                \n",
    "N = 100\n",
    "num =gen(N) \n",
    "for i,value in enumerate(num):\n",
    "    print(i , value)\n",
    "    if i>100:\n",
    "        break\n"
   ]
  },
  {
   "cell_type": "markdown",
   "id": "0eaaac1f",
   "metadata": {},
   "source": [
    "Question 2:\n",
    "Please write a program using generator to print the even numbers between 0 and n in comma\n",
    "separated form while n is input by console.\n",
    "Example:\n",
    "If the following n is given as input to the program:\n",
    "10\n",
    "Then, the output of the program should be:\n",
    "0,2,4,6,8,10"
   ]
  },
  {
   "cell_type": "code",
   "execution_count": 130,
   "id": "a3a644f9",
   "metadata": {},
   "outputs": [
    {
     "name": "stdout",
     "output_type": "stream",
     "text": [
      "0,2,4,6,8,10,12,14,16,18,20,22,24,26,28,30,32,34,36,38,40,42,44,46,48,50,52,54,56,58,60,62,64,66,68,70,72,74,76,78,80,82,84,86,88,90,92,94,96,98,"
     ]
    }
   ],
   "source": [
    "def gen1(n):\n",
    "    for i in range(n):\n",
    "        if i%2 ==0:\n",
    "            yield i     \n",
    "n= 100\n",
    "g1 = gen1(n)\n",
    "for x in g1:\n",
    "    print(x, end =\",\")"
   ]
  },
  {
   "cell_type": "code",
   "execution_count": 166,
   "id": "8f35bc18",
   "metadata": {},
   "outputs": [
    {
     "name": "stdout",
     "output_type": "stream",
     "text": [
      "2,4,6,8,10,12,14,16,18,20,22,24,26,28,30,32,34,36,38,40,42,44,46,48,50,52,54,56,58,60,62,64,66,68,70,72,74,76,78,80,82,84,86,88,90,92,94,96,98,"
     ]
    }
   ],
   "source": [
    "# using return statement \n",
    "class gen2:\n",
    "    def __init__(self,n):\n",
    "        self.n = n\n",
    "        self._ix = None\n",
    "    def __iter__(self):\n",
    "        return self\n",
    "    def __next__(self):\n",
    "        if self._ix is None:\n",
    "            self._ix=0\n",
    "        try:\n",
    "            item = self.n[self._ix]\n",
    "            self._ix+=1\n",
    "            if item%2 == 0:\n",
    "                return item\n",
    "        except IndexError:\n",
    "            raise StopIteration\n",
    "        \n",
    "       \n",
    "n= 100\n",
    "g2 = gen2(range(n))\n",
    "for i in range(n):\n",
    "    even = next(g2)\n",
    "    if even:\n",
    "        print(even,end=\",\")"
   ]
  },
  {
   "cell_type": "markdown",
   "id": "65671f8c",
   "metadata": {},
   "source": [
    "Question 3:\n",
    "The Fibonacci Sequence is computed based on the following formula:\n",
    "f(n)=0 if n=0\n",
    "f(n)=1 if n=1\n",
    "f(n)=f(n-1)+f(n-2) if n&gt;1\n",
    "Please write a program using list comprehension to print the Fibonacci Sequence in comma\n",
    "separated form with a given n input by console.\n",
    "Example:\n",
    "If the following n is given as input to the program:\n",
    "7\n",
    "Then, the output of the program should be:\n",
    "0,1,1,2,3,5,8,13"
   ]
  },
  {
   "cell_type": "code",
   "execution_count": 231,
   "id": "f9c1eb6b",
   "metadata": {},
   "outputs": [
    {
     "name": "stdout",
     "output_type": "stream",
     "text": [
      "0,1,1,2,3,5,8,13,"
     ]
    }
   ],
   "source": [
    "def fibno(n):\n",
    "    start=0\n",
    "    second =start+1\n",
    "    print(start,end=\",\")\n",
    "    while n>=1:\n",
    "        start,second =start+second,start\n",
    "        print(start, end=',')\n",
    "        n-=1\n",
    "        \n",
    "fibno(7)"
   ]
  },
  {
   "cell_type": "markdown",
   "id": "468d8aae",
   "metadata": {},
   "source": [
    "Question 4:\n",
    "Assuming that we have some email addresses in the &quot;username@companyname.com&quot; format,\n",
    "please write program to print the user name of a given email address. Both user names and\n",
    "company names are composed of letters only.\n",
    "Example:\n",
    "If the following email address is given as input to the program:\n",
    "john@google.com\n",
    "Then, the output of the program should be:\n",
    "john\n"
   ]
  },
  {
   "cell_type": "code",
   "execution_count": 240,
   "id": "f156c9e8",
   "metadata": {},
   "outputs": [
    {
     "data": {
      "text/plain": [
       "'john'"
      ]
     },
     "execution_count": 240,
     "metadata": {},
     "output_type": "execute_result"
    }
   ],
   "source": [
    "import re\n",
    "email = \"john@google.com\"\n",
    "name = re.search(r\"^[A-za-z]+\", email)\n",
    "name.group()\n"
   ]
  },
  {
   "cell_type": "markdown",
   "id": "7c400401",
   "metadata": {},
   "source": [
    "Question 5:\n",
    "Define a class named Shape and its subclass Square. The Square class has an init function\n",
    "which takes a length as argument. Both classes have a area function which can print the area\n",
    "of the shape where Shape&#39;s area is 0 by default."
   ]
  },
  {
   "cell_type": "code",
   "execution_count": 260,
   "id": "40ebeded",
   "metadata": {},
   "outputs": [],
   "source": [
    "class shape:\n",
    "    def __init__(self):\n",
    "        self._area = 0\n",
    "    def carea(self):\n",
    "        pass\n",
    "    \n",
    "class square(shape):\n",
    "    def __init__(self,length):\n",
    "        self.length = length\n",
    "        super().__init__()\n",
    "    def area(self):\n",
    "        self._area =self.length**2\n",
    "        return self._area"
   ]
  },
  {
   "cell_type": "code",
   "execution_count": 261,
   "id": "99b31d03",
   "metadata": {},
   "outputs": [
    {
     "data": {
      "text/plain": [
       "100"
      ]
     },
     "execution_count": 261,
     "metadata": {},
     "output_type": "execute_result"
    }
   ],
   "source": [
    "a=square(10)\n",
    "a.area()"
   ]
  },
  {
   "cell_type": "code",
   "execution_count": null,
   "id": "0a5d5632",
   "metadata": {},
   "outputs": [],
   "source": []
  }
 ],
 "metadata": {
  "kernelspec": {
   "display_name": "Python 3 (ipykernel)",
   "language": "python",
   "name": "python3"
  },
  "language_info": {
   "codemirror_mode": {
    "name": "ipython",
    "version": 3
   },
   "file_extension": ".py",
   "mimetype": "text/x-python",
   "name": "python",
   "nbconvert_exporter": "python",
   "pygments_lexer": "ipython3",
   "version": "3.9.12"
  }
 },
 "nbformat": 4,
 "nbformat_minor": 5
}
