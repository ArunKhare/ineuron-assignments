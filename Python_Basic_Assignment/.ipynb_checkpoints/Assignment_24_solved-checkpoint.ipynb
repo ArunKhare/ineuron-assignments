{
 "cells": [
  {
   "cell_type": "markdown",
   "id": "e76c392d",
   "metadata": {},
   "source": [
    "1. What is the relationship between def statements and lambda expressions ?"
   ]
  },
  {
   "cell_type": "markdown",
   "id": "b93a78ec",
   "metadata": {},
   "source": [
    "both are function to execute a code. \n",
    "Lamdba is a n anonymous functiona, where as def statement requires a name\n",
    "being a function they return the values\n"
   ]
  },
  {
   "cell_type": "markdown",
   "id": "a46f94f9",
   "metadata": {},
   "source": [
    "2. What is the benefit of lambda?"
   ]
  },
  {
   "cell_type": "markdown",
   "id": "4ebf96f9",
   "metadata": {},
   "source": [
    "Short Duration Functions:\n",
    "If you need a function but only for a short time—a function that gets used several times on initialization but not afterwards\n",
    "Filtering with the filter() Function:\n",
    "The filter() function, combined with a lambda function, allows you to easily filter through a list. In this usage, your lambda function would return a boolean value that signifies if an item is to be kept. \n",
    "The filter() function then returns a list of those items which returned true.\n",
    "Making Use of the map() Function:\n",
    "In a similar vein to filter(), the map() function allows you to apply expressions or operators to every item in a sequence, such as a list. \n",
    "Lambda keyword in Python provides a shortcut for declaring small anonymous functions.\n",
    "Any time you’re expected to supply a function object you can use a lambda expression.\n",
    "Execution time of the program is fast for the same operation\n",
    "Defined using the keyword lambda and does not compulsorily hold a function name in the local namespace\n",
    "First and foremost, a lambda function can only execute a single expression.\n"
   ]
  },
  {
   "cell_type": "markdown",
   "id": "1b7f3396",
   "metadata": {},
   "source": [
    "3. Compare and contrast map, filter, and reduce."
   ]
  },
  {
   "cell_type": "markdown",
   "id": "b8b18d5d",
   "metadata": {},
   "source": [
    "Functional programming’s three pillars are map, filter, and reduce functions\n",
    "These are functions that take a function as a parameter and return a function as the result\n",
    "They each take a function and a list of elements, and then return the result of applying the function to each element in the list.\n",
    "SYNTAX: map(function, iterables)\n",
    "SYNTAX: filter (function, iterables)\n",
    "SYNTAX: reduce(function, iterables)\n",
    "The map() provides output after applying the function to each iterable in the sequence. \n",
    "The filter() function is used to generate an output list of values that return true when the function is called\n",
    "The reduce() function applies a provided function to ‘iterables’ and returns a single value, as the name implies."
   ]
  },
  {
   "cell_type": "code",
   "execution_count": 2,
   "id": "5c3275e8",
   "metadata": {},
   "outputs": [
    {
     "name": "stdout",
     "output_type": "stream",
     "text": [
      "<map object at 0x000001C138D24BB0>\n",
      "{16, 1, 4, 9}\n"
     ]
    }
   ],
   "source": [
    "def function(a):\n",
    "    return a*a\n",
    "x = map(function, (1,2,3,4))  #x is the map object\n",
    "print(x)\n",
    "print(set(x))"
   ]
  },
  {
   "cell_type": "code",
   "execution_count": 3,
   "id": "db85f4a9",
   "metadata": {},
   "outputs": [
    {
     "name": "stdout",
     "output_type": "stream",
     "text": [
      "(8, 10, 25, 100, 57, 65, 80, 26, 76, 64)\n"
     ]
    }
   ],
   "source": [
    "tup= (5, 7, 22, 97, 54, 62, 77, 23, 73, 61)\n",
    "newtuple = tuple(map(lambda x: x+3 , tup)) \n",
    "print(newtuple)"
   ]
  },
  {
   "cell_type": "code",
   "execution_count": 4,
   "id": "78022f3a",
   "metadata": {},
   "outputs": [
    {
     "name": "stdout",
     "output_type": "stream",
     "text": [
      "<filter object at 0x000001C138D245E0>\n",
      "[3, 4]\n"
     ]
    }
   ],
   "source": [
    "def func(x):\n",
    "    if x>=3:\n",
    "        return x\n",
    "y = filter(func, (1,2,3,4))  \n",
    "print(y)\n",
    "print(list(y))"
   ]
  },
  {
   "cell_type": "code",
   "execution_count": 5,
   "id": "a16db49c",
   "metadata": {},
   "outputs": [
    {
     "name": "stdout",
     "output_type": "stream",
     "text": [
      "[3, 4]\n"
     ]
    }
   ],
   "source": [
    "y = filter(lambda x: (x>=3), (1,2,3,4))\n",
    "print(list(y))"
   ]
  },
  {
   "cell_type": "code",
   "execution_count": 6,
   "id": "7ec94011",
   "metadata": {},
   "outputs": [
    {
     "data": {
      "text/plain": [
       "187"
      ]
     },
     "execution_count": 6,
     "metadata": {},
     "output_type": "execute_result"
    }
   ],
   "source": [
    "from functools import reduce\n",
    "reduce(lambda a,b: a+b,[23,21,45,98])"
   ]
  },
  {
   "cell_type": "markdown",
   "id": "e23781ef",
   "metadata": {},
   "source": [
    "4. What are function annotations, and how are they used?"
   ]
  },
  {
   "cell_type": "markdown",
   "id": "4e4eac74",
   "metadata": {},
   "source": [
    "Function annotations are arbitrary python expressions that are associated with various part of functions. \n",
    "These expressions are evaluated at compile time and have no life in python’s runtime environment. \n",
    "Python does not attach any meaning to these annotations. They take life when interpreted by third party libraries, \n",
    "for example, mypy.\n",
    "The benefits from function annotations can only be reaped via third party libraries. The type of benefits depends upon the type of the library, for example\n",
    "\n",
    "Python supports dynamic typing and hence no module is provided for type checking. Annotations like\n",
    "[def foo(a:”int”, b:”float”=5.0)  -> ”int”]\n",
    " can be used to collect information about the type of the parameters and the return type of the function to keep track of the type change occurring in the function. ‘mypy’ is one such library.\n",
    "\n",
    "String based annotations can be used by the libraries to provide better help messages at compile time regarding the functionalities of various methods, classes and modules.\n"
   ]
  },
  {
   "cell_type": "markdown",
   "id": "3349b08f",
   "metadata": {},
   "source": [
    "5. What are recursive functions, and how are they used?"
   ]
  },
  {
   "cell_type": "markdown",
   "id": "fc1cd366",
   "metadata": {},
   "source": [
    "A recursive function is a function in code that refers to itself for execution. Recursive functions can be simple or elaborate. They allow for more efficient code writing, for instance, in the listing or compiling of sets of numbers, strings or other variables through a single reiterated process\n",
    "a few algorithms, (e.g. merge sort, quick sort, etc…) result in optimal time complexity using recursion.\n",
    "Different Ways of Writing Recursive Functions \n",
    "Function calling itself: (Direct way) \n",
    "Recursion using mutual function call: (Indirect way) \n",
    "Recursion using function pointers: (Indirect way) "
   ]
  },
  {
   "cell_type": "markdown",
   "id": "3be2aeda",
   "metadata": {},
   "source": [
    "6. What are some general design guidelines for coding functions?"
   ]
  },
  {
   "cell_type": "code",
   "execution_count": null,
   "id": "98c3bbc4",
   "metadata": {},
   "outputs": [],
   "source": [
    "Safe: It can be used without causing harm.\n",
    "Secure: It can’t be hacked.\n",
    "Reliable: It functions as it should, every time.\n",
    "Testable: It can be tested at the code level.\n",
    "Maintainable: It can be maintained, even as your codebase grows.\n",
    "Portable: It works the same in every environment."
   ]
  },
  {
   "cell_type": "markdown",
   "id": "76880065",
   "metadata": {},
   "source": [
    "7. Name three or more ways that functions can communicate results to a caller."
   ]
  },
  {
   "cell_type": "markdown",
   "id": "c79d3856",
   "metadata": {},
   "source": [
    "1. By return statement\n",
    "2. Mutable arguments\n",
    "3. Global Variables\n",
    "4. Files and Stream"
   ]
  }
 ],
 "metadata": {
  "kernelspec": {
   "display_name": "Python 3 (ipykernel)",
   "language": "python",
   "name": "python3"
  },
  "language_info": {
   "codemirror_mode": {
    "name": "ipython",
    "version": 3
   },
   "file_extension": ".py",
   "mimetype": "text/x-python",
   "name": "python",
   "nbconvert_exporter": "python",
   "pygments_lexer": "ipython3",
   "version": "3.9.7"
  }
 },
 "nbformat": 4,
 "nbformat_minor": 5
}
