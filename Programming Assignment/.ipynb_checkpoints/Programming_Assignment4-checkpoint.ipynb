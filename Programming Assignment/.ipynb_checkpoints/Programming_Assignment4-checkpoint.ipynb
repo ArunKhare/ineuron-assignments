{
 "cells": [
  {
   "cell_type": "code",
   "execution_count": null,
   "id": "f30054f0",
   "metadata": {},
   "outputs": [],
   "source": [
    "1. Write a Python Program to Find the Factorial of a Number?\n",
    "2. Write a Python Program to Display the multiplication Table?\n",
    "3. Write a Python Program to Print the Fibonacci sequence?\n",
    "4. Write a Python Program to Check Armstrong Number?\n",
    "5. Write a Python Program to Find Armstrong Number in an Interval?\n",
    "6. Write a Python Program to Find the Sum of Natural Numbers?"
   ]
  },
  {
   "cell_type": "code",
   "execution_count": 7,
   "id": "4df16dc3",
   "metadata": {},
   "outputs": [
    {
     "name": "stdout",
     "output_type": "stream",
     "text": [
      "factorial of  3 is 6\n"
     ]
    }
   ],
   "source": [
    "# 1. Write a Python Program to Find the Factorial of a Number?\n",
    "def factorial_num(n):\n",
    "    res = 1\n",
    "    for i in range(2, n+1):\n",
    "        res *= i\n",
    "    return res\n",
    "num = 3   \n",
    "print (\"factorial of \", num,'is', factorial_num(num))"
   ]
  },
  {
   "cell_type": "code",
   "execution_count": 13,
   "id": "37ab3de3",
   "metadata": {},
   "outputs": [
    {
     "name": "stdout",
     "output_type": "stream",
     "text": [
      "4 * 1 = 4\n",
      "4 * 2 = 8\n",
      "4 * 3 = 12\n",
      "4 * 4 = 16\n",
      "4 * 5 = 20\n",
      "4 * 6 = 24\n",
      "4 * 7 = 28\n",
      "4 * 8 = 32\n",
      "4 * 9 = 36\n",
      "4 * 10 = 40\n"
     ]
    }
   ],
   "source": [
    "# 2. Write a Python Program to Display the multiplication Table?\n",
    "def mul_table(n):\n",
    "    for i in range(1,10+1):\n",
    "        print(f'{n} * {i} = {n*i}')\n",
    "mul_table(4)"
   ]
  },
  {
   "cell_type": "code",
   "execution_count": 43,
   "id": "6be245cb",
   "metadata": {},
   "outputs": [
    {
     "name": "stdout",
     "output_type": "stream",
     "text": [
      "Enter the positive number to produce fibo series upto : 10\n",
      "[0, 1, 1, 2, 3, 5, 8, 13]\n"
     ]
    }
   ],
   "source": [
    "# 3. Write a Python Program to Print the Fibonacci sequence?\n",
    "def fibo_num():\n",
    "    fibo_upto = int(input(\"Enter the positive number to produce fibo series upto : \"))\n",
    "    if fibo_upto <0:\n",
    "        return print(\" Negative number entered\")\n",
    "    res=[0,1]\n",
    "    \n",
    "    while True:\n",
    "        fib = res[-1]+res[-2]\n",
    "        res.append(fib)\n",
    "        \n",
    "        if fibo_upto < fib:\n",
    "            break\n",
    "    print( res )\n",
    "fibo_num()"
   ]
  },
  {
   "cell_type": "code",
   "execution_count": 92,
   "id": "779248b0",
   "metadata": {},
   "outputs": [
    {
     "name": "stdout",
     "output_type": "stream",
     "text": [
      "True\n",
      "False\n"
     ]
    }
   ],
   "source": [
    "# 4. Write a Python Program to Check Armstrong Number?\n",
    "\"\"\" the Armstrong number definition is the number in any given number base, which forms the total of the same number, \n",
    "when each of its digits is raised to the power of the number of digits in the number.\"\"\"\n",
    "def order(x):\n",
    " \n",
    "    # Variable to store of the number\n",
    "    n = 0\n",
    "    while (x != 0):\n",
    "        n = n + 1\n",
    "        x = x // 10\n",
    "         \n",
    "    return n\n",
    " \n",
    "# Function to check whether the given\n",
    "# number is Armstrong number or not\n",
    "def isArmstrong(x):\n",
    "    n = order(x)\n",
    "    temp = x\n",
    "    sum1 = 0\n",
    "     \n",
    "    while (temp != 0):\n",
    "        r = temp % 10\n",
    "        sum1 = sum1 + pow(r, n)\n",
    "        temp = temp // 10\n",
    " \n",
    "    # If condition satisfies\n",
    "    return (sum1 == x)\n",
    " \n",
    "# Driver code\n",
    "x = 153\n",
    "print(isArmstrong(x))\n",
    "x = 1253\n",
    "print(isArmstrong(x))"
   ]
  },
  {
   "cell_type": "code",
   "execution_count": 93,
   "id": "7b9f18be",
   "metadata": {},
   "outputs": [
    {
     "name": "stdout",
     "output_type": "stream",
     "text": [
      "153\n",
      "370\n",
      "371\n",
      "407\n",
      "1634\n"
     ]
    }
   ],
   "source": [
    "# 5. Write a Python Program to Find Armstrong Number in an Interval?\n",
    "# Program to check Armstrong numbers in a certain interval\n",
    "\n",
    "lower = 100\n",
    "upper = 2000\n",
    "\n",
    "for num in range(lower, upper + 1):\n",
    "\n",
    "   # order of number\n",
    "   order = len(str(num))\n",
    "    \n",
    "   # initialize sum\n",
    "   sum = 0\n",
    "\n",
    "   temp = num\n",
    "   while temp > 0:\n",
    "       digit = temp % 10\n",
    "       sum += digit ** order\n",
    "       temp //= 10\n",
    "\n",
    "   if num == sum:\n",
    "       print(num)"
   ]
  },
  {
   "cell_type": "code",
   "execution_count": 2,
   "id": "7fcef11f",
   "metadata": {},
   "outputs": [
    {
     "name": "stdout",
     "output_type": "stream",
     "text": [
      "The sum is 6\n"
     ]
    }
   ],
   "source": [
    "# 6. Write a Python Program to Find the Sum of Natural Numbers?\n",
    "\n",
    "# Sum of natural numbers up to num\n",
    "\n",
    "num = 3\n",
    "\n",
    "if num < 0:\n",
    "    print(\"Enter a positive number\")\n",
    "else:\n",
    "    sum = 0\n",
    "   # use while loop to iterate until zero\n",
    "    while(num > 0):\n",
    "        sum += num\n",
    "        num -= 1\n",
    "    print(\"The sum is\", sum)"
   ]
  },
  {
   "cell_type": "code",
   "execution_count": null,
   "id": "afd81237",
   "metadata": {},
   "outputs": [],
   "source": []
  }
 ],
 "metadata": {
  "kernelspec": {
   "display_name": "Python 3 (ipykernel)",
   "language": "python",
   "name": "python3"
  },
  "language_info": {
   "codemirror_mode": {
    "name": "ipython",
    "version": 3
   },
   "file_extension": ".py",
   "mimetype": "text/x-python",
   "name": "python",
   "nbconvert_exporter": "python",
   "pygments_lexer": "ipython3",
   "version": "3.9.12"
  }
 },
 "nbformat": 4,
 "nbformat_minor": 5
}
