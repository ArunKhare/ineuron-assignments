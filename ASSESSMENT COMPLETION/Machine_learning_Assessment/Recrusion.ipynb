{
 "cells": [
  {
   "attachments": {},
   "cell_type": "markdown",
   "metadata": {},
   "source": [
    "A function calling itself\n",
    "    - 5 +sumof (4to 1)\n",
    "    - base case"
   ]
  },
  {
   "cell_type": "code",
   "execution_count": null,
   "metadata": {},
   "outputs": [],
   "source": []
  },
  {
   "cell_type": "code",
   "execution_count": 4,
   "metadata": {},
   "outputs": [
    {
     "data": {
      "text/plain": [
       "15"
      ]
     },
     "execution_count": 4,
     "metadata": {},
     "output_type": "execute_result"
    }
   ],
   "source": [
    "# sum of n to 1 = sum n\n",
    "s=0\n",
    "def sum_of(n):\n",
    "    if n==1:\n",
    "        return 1\n",
    "    return n+sum_of(n-1)\n",
    "\n",
    "sum_of(5)"
   ]
  },
  {
   "cell_type": "code",
   "execution_count": 8,
   "metadata": {},
   "outputs": [
    {
     "data": {
      "text/plain": [
       "5"
      ]
     },
     "execution_count": 8,
     "metadata": {},
     "output_type": "execute_result"
    }
   ],
   "source": [
    "# Fibonacci number\n",
    "# Fibonacci Series: seed values 0,1\n",
    "# sum of previous 2 fibonacci number\n",
    "# f(6) = f(n-1) + f(n-2) =f(5)+f(4)\n",
    "# f(1) = 1 stop and f(0) =0 [ Base Case]\n",
    "\n",
    "def fibonacci(n):\n",
    "    if n==0 or n==1:\n",
    "        return n\n",
    "    return fibonacci(n-1)+fibonacci(n-2)\n",
    "\n",
    "fibonacci(5)\n"
   ]
  },
  {
   "cell_type": "code",
   "execution_count": null,
   "metadata": {},
   "outputs": [],
   "source": [
    "# Power of number: Power of 4\n",
    "# 4^1 = 4,  4^0 = 1 \n",
    "n =0\n",
    "def isPowerofFour(n):\n",
    "    if n<=0 or n%4 !=0:\n",
    "        return False\n",
    "    if n==1:\n",
    "        return True\n"
   ]
  },
  {
   "cell_type": "code",
   "execution_count": null,
   "metadata": {},
   "outputs": [],
   "source": [
    "def sum_of_subsets(numbers):\n",
    "    def helper(index, current_sum):\n",
    "        if index == len(numbers):\n",
    "            subset_sums.append(current_sum)\n",
    "            return\n",
    "        helper(index + 1, current_sum + numbers[index])  # Include the current number\n",
    "        helper(index + 1, current_sum)  # Exclude the current number\n",
    "\n",
    "    subset_sums = []\n",
    "    helper(0, 0)\n",
    "    return subset_sums\n",
    "\n",
    "# Example usage\n",
    "numbers = [1, 2, 3]\n",
    "subset_sums = sum_of_subsets(numbers)\n",
    "print(subset_sums)\n"
   ]
  },
  {
   "cell_type": "code",
   "execution_count": 1,
   "metadata": {},
   "outputs": [],
   "source": [
    "# linked list\n",
    "def mergeTwoLists(ll1, ll2):\n",
    "    ll1.n"
   ]
  },
  {
   "cell_type": "code",
   "execution_count": null,
   "metadata": {},
   "outputs": [],
   "source": []
  }
 ],
 "metadata": {
  "kernelspec": {
   "display_name": "Python 3",
   "language": "python",
   "name": "python3"
  },
  "language_info": {
   "codemirror_mode": {
    "name": "ipython",
    "version": 3
   },
   "file_extension": ".py",
   "mimetype": "text/x-python",
   "name": "python",
   "nbconvert_exporter": "python",
   "pygments_lexer": "ipython3",
   "version": "3.10.11"
  },
  "orig_nbformat": 4
 },
 "nbformat": 4,
 "nbformat_minor": 2
}
