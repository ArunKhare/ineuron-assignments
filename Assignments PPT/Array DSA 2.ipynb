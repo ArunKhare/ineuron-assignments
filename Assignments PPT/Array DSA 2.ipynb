{
 "cells": [
  {
   "cell_type": "markdown",
   "id": "d4f3bc75",
   "metadata": {},
   "source": [
    "#### Question 1\n",
    "Given an integer array nums of 2n integers, group these integers into n pairs (a1, b1), (a2, b2),\n",
    "..., (an, bn) such that the sum of min(ai, bi) for all i is maximized. Return the maximized sum.\n",
    "Example 1:\n",
    "Input: nums = [1,4,3,2]\n",
    "Output: 4\n",
    "Explanation: All possible pairings (ignoring the ordering of elements) are:\n",
    "1. (1, 4), (2, 3) -> min(1, 4) + min(2, 3) = 1 + 2 = 3\n",
    "2. (1, 3), (2, 4) -> min(1, 3) + min(2, 4) = 1 + 2 = 3\n",
    "3. (1, 2), (3, 4) -> min(1, 2) + min(3, 4) = 1 + 3 = 4\n",
    "So the maximum possible sum is 4\n"
   ]
  },
  {
   "cell_type": "code",
   "execution_count": 5,
   "id": "ba20bf6e",
   "metadata": {},
   "outputs": [
    {
     "data": {
      "text/plain": [
       "[4, 3]"
      ]
     },
     "execution_count": 5,
     "metadata": {},
     "output_type": "execute_result"
    }
   ],
   "source": [
    "nums = [1,4,3,2]\n"
   ]
  },
  {
   "cell_type": "code",
   "execution_count": 11,
   "id": "569ddfe7",
   "metadata": {},
   "outputs": [
    {
     "name": "stdout",
     "output_type": "stream",
     "text": [
      "4\n"
     ]
    },
    {
     "data": {
      "text/plain": [
       "9"
      ]
     },
     "execution_count": 11,
     "metadata": {},
     "output_type": "execute_result"
    }
   ],
   "source": [
    "def arrayPairSum(nums):\n",
    "    nums.sort()  \n",
    "    max_sum = 0\n",
    "    for i in range(0, len(nums), 2):\n",
    "        max_sum += nums[i] \n",
    "    return max_sum\n",
    "\n",
    "# Example usage\n",
    "nums = [1, 4, 3, 2]\n",
    "max_sum = arrayPairSum(nums)\n",
    "print(max_sum)  # Output: 4\n",
    "\n",
    "#  --------------->counting sort approach\n",
    "def arrayPairSum(nums):\n",
    "    count = [0] * (max(nums)+1)\n",
    "    for num in nums:\n",
    "        count[num] += 1\n",
    "    \n",
    "    max_sum = 0\n",
    "    is_odd = True\n",
    "    for num in range(len(count)):\n",
    "        while count[num] > 0:\n",
    "            if is_odd:\n",
    "                max_sum += num\n",
    "            is_odd =  not is_odd\n",
    "            count[num] -= 1\n",
    "    return max_sum\n",
    "    \n",
    "nums = [1, 4, 3, 2, 5,5]\n",
    "arrayPairSum(nums)\n"
   ]
  },
  {
   "cell_type": "markdown",
   "id": "f77d752e",
   "metadata": {},
   "source": [
    "#### Question 2\n",
    "Alice has n candies, where the ith candy is of type candyType[i]. Alice noticed that she started\n",
    "to gain weight, so she visited a doctor.\n",
    "The doctor advised Alice to only eat n / 2 of the candies she has (n is always even). Alice\n",
    "likes her candies very much, and she wants to eat the maximum number of different types of\n",
    "candies while still following the doctor's advice.\n",
    "Given the integer array candyType of length n, return the maximum number of different types\n",
    "of candies she can eat if she only eats n / 2 of them.\n",
    "Example 1:\n",
    "Input: candyType = [1,1,2,2,3,3]\n",
    "Output: 3\n",
    "Explanation: Alice can only eat 6 / 2 = 3 candies. Since there are only 3 types, she can eat one\n",
    "of each type."
   ]
  },
  {
   "cell_type": "code",
   "execution_count": 62,
   "id": "3a952048",
   "metadata": {},
   "outputs": [
    {
     "data": {
      "text/plain": [
       "3"
      ]
     },
     "execution_count": 62,
     "metadata": {},
     "output_type": "execute_result"
    }
   ],
   "source": [
    "candyType = [1,1,2,2,3,3,3]\n",
    "\n",
    "def maxcandies(nums):\n",
    "    max_types = len(set(nums))\n",
    "    max_allowed = len(nums)//2\n",
    "    return min(max_types,max_allowed)\n",
    "maxcandies(candyType)"
   ]
  },
  {
   "cell_type": "markdown",
   "id": "8c9f46dd",
   "metadata": {},
   "source": [
    "#### Question 3\n",
    "We define a harmonious array as an array where the difference between its maximum value\n",
    "and its minimum value is exactly 1.\n",
    "Given an integer array nums, return the length of its longest harmonious subsequence\n",
    "among all its possible subsequences.\n",
    "A subsequence of an array is a sequence that can be derived from the array by deleting some\n",
    "or no elements without changing the order of the remaining elements.\n",
    "Example 1:\n",
    "Input: nums = [1,3,2,2,5,2,3,7]\n",
    "Output: 5\n",
    "Explanation: The longest harmonious subsequence is [3,2,2,2,3].\n"
   ]
  },
  {
   "cell_type": "code",
   "execution_count": 120,
   "id": "e7423044",
   "metadata": {},
   "outputs": [
    {
     "data": {
      "text/plain": [
       "5"
      ]
     },
     "execution_count": 120,
     "metadata": {},
     "output_type": "execute_result"
    }
   ],
   "source": [
    "nums = [1,3,2,2,5,2,3,7]\n",
    "\n",
    "def findLHS(nums):\n",
    "    num_count ={}\n",
    "    max_length = 0\n",
    "    \n",
    "    for num in nums:\n",
    "        num_count[num] = num_count.get(num,0) + 1\n",
    "    for num in num_count:\n",
    "        if num+1 in num_count:\n",
    "            length = num_count[num] + num_count[num + 1]\n",
    "            max_length = max(max_length, length)\n",
    "    return max_length\n",
    "findLHS(nums)"
   ]
  },
  {
   "cell_type": "markdown",
   "id": "69ea36a0",
   "metadata": {},
   "source": [
    "#### Question 4\n",
    "You have a long flowerbed in which some of the plots are planted, and some are not.\n",
    "However, flowers cannot be planted in adjacent plots.\n",
    "Given an integer array flowerbed containing 0's and 1's, where 0 means empty and 1 means\n",
    "not empty, and an integer n, return true if n new flowers can be planted in the flowerbed\n",
    "without violating the no-adjacent-flowers rule and false otherwise.\n",
    "Example 1:\n",
    "Input: flowerbed = [1,0,0,0,1], n = 1\n",
    "Output: true\n"
   ]
  },
  {
   "cell_type": "code",
   "execution_count": 17,
   "id": "255303bf",
   "metadata": {},
   "outputs": [
    {
     "data": {
      "text/plain": [
       "True"
      ]
     },
     "execution_count": 17,
     "metadata": {},
     "output_type": "execute_result"
    }
   ],
   "source": [
    "flowerbed = [0,0]\n",
    "def canPlace(flowerbed, n):\n",
    "    length = len(flowerbed)\n",
    "    count = 0\n",
    "    i = 0\n",
    "    while i < length:\n",
    "        if flowerbed[i] ==0 and (i==0 or flowerbed[i-1]==0) and(i == length-1 or flowerbed[i+1]==0):\n",
    "            flowerbed[i] = 1\n",
    "            count += 1\n",
    "            if count == n:\n",
    "                return True\n",
    "        i += 1\n",
    "    return False\n",
    "\n",
    "canPlace(flowerbed,1)\n",
    "            \n",
    "            \n",
    "\n"
   ]
  },
  {
   "cell_type": "markdown",
   "id": "81cf394d",
   "metadata": {},
   "source": [
    "#### Question 5\n",
    "Given an integer array nums, find three numbers whose product is maximum and return the\n",
    "maximum product.\n",
    "Example 1:\n",
    "Input: nums = [1,2,3]\n",
    "Output: 6\n",
    "\n",
    "Pre Placement Training Program | iNeuron\n",
    "\n",
    "Assignment 2 Questions - Arrays | DSA\n"
   ]
  },
  {
   "cell_type": "code",
   "execution_count": 140,
   "id": "c319f2bd",
   "metadata": {},
   "outputs": [
    {
     "name": "stdout",
     "output_type": "stream",
     "text": [
      "6\n"
     ]
    }
   ],
   "source": [
    "# : This considers the case where the list contains both negative and positive numbers. By comparing the product of the two smallest numbers (nums[0], nums[1]) with the largest number (nums[-1])\n",
    "def maxProduct(nums):\n",
    "    nums.sort()\n",
    "    return max(nums[-1]*nums[-2]*nums[-3], nums[0],nums[1],nums[-1])\n",
    "\n",
    "nums = [1,2,3]\n",
    "print(maxProduct(nums))"
   ]
  },
  {
   "cell_type": "markdown",
   "id": "1cddb3fc",
   "metadata": {},
   "source": [
    "#### Question 6\n",
    "Given an array of integers nums which is sorted in ascending order, and an integer target,\n",
    "write a function to search target in nums. If target exists, then return its index. Otherwise,\n",
    "return -1.\n",
    "You must write an algorithm with O(log n) runtime complexity.\n",
    "Input: nums = [-1,0,3,5,9,12], target = 9\n",
    "Output: 4\n",
    "Explanation: 9 exists in nums and its index is 4"
   ]
  },
  {
   "cell_type": "code",
   "execution_count": 171,
   "id": "66d17154",
   "metadata": {},
   "outputs": [
    {
     "data": {
      "text/plain": [
       "-1"
      ]
     },
     "execution_count": 171,
     "metadata": {},
     "output_type": "execute_result"
    }
   ],
   "source": [
    "nums = [-1,0,3,5,9,12]\n",
    "target = 13\n",
    "\n",
    "def findtarget(nums,target):\n",
    "    left =0\n",
    "    right = len(nums)-1\n",
    "    while left <= right:\n",
    "        \n",
    "        mid = left + (right-left)//2\n",
    "        \n",
    "        if nums[mid] == target:\n",
    "            return mid\n",
    "        elif nums[mid] < target:\n",
    "            left = mid + 1\n",
    "        else:\n",
    "            right = mid -1\n",
    "    return -1\n",
    "    \n",
    "       \n",
    "findtarget(nums,target)"
   ]
  },
  {
   "cell_type": "markdown",
   "id": "57f49183",
   "metadata": {},
   "source": [
    "#### Question 7\n",
    "An array is monotonic if it is either monotone increasing or monotone decreasing.\n",
    "An array nums is monotone increasing if for all i <= j, nums[i] <= nums[j]. An array nums is\n",
    "monotone decreasing if for all i <= j, nums[i] >= nums[j].\n",
    "Given an integer array nums, return true if the given array is monotonic, or false otherwise.\n",
    "Example 1:\n",
    "Input: nums = [1,2,2,3]\n",
    "Output: true"
   ]
  },
  {
   "cell_type": "code",
   "execution_count": 199,
   "id": "5fcda37c",
   "metadata": {},
   "outputs": [
    {
     "data": {
      "text/plain": [
       "False"
      ]
     },
     "execution_count": 199,
     "metadata": {},
     "output_type": "execute_result"
    }
   ],
   "source": [
    "nums = [7,2,3,3]\n",
    "\n",
    "def monotonic(nums):\n",
    "    decreasing = increasing = True\n",
    "    for i in range(1,len(nums)):\n",
    "        if nums[i] > nums[i-1]:\n",
    "            decreasing = False \n",
    "        if nums[i] < nums[i-1]:\n",
    "            increasing = False\n",
    "            \n",
    "    return decreasing or increasing\n",
    "        \n",
    "monotonic(nums)\n",
    "            \n",
    "    \n",
    "    \n",
    "    "
   ]
  },
  {
   "attachments": {},
   "cell_type": "markdown",
   "id": "1022682f",
   "metadata": {},
   "source": [
    "#### Question 8\n",
    "You are given an integer array nums and an integer k.\n",
    "\n",
    "In one operation, you can choose any index i where 0 <= i < nums.length and change nums[i] to nums[i] + x where x is an integer from the range [-k, k]. \n",
    "\n",
    "You can apply this operation at most once for each index i.\n",
    "\n",
    "The score of nums is the difference between the maximum and minimum elements in nums.\n",
    "\n",
    "Return the minimum score of nums after applying the mentioned operation at most once for\n",
    "each index in it.\n",
    "\n",
    "Example 1:\n",
    "\n",
    "Input: nums = [1], k = 0\n",
    "\n",
    "Output: 0\n",
    "\n",
    "Explanation: The score is max(nums) - min(nums) = 1 - 1 = 0."
   ]
  },
  {
   "cell_type": "code",
   "execution_count": 24,
   "id": "b1d016ee",
   "metadata": {},
   "outputs": [
    {
     "name": "stdout",
     "output_type": "stream",
     "text": [
      "18 7\n",
      "0\n",
      "1\n",
      "> median+k 18\n",
      "2\n",
      "< median=k 7\n",
      "15 9\n",
      "6\n"
     ]
    }
   ],
   "source": [
    "def minScore(nums, k):\n",
    "    minimum = min(nums)\n",
    "    maximum = max(nums)\n",
    "    print(maximum, minimum)\n",
    "    if maximum - minimum <= 2 * k:\n",
    "        return 0\n",
    "\n",
    "    median = (minimum + maximum) // 2\n",
    "    for i in range(len(nums)):\n",
    "        print(i)\n",
    "        if nums[i] < median - k:\n",
    "            print(f\"< median=k {nums[i]}\")\n",
    "            nums[i] = median - k\n",
    "        elif nums[i] > median + k:\n",
    "            print(f\"> median+k {nums[i]}\")\n",
    "            nums[i] = median + k\n",
    "    print(max(nums), min(nums))\n",
    "    return max(nums) - min(nums)\n",
    "\n",
    "# Example usage\n",
    "nums = [12,18,7]\n",
    "k = 3\n",
    "print(minScore(nums, k))  # Output: 0\n"
   ]
  },
  {
   "cell_type": "code",
   "execution_count": 158,
   "id": "27fa162c",
   "metadata": {},
   "outputs": [
    {
     "data": {
      "text/plain": [
       "False"
      ]
     },
     "execution_count": 158,
     "metadata": {},
     "output_type": "execute_result"
    }
   ],
   "source": [
    "12>12"
   ]
  },
  {
   "cell_type": "code",
   "execution_count": null,
   "id": "bb811ae6",
   "metadata": {},
   "outputs": [],
   "source": []
  }
 ],
 "metadata": {
  "kernelspec": {
   "display_name": "Python 3 (ipykernel)",
   "language": "python",
   "name": "python3"
  },
  "language_info": {
   "codemirror_mode": {
    "name": "ipython",
    "version": 3
   },
   "file_extension": ".py",
   "mimetype": "text/x-python",
   "name": "python",
   "nbconvert_exporter": "python",
   "pygments_lexer": "ipython3",
   "version": "3.9.12"
  }
 },
 "nbformat": 4,
 "nbformat_minor": 5
}
