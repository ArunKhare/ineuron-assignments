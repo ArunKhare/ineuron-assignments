{
 "cells": [
  {
   "cell_type": "code",
   "execution_count": null,
   "id": "ba29b4ee",
   "metadata": {},
   "outputs": [],
   "source": [
    "1) What is the difference between enclosing a list comprehension in square brackets and\n",
    "parentheses?\n"
   ]
  },
  {
   "cell_type": "markdown",
   "id": "a8f56b54",
   "metadata": {},
   "source": [
    "The comprehension in parentheses is a Generator expression and in square brackets is a  list comprehension.\n",
    "In Python3, a list comprehension is indeed the syntactic sugar for a generator expression fed to list() as you expected, so the loop variable will no longer leak out.\n",
    "This PEP introduces generator expressions as a high performance, memory efficient generalization of list comprehensions and generators.\n",
    "\n",
    "#use a generator expression if all you're doing is iterating once. If you want to store and use the generated results, then you're probably better off with a list comprehension"
   ]
  },
  {
   "cell_type": "code",
   "execution_count": 7,
   "id": "433d511b",
   "metadata": {},
   "outputs": [
    {
     "ename": "TypeError",
     "evalue": "can only concatenate list (not \"generator\") to list",
     "output_type": "error",
     "traceback": [
      "\u001b[1;31m---------------------------------------------------------------------------\u001b[0m",
      "\u001b[1;31mTypeError\u001b[0m                                 Traceback (most recent call last)",
      "Input \u001b[1;32mIn [7]\u001b[0m, in \u001b[0;36m<cell line: 6>\u001b[1;34m()\u001b[0m\n\u001b[0;32m      3\u001b[0m     \u001b[38;5;28;01mreturn\u001b[39;00m (something \u001b[38;5;28;01mfor\u001b[39;00m something \u001b[38;5;129;01min\u001b[39;00m get_some_stuff)\n\u001b[0;32m      5\u001b[0m \u001b[38;5;66;03m# print( gen()[:2] )    # generators don't support indexing or slicing\u001b[39;00m\n\u001b[1;32m----> 6\u001b[0m \u001b[38;5;28mprint\u001b[39m( \u001b[43m[\u001b[49m\u001b[38;5;241;43m5\u001b[39;49m\u001b[43m,\u001b[49m\u001b[38;5;241;43m6\u001b[39;49m\u001b[43m]\u001b[49m\u001b[43m \u001b[49m\u001b[38;5;241;43m+\u001b[39;49m\u001b[43m \u001b[49m\u001b[43mgen\u001b[49m\u001b[43m(\u001b[49m\u001b[43m)\u001b[49m)\n",
      "\u001b[1;31mTypeError\u001b[0m: can only concatenate list (not \"generator\") to list"
     ]
    }
   ],
   "source": [
    "# use a list if you want to use any of the list methods\n",
    "def gen():\n",
    "    get_some_stuff = \"String of values\"\n",
    "    return (something for something in get_some_stuff)\n",
    "\n",
    "print( gen()[:2] )    # generators don't support indexing or slicing\n",
    "print( [5,6] + gen()) # generators cannot be added to list"
   ]
  },
  {
   "cell_type": "code",
   "execution_count": 26,
   "id": "3c07f992",
   "metadata": {},
   "outputs": [
    {
     "name": "stdout",
     "output_type": "stream",
     "text": [
      "[20, 21, 22, 23, 24, 25, 0, 1, 2, 3, 4, 5, 6, 7, 8, 9]\n"
     ]
    },
    {
     "data": {
      "text/plain": [
       "'Final note: The list comprehension will create the entire list in memory first while the generator expression will create the items on the fly, so you are able to use it for very large (and also infinite!) sequences.'"
      ]
     },
     "execution_count": 26,
     "metadata": {},
     "output_type": "execute_result"
    }
   ],
   "source": [
    "a = (x for x in range(0,10)), # SyntaxError: cannot assign to generator expression\n",
    "# Generators cannot be extended with lists, and generators are not quite iterables.\n",
    "# where as list can be extended with generator using .extend()\n",
    "b = [x for x in range(20,26)]; b.extend((x for x in range(0,10))); print (b) \n",
    "\"\"\"Final note: The list comprehension will create the entire list in memory first while the generator expression will create the items on the fly, so you are able to use it for very large (and also infinite!) sequences.\"\"\""
   ]
  },
  {
   "cell_type": "markdown",
   "id": "6fa21e4c",
   "metadata": {},
   "source": [
    "2) What is the relationship between generators and iterators?"
   ]
  },
  {
   "cell_type": "markdown",
   "id": "9c6488d4",
   "metadata": {},
   "source": [
    "The list comprehension will create the entire list in memory first while the generator expression will create the items on the fly, so you are able to use it for very large (and also infinite!) sequences."
   ]
  },
  {
   "cell_type": "markdown",
   "id": "c5bf03dc",
   "metadata": {},
   "source": [
    "3) What are the signs that a function is a generator function?"
   ]
  },
  {
   "cell_type": "markdown",
   "id": "1fae8917",
   "metadata": {},
   "source": [
    "1. 'return' keyword not included in the generator function\n",
    "2. 'yield' statement is used rather than a return statement\n",
    "3. 'iterator object' function which does not return a single value, instead, it returns an iterator object with a sequence of values.\n",
    "\n",
    "The generator function cannot include the return keyword. If you include it, then it will terminate the function. The difference between yield and return is that , yield returns a value and pauses the execution while maintaining the internal states whereas the return statement returns a value and terminates the execution of the function.\n",
    "Python provides a generator to create your own iterator function. "
   ]
  },
  {
   "cell_type": "markdown",
   "id": "7b272291",
   "metadata": {},
   "source": [
    "4) What is the purpose of a yield statement?"
   ]
  },
  {
   "cell_type": "markdown",
   "id": "836f0511",
   "metadata": {},
   "source": [
    "yield sends the first value of the iterator stream to the calling environment.\n",
    "\n",
    "yield returns a value and pauses the execution while maintaining the internal states"
   ]
  },
  {
   "cell_type": "markdown",
   "id": "d182b90e",
   "metadata": {},
   "source": [
    "5) What is the relationship between map calls and list comprehensions? Make a comparison and\n",
    "contrast between the two."
   ]
  },
  {
   "cell_type": "markdown",
   "id": "483dd828",
   "metadata": {},
   "source": [
    "Map and Python list comprehension are features that work differently but have some similarities. Their performance varies with the parameters we are using.\n",
    "List comprehension is more concise and easier to read as compared to map. \n",
    "List comprehension are used when a list of results is required as map only returns a map object and does not return any list. \n",
    "\n",
    "Map function :\n",
    "    argument: an Expression and an Iterable\n",
    "      output: iterable object where expression will work on each element of given iterable\n",
    "      syntax: map(expression, iterable)\n",
    "      performance: faster than list when formula is already defined as a function earlier. so the map function is use without lambda expression\n",
    "      \n",
    "List comprehension:\n",
    "    argument: variable_expression -formula containing a vairable and a formula is use on the variable and a input list\n",
    "      output: return a list\n",
    "      use: can be used together with If condition\n",
    "      performance: Faster than map function when the formula expression id hugd and complex\n",
    "    "
   ]
  },
  {
   "cell_type": "code",
   "execution_count": 39,
   "id": "4e8e3ba5",
   "metadata": {},
   "outputs": [
    {
     "name": "stdout",
     "output_type": "stream",
     "text": [
      "2.713633200000004\n",
      "0.5532776999998532\n"
     ]
    }
   ],
   "source": [
    "# time taken to evaluate numbers from 1 to 50.\n",
    "import timeit \n",
    "# list comprehension \n",
    "l1 = timeit.timeit( '[ l for l in range(50)]' , number = 999999) \n",
    "print (l1)  \n",
    "#map function \n",
    "f= 'def num( ) : print (n)' \n",
    "m1 = timeit.timeit( 'map (num, range(50))' , number = 999999, setup = f )  \n",
    "print (m1) "
   ]
  },
  {
   "cell_type": "code",
   "execution_count": 41,
   "id": "f3840ad0",
   "metadata": {},
   "outputs": [
    {
     "name": "stdout",
     "output_type": "stream",
     "text": [
      "4.372301999999763\n",
      "0.6496458999999959\n"
     ]
    }
   ],
   "source": [
    "# map with lambda\n",
    "import timeit \n",
    "# list comprehension \n",
    "l2 = timeit.timeit( '[ n+n for n in range(50)]' , number = 999999) \n",
    "print (l2) \n",
    "#map function \n",
    "m2 = timeit.timeit( 'map (lambda a: a+a, range(50))' , number = 999999, setup = f )  \n",
    "print (m2) "
   ]
  },
  {
   "cell_type": "code",
   "execution_count": null,
   "id": "6a7bd225",
   "metadata": {},
   "outputs": [],
   "source": []
  }
 ],
 "metadata": {
  "kernelspec": {
   "display_name": "Python 3 (ipykernel)",
   "language": "python",
   "name": "python3"
  },
  "language_info": {
   "codemirror_mode": {
    "name": "ipython",
    "version": 3
   },
   "file_extension": ".py",
   "mimetype": "text/x-python",
   "name": "python",
   "nbconvert_exporter": "python",
   "pygments_lexer": "ipython3",
   "version": "3.9.7"
  }
 },
 "nbformat": 4,
 "nbformat_minor": 5
}
