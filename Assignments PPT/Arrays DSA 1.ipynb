{
 "cells": [
  {
   "cell_type": "code",
   "execution_count": null,
   "id": "86a14705",
   "metadata": {},
   "outputs": [],
   "source": [
    "# Assignment 1 Questions - Arrays | DSA"
   ]
  },
  {
   "cell_type": "markdown",
   "id": "35de5e98",
   "metadata": {},
   "source": [
    "**Q1.** Given an array of integers nums and an integer target, return indices of the two numbers such that they add up to target.\n",
    "\n",
    "You may assume that each input would have exactly one solution, and you may not use the same element twice.\n",
    "\n",
    "You can return the answer in any order.\n",
    "**Example:**\n",
    "Input: nums = [2,7,11,15], target = 9\n",
    "Output0 [0,1]\n",
    "\n",
    "**Explanation:** Because nums[0] + nums[1] == 9, we return [0, 1][\n"
   ]
  },
  {
   "cell_type": "code",
   "execution_count": 145,
   "id": "197d3c60",
   "metadata": {},
   "outputs": [
    {
     "name": "stdout",
     "output_type": "stream",
     "text": [
      "complement 3 6\n",
      "complement 2 7\n",
      "complement 8 1\n",
      "complement -2 11\n",
      "complement -6 15\n",
      "complement 7 2\n",
      "[1, 5]\n",
      "[1, 5]\n"
     ]
    }
   ],
   "source": [
    "target = 9\n",
    "nums = [6, 7, 1, 11, 15, 2, 3]\n",
    "\n",
    "ans = []\n",
    "visited = set()  # Track visited numbers\n",
    "\n",
    "for i in range(len(nums)):\n",
    "    complement = target - nums[i]\n",
    "    print(\"complement\", complement, nums[i])\n",
    "    if complement in visited:\n",
    "        # Check if complement has already been visited\n",
    "        ans.extend([nums.index(complement), i])\n",
    "        print(ans)\n",
    "        break\n",
    "    visited.add(nums[i])\n",
    "print(ans)\n"
   ]
  },
  {
   "cell_type": "markdown",
   "id": "b71d4290",
   "metadata": {},
   "source": [
    "**Q2.** Given an integer array nums and an integer val, remove all occurrences of val in nums in-place. The order of the elements may be changed. Then return the number of elements in nums which are not equal to val.\n",
    "\n",
    "Consider the number of elements in nums which are not equal to val be k, to get accepted, you need to do the following things:\n",
    "\n",
    "- Change the array nums such that the first k elements of nums contain the elements which are not equal to val. The remaining elements of nums are not important as well as the size of nums.\n",
    "- Return k.\n",
    "\n",
    "**Example :**\n",
    "Input: nums = [3,2,2,3], val = 3\n",
    "Output: 2, nums = [2,2,_*,_*]"
   ]
  },
  {
   "cell_type": "code",
   "execution_count": 162,
   "id": "8b26ea4c",
   "metadata": {},
   "outputs": [
    {
     "name": "stdout",
     "output_type": "stream",
     "text": [
      "i == 0\n",
      "i-- 0 k== 0\n",
      "[2, 3, 2, 2, 3]\n",
      "i == 1\n",
      "i == 2\n",
      "i-- 2 k== 1\n",
      "[2, 2, 2, 2, 3]\n",
      "i == 3\n",
      "i-- 3 k== 2\n",
      "[2, 2, 2, 2, 3]\n",
      "i == 4\n",
      "3 [2, 2, 2]\n"
     ]
    }
   ],
   "source": [
    "nums = [2,3,2,2,3]\n",
    "val = 3\n",
    "k = 0\n",
    "for i in range(len(nums)):\n",
    "    print(\"i ==\",i)\n",
    "    if nums[i]!=val:\n",
    "        \n",
    "        print(\"i--\",i,\"k==\",k)\n",
    "        nums[k]=nums[i]\n",
    "        print(nums)\n",
    "        k+=1\n",
    "        \n",
    "        \n",
    "print(k, nums[:k])\n",
    "\n",
    "# ------------------\n",
    "# O(logn) runtime complexity\n",
    "def removeElement(nums, val):\n",
    "    left = 0\n",
    "    right = len(nums) - 1\n",
    "    \n",
    "    while left <= right:\n",
    "        print(f'left {left} right{right}')\n",
    "        while left <= right and nums[left] != val:\n",
    "            print(f'2 while left ={left}')\n",
    "            left += 1\n",
    "        while left <= right and nums[right] == val:\n",
    "            print(f'3 while right{right}')\n",
    "            right -= 1\n",
    "            \n",
    "        if left <= right:\n",
    "            print(f'before {left} {right}')\n",
    "            print(f'before {nums[left]} {nums[right]}')\n",
    "            nums[left] = nums[right]\n",
    "            left += 1\n",
    "            right -= 1\n",
    "\n",
    "    return left\n",
    "\n",
    "# Example usage\n",
    "nums = [3, 2, 2, 3]\n",
    "val = 3\n",
    "k = removeElement(nums, val)\n",
    "print(k)  # Output: 2\n",
    "print(nums[:k])  # Output: [2, 2]"
   ]
  },
  {
   "cell_type": "markdown",
   "id": "0a1d8d9e",
   "metadata": {},
   "source": [
    "**Q3.** Given a sorted array of distinct integers and a target value, return the index if the target is found. If not, return the index where it would be if it were inserted in order.\n",
    "\n",
    "You must write an algorithm with O(log n) runtime complexity.\n",
    "\n",
    "**Example 1:**\n",
    "Input: nums = [1,3,5,6], target = 5"
   ]
  },
  {
   "cell_type": "code",
   "execution_count": 188,
   "id": "2eaf9c90",
   "metadata": {},
   "outputs": [
    {
     "name": "stdout",
     "output_type": "stream",
     "text": [
      "2\n",
      "3\n",
      "4\n",
      "r 4\n"
     ]
    },
    {
     "data": {
      "text/plain": [
       "4"
      ]
     },
     "execution_count": 188,
     "metadata": {},
     "output_type": "execute_result"
    }
   ],
   "source": [
    "\n",
    "def searchInsert(nums, target):\n",
    "    left, right = 0, len(nums) - 1\n",
    "    \n",
    "    while left <= right:\n",
    "        mid = (left + right) // 2\n",
    "        print(mid)\n",
    "        if nums[mid] == target:\n",
    "            return mid\n",
    "        elif nums[mid] > target:\n",
    "            print(\"r\" , right)\n",
    "            right = mid - 1\n",
    "        else:\n",
    "            left = mid + 1    \n",
    "    return left\n",
    "\n",
    "nums = [1,2,3,4,6]\n",
    "target = 5\n",
    "searchInsert(nums,target)\n"
   ]
  },
  {
   "cell_type": "markdown",
   "id": "f02135cd",
   "metadata": {},
   "source": [
    "**Q5.** You are given two integer arrays nums1 and nums2, sorted in non-decreasing order, and two integers m and n, representing the number of elements in nums1 and nums2 respectively.\n",
    "\n",
    "Merge nums1 and nums2 into a single array sorted in non-decreasing order.\n",
    "\n",
    "The final sorted array should not be returned by the function, but instead be stored inside the array nums1. To accommodate this, nums1 has a length of m + n, where the first m elements denote the elements that should be merged, and the last n elements are set to 0 and should be ignored. nums2 has a length of n.\n",
    "\n",
    "**Example 1:**\n",
    "Input: nums1 = [1,2,3,0,0,0], m = 3, nums2 = [2,5,6], n = 3\n",
    "Output: [1,2,2,3,5,6]"
   ]
  },
  {
   "cell_type": "code",
   "execution_count": 241,
   "id": "80f09ead",
   "metadata": {
    "scrolled": false
   },
   "outputs": [
    {
     "name": "stdout",
     "output_type": "stream",
     "text": [
      " iniitalizting p1, p2,p: (2, 2, 5)\n",
      "2 2 5\n",
      "p2, p 2 5\n",
      "[1, 2, 3, 0, 0, 6]\n",
      "2 1 4\n",
      "p2, p 1 4\n",
      "[1, 2, 3, 0, 5, 6]\n",
      "2 0 3\n",
      "p1,p 2 3\n",
      "1 0 2\n",
      "p2, p 0 2\n",
      "[1, 2, 2, 3, 5, 6]\n",
      "[1, 2, 2, 3, 5, 6]\n"
     ]
    }
   ],
   "source": [
    "def merge(nums1, m, nums2, n):\n",
    "    p1 = m - 1\n",
    "    p2 = n - 1\n",
    "    p = m + n - 1\n",
    "    print(f\" iniitalizting p1, p2,p: { p1,p2,p}\")\n",
    "    while p1 >= 0 and p2 >= 0:\n",
    "        print( p1, p2 ,p)\n",
    "        if nums1[p1] > nums2[p2]:\n",
    "            print(\"p1,p\" , p1,p)\n",
    "            nums1[p] = nums1[p1]\n",
    "            p1 -= 1\n",
    "        else:\n",
    "            print(\"p2, p\", p2,p)\n",
    "            nums1[p] = nums2[p2]\n",
    "            print(nums1)\n",
    "            p2 -= 1\n",
    "        p -= 1\n",
    "    \n",
    "    while p2 >= 0:\n",
    "        print(\"p2 lst\" , p2)\n",
    "        nums1[p] = nums2[p2]\n",
    "        p2 -= 1\n",
    "        p -= 1\n",
    "    \n",
    "    return nums1\n",
    "\n",
    "nums1 = [1, 2, 3, 0, 0, 0]\n",
    "m = 3\n",
    "nums2 = [2, 5, 6]\n",
    "n = 3\n",
    "\n",
    "result = merge(nums1, m, nums2, n)\n",
    "print(result)\n"
   ]
  },
  {
   "cell_type": "markdown",
   "id": "eb5e28df",
   "metadata": {},
   "source": [
    "**Q6.** Given an integer array nums, return true if any value appears at least twice in the array, and return false if every element is distinct.\n",
    "\n",
    "**Example 1:**\n",
    "Input: nums = [1,2,3,1]\n",
    "\n",
    "Output: true"
   ]
  },
  {
   "cell_type": "code",
   "execution_count": 259,
   "id": "a2d9102e",
   "metadata": {},
   "outputs": [
    {
     "data": {
      "text/plain": [
       "False"
      ]
     },
     "execution_count": 259,
     "metadata": {},
     "output_type": "execute_result"
    }
   ],
   "source": [
    "nums = [1,2,3,5]\n",
    "\n",
    "def containsduplicate(nums):\n",
    "    seen =set()\n",
    "    for num in nums:\n",
    "        if  num in seen:\n",
    "            return True\n",
    "        seen.add(num)\n",
    "    return False\n",
    "    \n",
    "containsduplicate(nums)\n"
   ]
  },
  {
   "cell_type": "markdown",
   "id": "998a9ae1",
   "metadata": {},
   "source": [
    "**Q7.** Given an integer array nums, move all 0's to the end of it while maintaining the relative order of the nonzero elements.\n",
    "\n",
    "Note that you must do this in-place without making a copy of the array.\n",
    "\n",
    "**Example 1:**\n",
    "Input: nums = [0,1,0,3,12]\n",
    "Output: [1,3,12,0,0]"
   ]
  },
  {
   "cell_type": "code",
   "execution_count": 6,
   "id": "f28b6313",
   "metadata": {},
   "outputs": [
    {
     "name": "stdout",
     "output_type": "stream",
     "text": [
      "itereation 1 1 0 0\n",
      "swap 1 1 0 0\n",
      "current 1\n",
      "[1, 1, 0, 3, 12]\n",
      "itereation 1 1 1 1\n",
      "swap 1 1 1 1\n",
      "current 2\n",
      "[1, 1, 0, 3, 12]\n",
      "current 3\n",
      "[1, 1, 0, 3, 12]\n",
      "itereation 3 0 3 2\n",
      "swap 0 3 3 2\n",
      "current 4\n",
      "[1, 1, 3, 0, 12]\n",
      "itereation 12 0 4 3\n",
      "swap 0 12 4 3\n",
      "current 5\n",
      "[1, 1, 3, 12, 0]\n"
     ]
    },
    {
     "data": {
      "text/plain": [
       "[1, 1, 3, 12, 0]"
      ]
     },
     "execution_count": 6,
     "metadata": {},
     "output_type": "execute_result"
    }
   ],
   "source": [
    "nums = [1,1,0,3,12] \n",
    "\n",
    "def moveZeroes(nums):\n",
    "    current = 0\n",
    "    next_nonzero = 0\n",
    "    while current <= len(nums)-1:\n",
    "        if nums[current] !=0:\n",
    "            print(\"itereation\",nums[current],nums[next_nonzero], current,next_nonzero)\n",
    "            nums[current], nums[next_nonzero] =  nums[next_nonzero], nums[current]\n",
    "            print(\"swap\",nums[current],nums[next_nonzero], current,next_nonzero)\n",
    "            next_nonzero +=1\n",
    "        current +=1\n",
    "        print(\"current\",current)\n",
    "        print(nums)\n",
    "\n",
    "    return nums\n",
    "    \n",
    "moveZeroes(nums)"
   ]
  },
  {
   "cell_type": "markdown",
   "id": "7abdc038",
   "metadata": {},
   "source": [
    "**Q8.**  You have a set of integers s, which originally contains all the numbers from 1 to n. Unfortunately, due to some error, one of the numbers in s got duplicated to another number in the set, which results in repetition of one number and loss of another number.\n",
    "\n",
    "You are given an integer array nums representing the data status of this set after the error.\n",
    "\n",
    "Find the number that occurs twice and the number that is missing and return them in the form of an array.\n",
    "\n",
    "**Example 1:**\n",
    "Input: nums = [1,2,2,4]\n",
    "Output: [2,3]\n"
   ]
  },
  {
   "cell_type": "code",
   "execution_count": 310,
   "id": "461b5134",
   "metadata": {},
   "outputs": [
    {
     "name": "stdout",
     "output_type": "stream",
     "text": [
      "4\n",
      "mide  1\n",
      "4\n"
     ]
    },
    {
     "data": {
      "text/plain": [
       "(2, 4)"
      ]
     },
     "execution_count": 310,
     "metadata": {},
     "output_type": "execute_result"
    }
   ],
   "source": [
    "nums = [1,2,2,4] \n",
    "\n",
    "#----------------------> using hashset\n",
    "\n",
    "def finderrornums(nums):\n",
    "    dup = -1\n",
    "    miss = -1\n",
    "    hash_set = set()\n",
    "    n = len(nums)\n",
    "    for num in nums:\n",
    "        if num in hash_set:\n",
    "            dup = num\n",
    "            break\n",
    "        else:\n",
    "            hash_set.add(num)\n",
    "         \n",
    "    for i in range(1,n+1):\n",
    "        if i not in hash_set:\n",
    "            miss = i\n",
    "            \n",
    "    return dup, miss\n",
    "finderrornums(nums)"
   ]
  },
  {
   "cell_type": "code",
   "execution_count": 173,
   "id": "f77b7e82",
   "metadata": {},
   "outputs": [
    {
     "data": {
      "text/plain": [
       "3"
      ]
     },
     "execution_count": 173,
     "metadata": {},
     "output_type": "execute_result"
    }
   ],
   "source": [
    "nums= [1,0,1,1,1,0,1,]\n",
    "\n",
    "count = 0\n",
    "max_count = 0\n",
    "for i in nums:\n",
    "    if i ==1:\n",
    "        count+=1\n",
    "    else:\n",
    "        if max_count < count:\n",
    "            max_count =count\n",
    "        count =0\n",
    "max_count\n",
    "    \n",
    "    "
   ]
  },
  {
   "cell_type": "code",
   "execution_count": 176,
   "id": "aff7faae",
   "metadata": {},
   "outputs": [
    {
     "name": "stdout",
     "output_type": "stream",
     "text": [
      "left 0 right3\n",
      "3 while right3\n",
      "before 0 2\n",
      "before 3 2\n",
      "left 1 right1\n",
      "2 while left =1\n",
      "2\n",
      "[2, 2]\n"
     ]
    }
   ],
   "source": []
  },
  {
   "cell_type": "code",
   "execution_count": null,
   "id": "9599c1e4",
   "metadata": {},
   "outputs": [],
   "source": []
  }
 ],
 "metadata": {
  "kernelspec": {
   "display_name": "Python 3 (ipykernel)",
   "language": "python",
   "name": "python3"
  },
  "language_info": {
   "codemirror_mode": {
    "name": "ipython",
    "version": 3
   },
   "file_extension": ".py",
   "mimetype": "text/x-python",
   "name": "python",
   "nbconvert_exporter": "python",
   "pygments_lexer": "ipython3",
   "version": "3.9.12"
  }
 },
 "nbformat": 4,
 "nbformat_minor": 5
}
