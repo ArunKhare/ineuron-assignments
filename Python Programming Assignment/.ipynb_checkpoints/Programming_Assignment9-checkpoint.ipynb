{
 "cells": [
  {
   "cell_type": "code",
   "execution_count": null,
   "id": "2a01e66b",
   "metadata": {},
   "outputs": [],
   "source": [
    "1. Write a Python program to check if the given number is a Disarium Number?\n",
    "2. Write a Python program to print all disarium numbers between 1 to 100?\n",
    "3. Write a Python program to check if the given number is Happy Number?\n",
    "4. Write a Python program to print all happy numbers between 1 and 100?\n",
    "5. Write a Python program to determine whether the given number is a Harshad Number?\n",
    "6. Write a Python program to print all pronic numbers between 1 and 100?"
   ]
  },
  {
   "cell_type": "code",
   "execution_count": 33,
   "id": "d997a87d",
   "metadata": {},
   "outputs": [
    {
     "name": "stdout",
     "output_type": "stream",
     "text": [
      "num 175\n",
      "len 3\n",
      "remainder: 5\n",
      "sum 125\n",
      "num 17\n",
      "Last position is calculation complete\n",
      "len 2\n",
      "remainder: 7\n",
      "sum 174\n",
      "num 1\n",
      "Last position is calculation complete\n",
      "len 1\n",
      "remainder: 1\n",
      "sum 175\n",
      "num 0\n",
      "Last position is calculation complete\n",
      "len 0\n",
      "175 is a disarium number\n"
     ]
    }
   ],
   "source": [
    "# Python program to check if the given number is a Disarium Number\n",
    "\"\"\"A disarium number is a number in which the sum of the digits to the power of their respective position is equal to the number itself \n",
    "(position is counted from left to right starting from 1). Hence,175 is a disarium number.\n",
    "Poistion of 1 is 1, 7 is 2, 5 is 3, SUM[ 1**1 =1, 7**2,5**3]=[1+49+125]= 175\"\"\"\n",
    "#calculateLength() will count the digits present in a number    \n",
    "def calculateLength(n):    \n",
    "    length = 0;    \n",
    "    while(n != 0):    \n",
    "        length = length + 1;    \n",
    "        n = n//10;    \n",
    "    return length;    \n",
    "     \n",
    "num = 175; \n",
    "print(\"num\",num)\n",
    "rem = sum = 0;    \n",
    "len = calculateLength(num);    \n",
    "print(\"len\", len)\n",
    "#Makes a copy of the original number num    \n",
    "n = num;    \n",
    "     \n",
    "#Calculates the sum of digits powered with their respective position    \n",
    "while(num > 0):    \n",
    "    rem = num%10;   \n",
    "    print(\"remainder:\",rem)\n",
    "    sum = sum + int(rem**len); \n",
    "    print(\"sum\",sum)\n",
    "    num = num//10;  \n",
    "    print(\"num\",num)\n",
    "    len = len - 1;\n",
    "    print(\"Last position is calculation complete\")\n",
    "    print(\"len\",len)\n",
    "     \n",
    "#Checks whether the sum is equal to the number itself    \n",
    "if(sum == n):    \n",
    "    print(str(n) + \" is a disarium number\");    \n",
    "else:    \n",
    "    print(str(n) + \" is not a disarium number\");  "
   ]
  },
  {
   "cell_type": "code",
   "execution_count": 21,
   "id": "67030605",
   "metadata": {},
   "outputs": [
    {
     "data": {
      "text/plain": [
       "0"
      ]
     },
     "execution_count": 21,
     "metadata": {},
     "output_type": "execute_result"
    }
   ],
   "source": [
    "1//10"
   ]
  },
  {
   "cell_type": "code",
   "execution_count": null,
   "id": "f10ffe9f",
   "metadata": {},
   "outputs": [],
   "source": [
    "#  Python program to print all disarium numbers between 1 to 100\n",
    "def calculateLength(n):    \n",
    "    length = 0;    \n",
    "    while(n != 0):    \n",
    "        length = length + 1;    \n",
    "        n = n//10;    \n",
    "    return length;    \n",
    "     \n",
    "#sumOfDigits() will calculates the sum of digits powered with their respective position    \n",
    "def sumOfDigits(num):    \n",
    "    rem = sum = 0;    \n",
    "    len = calculateLength(num);    \n",
    "        \n",
    "    while(num > 0):    \n",
    "        rem = num%10;    \n",
    "        sum = sum + (rem**len);    \n",
    "        num = num//10;    \n",
    "        len = len - 1;    \n",
    "    return sum;    \n",
    "      \n",
    "result = 0;    \n",
    "     \n",
    "#Displays all disarium numbers between 1 and 100    \n",
    "print(\"Disarium numbers between 1 and 100 are\");    \n",
    "for i in range(1, 101):    \n",
    "    result = sumOfDigits(i);    \n",
    "        \n",
    "    if(result == i):    \n",
    "        print(i),    "
   ]
  },
  {
   "cell_type": "code",
   "execution_count": 34,
   "id": "c4769884",
   "metadata": {},
   "outputs": [
    {
     "name": "stdout",
     "output_type": "stream",
     "text": [
      "82 is a happy number\n"
     ]
    }
   ],
   "source": [
    "# Python program to check if the given number is Happy Number\n",
    "\"\"\"A happy number is defined by the following process:\n",
    "Starting with any positive integer, replace the number by the sum of the squares of its digits, \n",
    "and repeat the process until the number equals 1 (where it will stay), or \n",
    "it loops endlessly in a cycle which does not include 1. \n",
    "Those numbers for which this process ends in 1 are happy numbers, while those that do not end in 1 are unhappy numbers.\n",
    "Write a Python program to check whether a number is \"happy\" or not.\n",
    "94 9**2 + 4**2 =97\n",
    "97 9**2 + 7**2 =130\n",
    "130 1**2 + 3**2 + 0**2 = 10\n",
    "10 1**2 + 0**2 = 1\n",
    "\n",
    "\"\"\"\n",
    "#isHappyNumber() will determine whether a number is happy or not    \n",
    "def isHappyNumber(num):    \n",
    "    rem = sum = 0;    \n",
    "        \n",
    "    #Calculates the sum of squares of digits    \n",
    "    while(num > 0):    \n",
    "        rem = num%10;    \n",
    "        sum = sum + (rem*rem);    \n",
    "        num = num//10;    \n",
    "    return sum;    \n",
    "        \n",
    "num = 82;    \n",
    "result = num;    \n",
    "     \n",
    "while(result != 1 and result != 4):    \n",
    "    result = isHappyNumber(result);    \n",
    "     \n",
    "#Happy number always ends with 1    \n",
    "if(result == 1):    \n",
    "    print(str(num) + \" is a happy number\");    \n",
    "#Unhappy number ends in a cycle of repeating numbers which contain 4    \n",
    "elif(result == 4):    \n",
    "    print(str(num) + \" is not a happy number\");   "
   ]
  },
  {
   "cell_type": "code",
   "execution_count": null,
   "id": "70e0ef11",
   "metadata": {},
   "outputs": [],
   "source": [
    "# Python program to print all happy numbers between 1 and 100?\n",
    "\n",
    "#isHappyNumber() will determine whether a number is happy or not    \n",
    "def isHappyNumber(num):    \n",
    "    rem = sum = 0;    \n",
    "        \n",
    "    #Calculates the sum of squares of digits    \n",
    "    while(num > 0):    \n",
    "        rem = num%10;    \n",
    "        sum = sum + (rem*rem);    \n",
    "        num = num//10;    \n",
    "    return sum;    \n",
    "            \n",
    "#Displays all happy numbers between 1 and 100    \n",
    "print(\"List of happy numbers between 1 and 100: \");    \n",
    "for i in range(1, 101):    \n",
    "    result = i;    \n",
    "        \n",
    "    #Happy number always ends with 1 and     \n",
    "    #unhappy number ends in a cycle of repeating numbers which contains 4    \n",
    "    while(result != 1 and result != 4):    \n",
    "        result = isHappyNumber(result);    \n",
    "        \n",
    "    if(result == 1):    \n",
    "        print(i),    \n",
    "        print(\" \"),    "
   ]
  },
  {
   "cell_type": "code",
   "execution_count": 52,
   "id": "32e8e4ef",
   "metadata": {},
   "outputs": [
    {
     "name": "stdout",
     "output_type": "stream",
     "text": [
      "171\n",
      "1 1 17\n",
      "reaminder is  0\n",
      "7 8 1\n",
      "reaminder is  3\n",
      "1 9 0\n",
      "reaminder is  0\n",
      "171 is a harshad number\n"
     ]
    }
   ],
   "source": [
    "#  Python program to determine whether the given number is a Harshad Number?\n",
    "\"\"\"In mathematics, a harshad number (or Niven number) in a given number base is an integer that is divisible by the sum of \n",
    "its digits when written in that base.harshad numbers in base n are also known as n-harshad (or n-Niven) numbers\"\"\"\n",
    "\n",
    "#Make a copy of num and store it in variable n    \n",
    "num =171\n",
    "\n",
    "n = num;    \n",
    "print(n)     \n",
    "sum=0\n",
    "#Calculates sum of digits    \n",
    "while(num > 0):    \n",
    "    rem = num%10;    \n",
    "    sum = sum + rem;    \n",
    "    num = num//10;   \n",
    "    print(rem, sum,num)\n",
    "    print(f'reaminder is  {n%sum}') \n",
    "#Checks whether the number is divisible by the sum of digits    \n",
    "if(n%sum == 0):    \n",
    "    print(str(n) + \" is a harshad number\");    \n",
    "else:    \n",
    "    print(str(n) + \" is not a harshad number\");    "
   ]
  },
  {
   "cell_type": "code",
   "execution_count": 56,
   "id": "2b50684b",
   "metadata": {},
   "outputs": [
    {
     "name": "stdout",
     "output_type": "stream",
     "text": [
      "Pronic numbers between 1 and 100: \n",
      " 1 * consecutive number 2 =2\n",
      "2\n",
      " \n",
      " 2 * consecutive number 3 =6\n",
      "6\n",
      " \n",
      " 3 * consecutive number 4 =12\n",
      "12\n",
      " \n",
      " 4 * consecutive number 5 =20\n",
      "20\n",
      " \n",
      " 5 * consecutive number 6 =30\n",
      "30\n",
      " \n",
      " 6 * consecutive number 7 =42\n",
      "42\n",
      " \n",
      " 7 * consecutive number 8 =56\n",
      "56\n",
      " \n",
      " 8 * consecutive number 9 =72\n",
      "72\n",
      " \n",
      " 9 * consecutive number 10 =90\n",
      "90\n",
      " \n"
     ]
    }
   ],
   "source": [
    "# Python program to print all pronic numbers between 1 and 100\n",
    "\"\"\" The pronic number is a product of two consecutive integers of the form: n(n+1)\n",
    "The first few pronic numbers are: 0, 2, 6, 12, 20, 30, 42, 56, 72, 90, 110, 132, 156, 182, 210, 240, 272, 306, 342, 380, 420, 462 … etc\n",
    "2*6 =12; 12 is a pronic number\n",
    "\"\"\"\n",
    "#isPronicNumber() will determine whether a given number is a pronic number or not    \n",
    "def isPronicNumber(num):    \n",
    "    flag = False;    \n",
    "        \n",
    "    for j in range(1, num+1):    \n",
    "        #Checks for pronic number by multiplying consecutive numbers    \n",
    "        if((j*(j+1)) == num):  \n",
    "            print(f' {j} * consecutive number {j+1} ={num}')\n",
    "            flag = True;    \n",
    "            break;    \n",
    "    return flag;    \n",
    "     \n",
    "#Displays pronic numbers between 1 and 100    \n",
    "print(\"Pronic numbers between 1 and 100: \");    \n",
    "for i in range(1, 101):    \n",
    "    if(isPronicNumber(i)):    \n",
    "        print(i),    \n",
    "        print(\" \"),    "
   ]
  },
  {
   "cell_type": "code",
   "execution_count": null,
   "id": "a87d4ad8",
   "metadata": {},
   "outputs": [],
   "source": [
    "# #isPronicNumber() will determine whether a given number is a pronic number or not    \n",
    "def isPronicNumber(num):    \n",
    "    flag = False;    \n",
    "        \n",
    "    for j in range(1, num+1):    \n",
    "        #Checks for pronic number by multiplying consecutive numbers    \n",
    "        if((j*(j+1)) == num):    \n",
    "            flag = True;    \n",
    "            break;    \n",
    "    return flag;    \n",
    "     \n",
    "#Displays pronic numbers between 1 and 100    \n",
    "print(\"Pronic numbers between 1 and 100: \");    \n",
    "for i in range(1, 101):    \n",
    "    if(isPronicNumber(i)):    \n",
    "        print(i),    \n",
    "        print(\" \"),    \n",
    "num = 156;    \n",
    "rem = sum = 0;    \n",
    "     "
   ]
  }
 ],
 "metadata": {
  "kernelspec": {
   "display_name": "Python 3 (ipykernel)",
   "language": "python",
   "name": "python3"
  },
  "language_info": {
   "codemirror_mode": {
    "name": "ipython",
    "version": 3
   },
   "file_extension": ".py",
   "mimetype": "text/x-python",
   "name": "python",
   "nbconvert_exporter": "python",
   "pygments_lexer": "ipython3",
   "version": "3.9.12"
  }
 },
 "nbformat": 4,
 "nbformat_minor": 5
}
