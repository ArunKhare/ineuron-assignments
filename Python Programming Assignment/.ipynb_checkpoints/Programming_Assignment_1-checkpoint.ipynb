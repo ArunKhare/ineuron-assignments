{
 "cells": [
  {
   "cell_type": "code",
   "execution_count": null,
   "id": "c64c531d",
   "metadata": {},
   "outputs": [],
   "source": [
    "1. Write a Python program to print &quot;Hello Python&quot;?\n",
    "2. Write a Python program to do arithmetical operations addition and division.?\n",
    "3. Write a Python program to find the area of a triangle?\n",
    "4. Write a Python program to swap two variables?\n",
    "5. Write a Python program to generate a random number?"
   ]
  },
  {
   "cell_type": "code",
   "execution_count": 3,
   "id": "3070e93d",
   "metadata": {},
   "outputs": [
    {
     "name": "stdout",
     "output_type": "stream",
     "text": [
      "Hello Python\n"
     ]
    }
   ],
   "source": [
    "def hello(string):\n",
    "    print(string)\n",
    "hello(\"Hello Python\")"
   ]
  },
  {
   "cell_type": "code",
   "execution_count": 8,
   "id": "099117f1",
   "metadata": {},
   "outputs": [
    {
     "name": "stdout",
     "output_type": "stream",
     "text": [
      "addition of 2, 5 := 7\n",
      "division of 2, 5 := 0.4\n"
     ]
    }
   ],
   "source": [
    "def addition(x,y):\n",
    "    return x+y\n",
    "def divide(x,y):\n",
    "    return x/y\n",
    "x,y = 2,5\n",
    "print(f'addition of {x}, {y} := {addition(x,y)}')\n",
    "print(f'division of {x}, {y} := {divide(x,y)}')"
   ]
  },
  {
   "cell_type": "code",
   "execution_count": 9,
   "id": "6a5dfc0c",
   "metadata": {},
   "outputs": [
    {
     "name": "stdout",
     "output_type": "stream",
     "text": [
      "Area of Triangle base20, height 10 := 100.0\n"
     ]
    }
   ],
   "source": [
    "def area_triangle(height,base):\n",
    "    return 0.5*height*base\n",
    "h,b = 10,20\n",
    "print(f'Area of Triangle base{b}, height {h} := {area_triangle(h,b)}')"
   ]
  },
  {
   "cell_type": "code",
   "execution_count": 10,
   "id": "5faea066",
   "metadata": {},
   "outputs": [
    {
     "name": "stdout",
     "output_type": "stream",
     "text": [
      "Swapped me ('me', 'swap')\n"
     ]
    }
   ],
   "source": [
    "def swap(a,b):\n",
    "    a,b = b,a\n",
    "    return a,b\n",
    "x ,y = 'swap', 'me'\n",
    "print (f'Swapped me {swap(x,y)}')"
   ]
  },
  {
   "cell_type": "code",
   "execution_count": 22,
   "id": "13a97e46",
   "metadata": {},
   "outputs": [
    {
     "name": "stdout",
     "output_type": "stream",
     "text": [
      " random no between 10 and 100 is 75\n"
     ]
    }
   ],
   "source": [
    "import random\n",
    "def random_no(x,y):\n",
    "    return(random.randint(x,y))\n",
    "x,y = 10,100\n",
    "print (f' random no between {x} and {y} is {random_no(x,y)}')"
   ]
  }
 ],
 "metadata": {
  "kernelspec": {
   "display_name": "Python 3 (ipykernel)",
   "language": "python",
   "name": "python3"
  },
  "language_info": {
   "codemirror_mode": {
    "name": "ipython",
    "version": 3
   },
   "file_extension": ".py",
   "mimetype": "text/x-python",
   "name": "python",
   "nbconvert_exporter": "python",
   "pygments_lexer": "ipython3",
   "version": "3.9.12"
  }
 },
 "nbformat": 4,
 "nbformat_minor": 5
}
