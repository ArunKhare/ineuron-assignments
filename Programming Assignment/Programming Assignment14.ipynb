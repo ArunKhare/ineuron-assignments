{
 "cells": [
  {
   "cell_type": "code",
   "execution_count": null,
   "id": "4ea67ac5",
   "metadata": {},
   "outputs": [],
   "source": [
    "Question 1:\n",
    "Define a class with a generator which can iterate the numbers, which are divisible by\n",
    "7, between a given range 0 and n.\n",
    "\n",
    "Question 2:\n",
    "Write a program to compute the frequency of the words from the input. The output\n",
    "should output after sorting the key alphanumerically.\n",
    "Suppose the following input is supplied to the program:\n",
    "New to Python or choosing between Python 2 and Python 3? Read Python 2 or\n",
    "Python 3.\n",
    "Then, the output should be:\n",
    "2:2\n",
    "3.:1\n",
    "3?:1\n",
    "New:1\n",
    "Python:5\n",
    "Read:1\n",
    "and:1\n",
    "between:1\n",
    "choosing:1\n",
    "or:2\n",
    "to:1\n",
    "\n",
    "Question 3:\n",
    "\n",
    "Define a class Person and its two child classes: Male and Female. All classes have a\n",
    "method &quot;getGender&quot; which can print &quot;Male&quot; for Male class and &quot;Female&quot; for Female\n",
    "class.\n",
    "\n",
    "Question 4:\n",
    "Please write a program to generate all sentences where subject is in [&quot;I&quot;, &quot;You&quot;] and\n",
    "verb is in [&quot;Play&quot;, &quot;Love&quot;] and the object is in [&quot;Hockey&quot;,&quot;Football&quot;].\n",
    "\n",
    "Question 5:\n",
    "Please write a program to compress and decompress the string &quot;hello world!hello\n",
    "world!hello world!hello world!&quot;.\n",
    "\n",
    "Question 6:\n",
    "Please write a binary search function which searches an item in a sorted list. The\n",
    "function should return the index of element to be searched in the list."
   ]
  },
  {
   "cell_type": "code",
   "execution_count": 67,
   "id": "181c2790",
   "metadata": {},
   "outputs": [
    {
     "name": "stdout",
     "output_type": "stream",
     "text": [
      "0 100\n"
     ]
    }
   ],
   "source": [
    "# Question 1:\n",
    "# Define a class with a generator which can iterate the numbers, which are divisible by\n",
    "# 7, between a given range 0 and n.\n",
    "\n",
    "class table7:\n",
    "    def __init__(self, end):\n",
    "        self.end = end\n",
    "        self.start =0\n",
    "        print(self.start, self.end)\n",
    "    def __iter__(self):\n",
    "        print(\"__iter__\")\n",
    "        return self\n",
    " \n",
    "    def __next__(self):\n",
    "        print(\"__next__\")\n",
    "        if self.start > self.end:\n",
    "            print(\"__next__\")\n",
    "            raise StopIteration\n",
    "        \n",
    "        else:\n",
    "            start += 1\n",
    "            if start%7 ==0:\n",
    "                yield start\n",
    "        \n",
    "    \n",
    "generator=table7(100)\n",
    "\n",
    "\n",
    "    "
   ]
  },
  {
   "cell_type": "code",
   "execution_count": 68,
   "id": "d45e4da8",
   "metadata": {},
   "outputs": [
    {
     "data": {
      "text/plain": [
       "<generator object table7.__next__ at 0x000002180CEDC660>"
      ]
     },
     "execution_count": 68,
     "metadata": {},
     "output_type": "execute_result"
    }
   ],
   "source": [
    "\n",
    "\n",
    "next(generator)\n",
    "\n"
   ]
  },
  {
   "cell_type": "markdown",
   "id": "a2385dad",
   "metadata": {},
   "source": [
    "Question 2:\n",
    "Write a program to compute the frequency of the words from the input. The output\n",
    "should output after sorting the key alphanumerically.\n",
    "Suppose the following input is supplied to the program:\n",
    "New to Python or choosing between Python 2 and Python 3? Read Python 2 or\n",
    "Python 3.\n",
    "Then, the output should be:\n",
    "2:2\n",
    "3.:1\n",
    "3?:1\n",
    "New:1\n",
    "Python:5\n",
    "Read:1\n",
    "and:1\n",
    "between:1\n",
    "choosing:1\n",
    "or:2\n",
    "to:1"
   ]
  },
  {
   "cell_type": "code",
   "execution_count": 81,
   "id": "b2f1bf41",
   "metadata": {},
   "outputs": [
    {
     "name": "stdout",
     "output_type": "stream",
     "text": [
      "{'2': 2, '3.': 1, '3?': 1, 'New': 1, 'Python': 5, 'Read': 1, 'and': 1, 'between': 1, 'choosing': 1, 'or': 2, 'to': 1}\n"
     ]
    }
   ],
   "source": [
    "def freq_words():\n",
    "    s= \"New to Python or choosing between Python 2 and Python 3? Read Python 2 or Python 3.\"\n",
    "    words = s.split(\" \")\n",
    "    words.sort()\n",
    "    countword = {}\n",
    "    for word in words:\n",
    "        if word in countword:\n",
    "            countword[word] += 1\n",
    "        else:\n",
    "            countword[word]=1\n",
    "    print(countword)\n",
    "freq_words()"
   ]
  },
  {
   "cell_type": "markdown",
   "id": "5082e71a",
   "metadata": {},
   "source": [
    "Question 3:\n",
    "\n",
    "Define a class Person and its two child classes: Male and Female. All classes have a\n",
    "method &quot;getGender&quot; which can print &quot;Male&quot; for Male class and &quot;Female&quot; for Female\n",
    "class.\n"
   ]
  },
  {
   "cell_type": "code",
   "execution_count": 82,
   "id": "358f22ac",
   "metadata": {},
   "outputs": [],
   "source": [
    "class person:\n",
    "    pass\n",
    "class Male(person):\n",
    "    def gender(self):\n",
    "        print(\"Male\")\n",
    "class Female(person):\n",
    "    def gender(self):\n",
    "        print(\"Female\")\n"
   ]
  },
  {
   "cell_type": "markdown",
   "id": "fb86334d",
   "metadata": {},
   "source": [
    "Question 4:\n",
    "Please write a program to generate all sentences where subject is in [&quot;I&quot;, &quot;You&quot;] and\n",
    "verb is in [&quot;Play&quot;, &quot;Love&quot;] and the object is in [&quot;Hockey&quot;,&quot;Football&quot;]."
   ]
  },
  {
   "cell_type": "code",
   "execution_count": 88,
   "id": "1e0095f0",
   "metadata": {},
   "outputs": [
    {
     "name": "stdout",
     "output_type": "stream",
     "text": [
      "I Play Hockey\n",
      "I Play Football\n",
      "I Love Hockey\n",
      "I Love Football\n",
      "You Play Hockey\n",
      "You Play Football\n",
      "You Love Hockey\n",
      "You Love Football\n"
     ]
    }
   ],
   "source": [
    "def sent():\n",
    "    subject = [\"I\", \"You\"]\n",
    "    verb = [\"Play\", \"Love\"]\n",
    "    objects = [\"Hockey\",\"Football\"]\n",
    "    \n",
    "    for i in range(len(subject)):\n",
    "        for j in range(len(verb)):\n",
    "            for k in range(len(objects)):\n",
    "                sentence = f'{subject[i]} {verb[j]} {objects[k]}'\n",
    "                print(sentence)\n",
    "sent()"
   ]
  },
  {
   "cell_type": "markdown",
   "id": "f27cd566",
   "metadata": {},
   "source": [
    "Question 5:\n",
    "Please write a program to compress and decompress the string &quot;hello world!hello\n",
    "world!hello world!hello world!&quot;."
   ]
  },
  {
   "cell_type": "code",
   "execution_count": 111,
   "id": "eb1e7d73",
   "metadata": {},
   "outputs": [
    {
     "name": "stdout",
     "output_type": "stream",
     "text": [
      "b'hello world!hello world!hello world!hello world!'\n"
     ]
    }
   ],
   "source": [
    "s = b'hello world!hello world!hello world!hello world!'\n",
    "\n",
    "import gzip\n",
    "t =gzip.compress(s)\n",
    "print(gzip.decompress(t))\n"
   ]
  },
  {
   "cell_type": "markdown",
   "id": "c05f6e85",
   "metadata": {},
   "source": [
    "Question 6:\n",
    "Please write a binary search function which searches an item in a sorted list. The\n",
    "function should return the index of element to be searched in the list."
   ]
  },
  {
   "cell_type": "code",
   "execution_count": 148,
   "id": "521d13c8",
   "metadata": {},
   "outputs": [
    {
     "name": "stdout",
     "output_type": "stream",
     "text": [
      "l , mid,r (0, 9, 18)\n",
      "mid ,l, r: (0, 9, 18) xless, arr[mid]: (10, 120)\n",
      "l , mid,r (0, 4, 8)\n",
      "mid ,l, r: (0, 4, 8) xless, arr[mid]: (10, 40)\n",
      "l , mid,r (0, 1, 3)\n",
      "mid ,l,r: (0, 1, 3), xmore, arr[mid]: (10, 3)\n",
      "l , mid,r (2, 2, 3)\n",
      "mid ,l,r: (2, 2, 3), xmore, arr[mid]: (10, 4)\n",
      "l , mid,r (3, 3, 3)\n",
      "mid x : (3, 10)\n",
      "Element is present at index  3\n"
     ]
    }
   ],
   "source": [
    "def binarySearch(arr, l, r, x):\n",
    " \n",
    "    # Check base case\n",
    "    if r >= l:\n",
    "        mid = l + (r - l) // 2\n",
    "        print(f'l , mid,r {l, mid,r}')\n",
    "        # If element is present at the middle itself\n",
    "        if arr[mid] == x:\n",
    "            print(f'mid x : {mid, x}')\n",
    "            return mid\n",
    " \n",
    "        # If element is smaller than mid, then it\n",
    "        # can only be present in left subarray\n",
    "        elif arr[mid] > x:\n",
    "            \n",
    "            print(f'mid ,l, r: {l, mid, r} xless, arr[mid]: {x, arr[mid]}')\n",
    "            return binarySearch(arr, l, mid-1, x)\n",
    " \n",
    "        # Else the element can only be present\n",
    "        # in right subarray\n",
    "        else:\n",
    "            print(f'mid ,l,r: {l, mid, r}, xmore, arr[mid]: {x, arr[mid]}')\n",
    "            return binarySearch(arr, mid + 1, r, x)\n",
    " \n",
    "    else:\n",
    "        # Element is not present in the array\n",
    "        return -1\n",
    " \n",
    " \n",
    "# Driver Code\n",
    "arr = [2, 3, 4, 10, 40, 50 ,100, 102, 102, 120, 150,160,180,200,220,240,205,300,301]\n",
    "x = 10\n",
    " \n",
    "# Function call\n",
    "result = binarySearch(arr, 0, len(arr)-1, x)\n",
    " \n",
    "if result != -1:\n",
    "    print(\"Element is present at index % d\" % result)\n",
    "else:\n",
    "    print(\"Element is not present in array\")"
   ]
  },
  {
   "cell_type": "code",
   "execution_count": null,
   "id": "422447c4",
   "metadata": {},
   "outputs": [],
   "source": []
  },
  {
   "cell_type": "code",
   "execution_count": null,
   "id": "6c437ea4",
   "metadata": {},
   "outputs": [],
   "source": []
  }
 ],
 "metadata": {
  "kernelspec": {
   "display_name": "Python 3 (ipykernel)",
   "language": "python",
   "name": "python3"
  },
  "language_info": {
   "codemirror_mode": {
    "name": "ipython",
    "version": 3
   },
   "file_extension": ".py",
   "mimetype": "text/x-python",
   "name": "python",
   "nbconvert_exporter": "python",
   "pygments_lexer": "ipython3",
   "version": "3.9.12"
  }
 },
 "nbformat": 4,
 "nbformat_minor": 5
}
