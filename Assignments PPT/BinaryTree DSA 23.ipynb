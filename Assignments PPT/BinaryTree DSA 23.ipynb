{
 "cells": [
  {
   "attachments": {},
   "cell_type": "markdown",
   "metadata": {},
   "source": [
    "Question-1:\n",
    "\n",
    "Given preorder of a binary tree, calculate its depth(or height) [starting from depth 0]. The preorder is given as a string with two possible characters.\n",
    "\n",
    "‘l’ denotes the leaf\n",
    "‘n’ denotes internal node\n",
    "\n",
    "The given tree can be seen as a full binary tree where every node has 0 or two children. The two children of a node can ‘n’ or ‘l’ or mix of both.\n",
    "\n",
    "Examples :\n",
    "\n",
    "Input  : nlnll\n",
    "Output : 2\n",
    "Explanation :\n",
    "\n",
    "Input  : nlnnlll\n",
    "Output : 3"
   ]
  },
  {
   "cell_type": "code",
   "execution_count": null,
   "metadata": {},
   "outputs": [],
   "source": []
  },
  {
   "attachments": {},
   "cell_type": "markdown",
   "metadata": {},
   "source": [
    "Question-2:\n",
    "Given a Binary tree, the task is to print the left view of the Binary Tree. The left view of a Binary Tree is a set of leftmost nodes for every level.\n",
    "Examples:\n",
    "Input:\n",
    "            4\n",
    "          /   \\\n",
    "        5     2\n",
    "             /   \\\n",
    "            3     1\n",
    "           /  \\\n",
    "          6    7\n",
    "Output: 4 5 3 6\n",
    "Explanation:\n",
    "\n",
    "Input:\n",
    "                    1\n",
    "                  /   \\\n",
    "                2       3\n",
    "                 \\\n",
    "                   4\n",
    "                     \\\n",
    "                        5\n",
    "                           \\\n",
    "                             6\n",
    "Output: 1 2 4 5 6"
   ]
  },
  {
   "attachments": {},
   "cell_type": "markdown",
   "metadata": {},
   "source": [
    "Question-3:\n",
    "Given a Binary Tree, print the Right view of it.\n",
    "The right view of a Binary Tree is a set of nodes visible when the tree is visited from the Right side.\n",
    "Examples:\n",
    "Input:\n",
    "         1\n",
    "      /     \\\n",
    "   2         3\n",
    "/   \\       /  \\\n",
    "4     5   6    7\n",
    "             \\\n",
    "               8\n",
    "Output: \n",
    "Right view of the tree is 1 3 7 8\n",
    "Input:\n",
    "         1\n",
    "       /\n",
    "    8\n",
    "  /\n",
    "7\n",
    "Output: \n",
    "Right view of the tree is 1 8 7\n",
    "💡\n"
   ]
  },
  {
   "attachments": {},
   "cell_type": "markdown",
   "metadata": {},
   "source": [
    "Question-4:\n",
    "Given a Binary Tree, The task is to print the bottom view from left to right. A node x is there in output if x is the bottommost node at its horizontal distance. The horizontal distance of the left child of a node x is equal to a horizontal distance of x minus 1, and that of a right child is the horizontal distance of x plus 1.\n",
    "Examples:\n",
    "Input:\n",
    "             20\n",
    "           /     \\\n",
    "        8         22\n",
    "    /      \\         \\\n",
    "5         3        25\n",
    "        /    \\\n",
    "   10       14\n",
    "Output: 5, 10, 3, 14, 25.\n",
    "Input:\n",
    "             20\n",
    "           /     \\\n",
    "        8         22\n",
    "    /      \\      /   \\\n",
    " 5         3    4     25\n",
    "         /    \\\n",
    "     10       14\n",
    "Output:\n",
    "5 10 4 14 25.\n",
    "Explanation:\n",
    "If there are multiple bottom-most nodes for a horizontal distance from the root, then print the later one in the level traversal.\n",
    "3 and 4 are both the bottom-most nodes at a horizontal distance of 0, we need to print 4."
   ]
  },
  {
   "cell_type": "markdown",
   "metadata": {},
   "source": []
  }
 ],
 "metadata": {
  "kernelspec": {
   "display_name": "base",
   "language": "python",
   "name": "python3"
  },
  "language_info": {
   "codemirror_mode": {
    "name": "ipython",
    "version": 3
   },
   "file_extension": ".py",
   "mimetype": "text/x-python",
   "name": "python",
   "nbconvert_exporter": "python",
   "pygments_lexer": "ipython3",
   "version": "3.9.12"
  },
  "orig_nbformat": 4
 },
 "nbformat": 4,
 "nbformat_minor": 2
}
