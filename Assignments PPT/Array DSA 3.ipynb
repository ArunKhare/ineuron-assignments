{
 "cells": [
  {
   "cell_type": "code",
   "execution_count": null,
   "metadata": {},
   "outputs": [],
   "source": []
  },
  {
   "attachments": {},
   "cell_type": "markdown",
   "metadata": {},
   "source": [
    "#### Assignment 3 Questions - Arrays | DSA\n",
    "Question 1\n",
    "Given an integer array nums of length n and an integer target, find three integers\n",
    "in nums such that the sum is closest to the target.\n",
    "Return the sum of the three integers.\n",
    "You may assume that each input would have exactly one solution.\n",
    "Example 1:\n",
    "Input: nums = [-1,2,1,-4], target = 1\n",
    "Output: 2\n",
    "Explanation: The sum that is closest to the target is 2. (-1 + 2 + 1 = 2).`"
   ]
  },
  {
   "cell_type": "code",
   "execution_count": 22,
   "metadata": {},
   "outputs": [
    {
     "name": "stdout",
     "output_type": "stream",
     "text": [
      "[-4, -1, 1, 2, 3, 5]\n",
      "in\n",
      "-4 -1 5 0 inf\n",
      "< target\n",
      "out\n",
      "-4 1 5 2 0\n",
      "< target\n",
      "out\n",
      "-4 2 5 3 2\n",
      "< target\n",
      "out\n",
      "-4 3 5 4 3\n",
      "< target\n",
      "out\n",
      "in\n",
      "-1 1 5 5 4\n",
      "< target\n",
      "out\n",
      "-1 2 5 6 5\n",
      "< target\n",
      "out\n",
      "-1 3 5 7 6\n"
     ]
    },
    {
     "data": {
      "text/plain": [
       "7"
      ]
     },
     "execution_count": 22,
     "metadata": {},
     "output_type": "execute_result"
    }
   ],
   "source": [
    "nums = [-1, 2, 1, -4,3,5]  \n",
    "target = 7\n",
    "\n",
    "def threeSumClosest(nums, target):\n",
    "    nums.sort()\n",
    "    n = len(nums)\n",
    "    closest_sum = float('inf')\n",
    "    print(nums)\n",
    "    for i in range(n-2):\n",
    "        left = i+1\n",
    "        right = n-1\n",
    "        print(\"in\")\n",
    "        while left < right:\n",
    "            current_sum = nums[left] + nums[i] + nums[right]\n",
    "            print(nums[i], nums[left], nums[right], current_sum,closest_sum)\n",
    "            if current_sum == target:\n",
    "                return current_sum\n",
    "\n",
    "            if abs(current_sum - target) < abs(closest_sum - target):\n",
    "                closest_sum = current_sum\n",
    "                \n",
    "            # Moving left or right pointer keeping the current constant\n",
    "            if current_sum < target:\n",
    "                left += 1\n",
    "                print(\"< target\")\n",
    "            else:\n",
    "                right -= 1\n",
    "                print(\"> target\")\n",
    "            print(\"out\")\n",
    "    return closest_sum\n",
    "\n",
    "\n",
    "threeSumClosest(nums, target)"
   ]
  },
  {
   "cell_type": "markdown",
   "metadata": {},
   "source": [
    "Question 2\n",
    "Given an array nums of n integers, return an array of all the unique quadruplets\n",
    "[nums[a], nums[b], nums[c], nums[d]] such that:\n",
    "● 0 <= a, b, c, d < n\n",
    "● a, b, c, and d are distinct.\n",
    "● nums[a] + nums[b] + nums[c] + nums[d] == target\n",
    "You may return the answer in any order.\n",
    "Example 1:\n",
    "Input: nums = [1,0,-1,0,-2,2], target = 0\n",
    "Output: [[-2,-1,1,2],[-2,0,0,2],[-1,0,0,1]]"
   ]
  },
  {
   "cell_type": "code",
   "execution_count": 60,
   "metadata": {},
   "outputs": [
    {
     "data": {
      "text/plain": [
       "[[-2, -1, 1, 2], [-2, 0, 0, 2], [-1, 0, 0, 1]]"
      ]
     },
     "execution_count": 60,
     "metadata": {},
     "output_type": "execute_result"
    }
   ],
   "source": [
    "# Two pointer approach with sorting\n",
    "\n",
    "def findQuadruplets(nums,target):\n",
    "    n = len(nums)\n",
    "    quadruplets = []\n",
    "\n",
    "    # Sort the array to handle duplicates efficiently\n",
    "    nums.sort()\n",
    "\n",
    "    for i in range(n - 3):\n",
    "        # Skip duplicates for the first element\n",
    "        if i > 0 and nums[i] == nums[i - 1]:\n",
    "            continue\n",
    "\n",
    "        for j in range(i + 1, n - 2):\n",
    "            # Skip duplicates for the second element\n",
    "            if j > i + 1 and nums[j] == nums[j - 1]:\n",
    "                continue\n",
    "\n",
    "            left = j + 1\n",
    "            right = n - 1\n",
    "\n",
    "            while left < right:\n",
    "                total = nums[i] + nums[j] + nums[left] + nums[right]\n",
    "\n",
    "                if total == target:\n",
    "                    quadruplets.append([nums[i], nums[j], nums[left], nums[right]])\n",
    "\n",
    "                    # Skip duplicates for the third and fourth elements\n",
    "                    while left < right and nums[left] == nums[left + 1]:\n",
    "                        left += 1\n",
    "                    while left < right and nums[right] == nums[right - 1]:\n",
    "                        right -= 1\n",
    "\n",
    "                    # Move the pointers\n",
    "                    left += 1\n",
    "                    right -= 1\n",
    "                elif total < target:\n",
    "                    left += 1\n",
    "                else:\n",
    "                    right -= 1\n",
    "\n",
    "    return quadruplets\n",
    "\n",
    "nums = [1,0,-1,0,-2,2]; target = 0\n",
    "findQuadruplets(nums,target)"
   ]
  },
  {
   "attachments": {},
   "cell_type": "markdown",
   "metadata": {},
   "source": [
    "Question 3\n",
    "A permutation of an array of integers is an arrangement of its members into a\n",
    "sequence or linear order.\n",
    "\n",
    "● For example, for arr = [1,2,3], the following are all the permutations of arr:\n",
    "[1,2,3], [1,3,2], [2, 1, 3], [2, 3, 1], [3,1,2], [3,2,1].\n",
    "\n",
    "The next permutation of an array of integers is the next lexicographically greater\n",
    "permutation of its integer. More formally, if all the permutations of the array are\n",
    "sorted in one container according to their lexicographical order, then the next\n",
    "permutation of that array is the permutation that follows it in the sorted container.\n",
    "\n",
    "\n",
    "If such an arrangement is not possible, the array must be rearranged as the\n",
    "lowest possible order (i.e., sorted in ascending order).\n",
    "\n",
    "● For example, the next permutation of arr = [1,2,3] is [1,3,2].\n",
    "● Similarly, the next permutation of arr = [2,3,1] is [3,1,2].\n",
    "● While the next permutation of arr = [3,2,1] is [1,2,3] because [3,2,1] does not\n",
    "have a lexicographical larger rearrangement.\n",
    "\n",
    "Given an array of integers nums, find the next permutation of nums.\n",
    "The replacement must be in place and use only constant extra memory.\n",
    "Example 1:\n",
    "Input: nums = [1,2,3]\n",
    "Output: [1,3,2]"
   ]
  },
  {
   "cell_type": "code",
   "execution_count": 75,
   "metadata": {},
   "outputs": [
    {
     "name": "stdout",
     "output_type": "stream",
     "text": [
      "3 2\n",
      "I2> 1 2\n",
      "I+1> 2\n",
      "[1, 3, 2]\n"
     ]
    }
   ],
   "source": [
    "def nextPermutation(nums):\n",
    "    n = len(nums)\n",
    "    i = n - 2\n",
    "\n",
    "    # Find the first pair where nums[i] < nums[i+1]\n",
    "    while i >= 0 and nums[i] >= nums[i+1]:\n",
    "        i -= 1\n",
    "        print(\"I!>\",i)\n",
    "    if i >= 0:\n",
    "        j = n - 1\n",
    "        # Find the smallest element to the right of i that is greater than nums[i]\n",
    "        while j > i and nums[j] <= nums[i]:\n",
    "            j -= 1\n",
    "        # Swap the elements at indices i and j\n",
    "        nums[i], nums[j] = nums[j], nums[i]\n",
    "        print(nums[i], nums[j])\n",
    "        print(\"I2>\",i,j)\n",
    "    # Reverse the subarray to the right of index i\n",
    "    left, right = i + 1, n - 1\n",
    "    print(\"I+1>\",i+1)\n",
    "    while left < right:\n",
    "        nums[left], nums[right] = nums[right], nums[left]\n",
    "        print(\"sec\",nums[left], nums[right])\n",
    "        left += 1\n",
    "        right -= 1\n",
    "\n",
    "    return nums\n",
    "\n",
    "\n",
    "nums = [1, 2, 3]\n",
    "next_perm = nextPermutation(nums)\n",
    "print(next_perm) \n"
   ]
  },
  {
   "cell_type": "markdown",
   "metadata": {},
   "source": [
    "Question 4\n",
    "Given a sorted array of distinct integers and a target value, return the index if the\n",
    "target is found. If not, return the index where it would be if it were inserted in\n",
    "order.\n",
    "\n",
    "You must write an algorithm with O(log n) runtime complexity.\n",
    "\n",
    "Example 1:\n",
    "\n",
    "Input: nums = [1,3,5,6], target = 5\n",
    "\n",
    "Output: 2"
   ]
  },
  {
   "cell_type": "code",
   "execution_count": 84,
   "metadata": {},
   "outputs": [
    {
     "data": {
      "text/plain": [
       "2"
      ]
     },
     "execution_count": 84,
     "metadata": {},
     "output_type": "execute_result"
    }
   ],
   "source": [
    "nums = [1,3,5,6]; target = 4\n",
    "def findtarget(nums, target):\n",
    "    n = len(nums)\n",
    "    left = 0\n",
    "    right = n-1\n",
    "\n",
    "    while left <= right:\n",
    "        mid = left + (right-left)//2\n",
    "        if target == nums[mid]:\n",
    "            return mid\n",
    "        if target < nums[mid]:\n",
    "            right = mid - 1\n",
    "        else:\n",
    "            left = mid + 1\n",
    "    return left\n",
    "\n",
    "\n",
    "\n",
    "findtarget(nums, target)"
   ]
  },
  {
   "cell_type": "markdown",
   "metadata": {},
   "source": [
    "Question 5\n",
    "You are given a large integer represented as an integer array digits, where each\n",
    "digits[i] is the ith digit of the integer. The digits are ordered from most significant\n",
    "to least significant in left-to-right order. The large integer does not contain any\n",
    "leading 0's.\n",
    "Increment the large integer by one and return the resulting array of digits.\n",
    "Example 1:\n",
    "Input: digits = [1,2,3]\n",
    "Output: [1,2,4]\n",
    "\n",
    "Explanation: The array represents the integer 123.\n",
    "Incrementing by one gives 123 + 1 = 124.\n",
    "Thus, the result should be [1,2,4]."
   ]
  },
  {
   "cell_type": "code",
   "execution_count": 105,
   "metadata": {},
   "outputs": [
    {
     "name": "stdout",
     "output_type": "stream",
     "text": [
      "3 [1, 2, 4]\n",
      "100 0 3 2\n",
      "120 1 3 1\n",
      "124 2 3 0\n",
      "124\n"
     ]
    }
   ],
   "source": [
    "digits = [1,2,3]\n",
    "def larger_integer(digits):\n",
    "    n =len(digits)\n",
    "    digits[-1] += 1\n",
    "    num = 0\n",
    "    print(n,digits)\n",
    "    for i in range(n):\n",
    "        num += (digits[i] * 10**(abs(n-i-1)))\n",
    "        print(num, i, n ,abs(i+1-n))\n",
    "    print(num)\n",
    "\n",
    "larger_integer(digits)"
   ]
  },
  {
   "cell_type": "markdown",
   "metadata": {},
   "source": [
    "Question 6\n",
    "Given a non-empty array of integers nums, every element appears twice except\n",
    "for one. Find that single one.\n",
    "\n",
    "You must implement a solution with a linear runtime complexity and use only\n",
    "constant extra space.\n",
    "\n",
    "Example 1:\n",
    "\n",
    "Input: nums = [2,2,1]\n",
    "\n",
    "Output: 1\n"
   ]
  },
  {
   "cell_type": "code",
   "execution_count": 122,
   "metadata": {},
   "outputs": [
    {
     "name": "stdout",
     "output_type": "stream",
     "text": [
      "2\n",
      "Num 2 Result 2\n",
      "Num 2 Result 0\n",
      "Num 1 Result 1\n",
      "Num 2 Result 3\n",
      "Num 1 Result 2\n",
      "Num 3 Result 1\n",
      "Num 3 Result 2\n",
      "Num 4 Result 6\n",
      "6\n"
     ]
    }
   ],
   "source": [
    "nums = [2,2,1,2,1,3,3,4]\n",
    "def findsingle(nums):\n",
    "    visited = []\n",
    "    n= len(nums)\n",
    "    for i in range(n):\n",
    "        if nums[i] in visited:\n",
    "            visited.remove(nums[i])\n",
    "        else:\n",
    "            visited.append(nums[i])\n",
    "    return visited[0]\n",
    "\n",
    "print(findsingle(nums=nums))\n",
    "\n",
    "# Implementing XOR. By applying XOR to all the elements in the array, the duplicate elements will cancel out each other, leaving only single element.\n",
    "# XOR, X ^ X = 0,  X^0 =X\n",
    "\n",
    "def find_single(nums):\n",
    "    result = 0\n",
    "    for num in nums:\n",
    "        result ^=num\n",
    "        print(\"Num\",num,\"Result\", result)\n",
    "    return result\n",
    "print(find_single(nums))"
   ]
  },
  {
   "cell_type": "markdown",
   "metadata": {},
   "source": [
    "Question 7\n",
    "You are given an inclusive range [lower, upper] and a sorted unique integer array\n",
    "nums, where all elements are within the inclusive range.\n",
    "\n",
    "A number x is considered missing if x is in the range [lower, upper] and x is not in\n",
    "nums.\n",
    "Return the shortest sorted list of ranges that exactly covers all the missing\n",
    "numbers. That is, no element of nums is included in any of the ranges, and each\n",
    "missing number is covered by one of the ranges.\n",
    "\n",
    "Example 1:\n",
    "\n",
    "Input: nums = [0,1,3,50,75], lower = 0, upper = 99\n",
    "Output: [[2,2],[4,49],[51,74],[76,99]]\n",
    "Explanation: The ranges are:\n",
    "[2,2]\n",
    "[4,49]\n",
    "[51,74]\n",
    "[76,99]\n"
   ]
  },
  {
   "cell_type": "code",
   "execution_count": 149,
   "metadata": {},
   "outputs": [
    {
     "name": "stdout",
     "output_type": "stream",
     "text": [
      "[2, 4, 5, 6, 7, 8, 9, 10, 11, 12, 13, 14, 15, 16, 17, 18, 19, 20, 21, 22, 23, 24, 25, 26, 27, 28, 29, 30, 31, 32, 33, 34, 35, 36, 37, 38, 39, 40, 41, 42, 43, 44, 45, 46, 47, 48, 49, 51, 52, 53, 54, 55, 56, 57, 58, 59, 60, 61, 62, 63, 64, 65, 66, 67, 68, 69, 70, 71, 72, 73, 74, 76, 77, 78, 79, 80, 81, 82, 83, 84, 85, 86, 87, 88, 89, 90, 91, 92, 93, 94, 95, 96, 97, 98]\n"
     ]
    },
    {
     "data": {
      "text/plain": [
       "['2', '4->49', '51->74', '76->99']"
      ]
     },
     "execution_count": 149,
     "metadata": {},
     "output_type": "execute_result"
    }
   ],
   "source": [
    "nums = [0,1,3,50,75]; lower = 0; upper = 99\n",
    "def findmissing_range(nums):\n",
    "    ranges = []\n",
    "\n",
    "    index = [0]* 99\n",
    "    for num in nums:\n",
    "        index[num]+=1\n",
    "    for i in range(len(index)):\n",
    "        if index[i] == 0:\n",
    "            ranges.append(i)\n",
    "        \n",
    "    print(ranges)\n",
    "\n",
    "findmissing_range(nums)\n",
    "\n",
    "def findMissingRanges(nums, lower, upper):\n",
    "    ranges = []\n",
    "    # To handle the first range, we initialize the \"prev\" variable to lower - 1\n",
    "    prev = lower - 1\n",
    "\n",
    "    for num in nums + [upper + 1]:\n",
    "        # We include upper + 1 to handle the last range\n",
    "        if num == prev + 2:\n",
    "            # If there is a single missing number, add it as a range [prev+1, prev+1]\n",
    "            ranges.append(str(prev + 1))\n",
    "        elif num > prev + 2:\n",
    "            # If there is a range of missing numbers, add it as a range [prev+1, num-1]\n",
    "            ranges.append(str(prev + 1) + \"->\" + str(num - 1))\n",
    "\n",
    "        prev = num\n",
    "\n",
    "    return ranges\n",
    "findMissingRanges(nums, lower, upper)"
   ]
  },
  {
   "attachments": {},
   "cell_type": "markdown",
   "metadata": {},
   "source": [
    "Question 8\n",
    "Given an array of meeting time intervals where intervals[i] = [starti, endi],\n",
    "determine if a person could attend all meetings.\n",
    "\n",
    "Example 1:\n",
    "\n",
    "Input: intervals = [[0,30],[5,10],[15,20]]\n",
    "Output: false\n"
   ]
  },
  {
   "cell_type": "code",
   "execution_count": 172,
   "metadata": {},
   "outputs": [
    {
     "data": {
      "text/plain": [
       "False"
      ]
     },
     "execution_count": 172,
     "metadata": {},
     "output_type": "execute_result"
    }
   ],
   "source": [
    "intervals = [[0,30],[5,10],[15,20]]\n",
    "def timeoverlap(intervals):\n",
    "    intervals.sort(key=lambda x: x[0])\n",
    "    for i in range(len(intervals)-1):\n",
    "        if intervals[i][1] > intervals[i+1][0]:\n",
    "            return False\n",
    "\n",
    "timeoverlap(intervals)"
   ]
  },
  {
   "cell_type": "code",
   "execution_count": null,
   "metadata": {},
   "outputs": [],
   "source": []
  }
 ],
 "metadata": {
  "kernelspec": {
   "display_name": "base",
   "language": "python",
   "name": "python3"
  },
  "language_info": {
   "codemirror_mode": {
    "name": "ipython",
    "version": 3
   },
   "file_extension": ".py",
   "mimetype": "text/x-python",
   "name": "python",
   "nbconvert_exporter": "python",
   "pygments_lexer": "ipython3",
   "version": "3.9.12"
  },
  "orig_nbformat": 4
 },
 "nbformat": 4,
 "nbformat_minor": 2
}
