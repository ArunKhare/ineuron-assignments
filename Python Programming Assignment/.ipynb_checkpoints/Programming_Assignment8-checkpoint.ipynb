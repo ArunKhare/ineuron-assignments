{
 "cells": [
  {
   "cell_type": "code",
   "execution_count": null,
   "id": "c619bf8b",
   "metadata": {},
   "outputs": [],
   "source": [
    "1. Write a Python Program to Add Two Matrices?\n",
    "2. Write a Python Program to Multiply Two Matrices?\n",
    "3. Write a Python Program to Transpose a Matrix?\n",
    "4. Write a Python Program to Sort Words in Alphabetic Order?\n",
    "5. Write a Python Program to Remove Punctuation From a String?"
   ]
  },
  {
   "cell_type": "code",
   "execution_count": 16,
   "id": "2e791283",
   "metadata": {},
   "outputs": [
    {
     "name": "stdout",
     "output_type": "stream",
     "text": [
      "<generator object <genexpr> at 0x000001F50C143040>\n",
      "None\n"
     ]
    }
   ],
   "source": [
    "# Program to add two matrices using list comprehension\n",
    "\n",
    "X = [[12,7,3],\n",
    "    [4 ,5,6],\n",
    "    [7 ,8,9]]\n",
    "\n",
    "Y = [[5,8,1],\n",
    "    [6,7,3],\n",
    "    [4,5,9]]\n",
    "\n",
    "result = [[X[i][j] + Y[i][j]  for j in range(len(X[0]))] for i in range(len(X))]\n",
    "\n",
    "for r in result:\n",
    "    print(r)\n",
    "    \n"
   ]
  },
  {
   "cell_type": "code",
   "execution_count": 38,
   "id": "565f51f0",
   "metadata": {},
   "outputs": [
    {
     "name": "stdout",
     "output_type": "stream",
     "text": [
      "Row of X [12, 7, 3]\n",
      "change column of Y\n",
      "Y 5 0 0\n",
      "Y 6 1 0\n",
      "Y 4 2 0\n",
      "change column of Y\n",
      "Y 8 0 1\n",
      "Y 7 1 1\n",
      "Y 5 2 1\n",
      "change column of Y\n",
      "Y 1 0 2\n",
      "Y 3 1 2\n",
      "Y 9 2 2\n",
      "change column of Y\n",
      "Y 2 0 3\n",
      "Y 0 1 3\n",
      "Y 1 2 3\n",
      "Row of X [4, 5, 6]\n",
      "change column of Y\n",
      "Y 5 0 0\n",
      "Y 6 1 0\n",
      "Y 4 2 0\n",
      "change column of Y\n",
      "Y 8 0 1\n",
      "Y 7 1 1\n",
      "Y 5 2 1\n",
      "change column of Y\n",
      "Y 1 0 2\n",
      "Y 3 1 2\n",
      "Y 9 2 2\n",
      "change column of Y\n",
      "Y 2 0 3\n",
      "Y 0 1 3\n",
      "Y 1 2 3\n",
      "Row of X [7, 8, 9]\n",
      "change column of Y\n",
      "Y 5 0 0\n",
      "Y 6 1 0\n",
      "Y 4 2 0\n",
      "change column of Y\n",
      "Y 8 0 1\n",
      "Y 7 1 1\n",
      "Y 5 2 1\n",
      "change column of Y\n",
      "Y 1 0 2\n",
      "Y 3 1 2\n",
      "Y 9 2 2\n",
      "change column of Y\n",
      "Y 2 0 3\n",
      "Y 0 1 3\n",
      "Y 1 2 3\n",
      "[114, 160, 60, 27]\n",
      "[74, 97, 73, 14]\n",
      "[119, 157, 112, 23]\n"
     ]
    }
   ],
   "source": [
    "# Python Program to Multiply Two Matrices\n",
    "# Program to multiply two matrices using list comprehension\n",
    "\"\"\"m*n=n*p\n",
    "3*3=3*4\"\"\" \n",
    "# 3x3 matrix\n",
    "X = [[12,7,3],\n",
    "    [4 ,5,6],\n",
    "    [7 ,8,9]]\n",
    "# 3x4 matrix\n",
    "Y = [[5,8,1,2],\n",
    "    [6,7,3,0],\n",
    "    [4,5,9,1]]\n",
    "# result is 3x4\n",
    "result = [[0,0,0,0],\n",
    "         [0,0,0,0],\n",
    "         [0,0,0,0]]\n",
    "\n",
    "# # iterate through rows of X\n",
    "# for i in range(len(X)):\n",
    "#    # iterate through columns of Y\n",
    "#    for j in range(len(Y[0])):\n",
    "#        # iterate through rows of Y\n",
    "#        for k in range(len(Y)):\n",
    "#             result[i][j] += X[i][k] * Y[k][j]\n",
    "\n",
    "# for r in result:\n",
    "#     print(r,\"\\n\")\n",
    "\n",
    "for m in range(len(X)):\n",
    "    print(\"Row of X\",X[m])\n",
    "    for p in range(len(Y[0])):\n",
    "        print('change column of Y')\n",
    "        for n in range(len(Y)):\n",
    "            print(\"Y\",Y[n][p], n,p)\n",
    "            result[m][p] += X[m][n]* Y[n][p]\n",
    "            \n",
    "for r in result:\n",
    "    print(r)"
   ]
  },
  {
   "cell_type": "code",
   "execution_count": 9,
   "id": "0e1628b2",
   "metadata": {},
   "outputs": [
    {
     "name": "stdout",
     "output_type": "stream",
     "text": [
      "[12, 4, 3]\n",
      "[7, 5, 8]\n"
     ]
    }
   ],
   "source": [
    "# Program to transpose a matrix using a nested loop\n",
    "\n",
    "X = [[12,7],\n",
    "    [4 ,5],\n",
    "    [3 ,8]]\n",
    "\n",
    "result = [[0,0,0],\n",
    "         [0,0,0]]\n",
    "\n",
    "# iterate through rows\n",
    "for i in range(len(X)):\n",
    "    # iterate through columns\n",
    "    for j in range(len(X[0])):\n",
    "    result[j][i] = X[i][j]\n",
    "\n",
    "for r in result:\n",
    "    print(r)"
   ]
  },
  {
   "cell_type": "code",
   "execution_count": 40,
   "id": "661c0aee",
   "metadata": {},
   "outputs": [
    {
     "name": "stdout",
     "output_type": "stream",
     "text": [
      "Enter a string:  \"Hello this Is an Example With cased letters\"\n",
      "The sorted words are:\n",
      "\"hello\n",
      "an\n",
      "cased\n",
      "example\n",
      "is\n",
      "letters\"\n",
      "this\n",
      "with\n"
     ]
    }
   ],
   "source": [
    "# Program to sort alphabetically the words form a string provided by the user\n",
    "\n",
    "my_str = \"Hello this Is an Example With cased letters\"\n",
    "\n",
    "# To take input from the user\n",
    "my_str = input(\"Enter a string: \")\n",
    "\n",
    "# breakdown the string into a list of words\n",
    "words = [word.lower() for word in my_str.split()]\n",
    "\n",
    "# sort the list\n",
    "words.sort()\n",
    "\n",
    "# display the sorted words\n",
    "\n",
    "print(\"The sorted words are:\")\n",
    "for word in words:\n",
    "    print(word)"
   ]
  },
  {
   "cell_type": "code",
   "execution_count": 11,
   "id": "cb3dac0d",
   "metadata": {},
   "outputs": [
    {
     "name": "stdout",
     "output_type": "stream",
     "text": [
      "Hello he said and went\n"
     ]
    }
   ],
   "source": [
    "# define punctuation\n",
    "punctuations = '''!()-[]{};:'\"\\,<>./?@#$%^&*_~'''\n",
    "\n",
    "my_str = \"Hello!!!, he said ---and went.\"\n",
    "\n",
    "# To take input from the user\n",
    "# my_str = input(\"Enter a string: \")\n",
    "\n",
    "# remove punctuation from the string\n",
    "no_punct = \"\"\n",
    "for char in my_str:\n",
    "    if char not in punctuations:\n",
    "        no_punct = no_punct + char\n",
    "\n",
    "# display the unpunctuated string\n",
    "print(no_punct)"
   ]
  },
  {
   "cell_type": "code",
   "execution_count": null,
   "id": "ac51cbe6",
   "metadata": {},
   "outputs": [],
   "source": []
  }
 ],
 "metadata": {
  "kernelspec": {
   "display_name": "Python 3 (ipykernel)",
   "language": "python",
   "name": "python3"
  },
  "language_info": {
   "codemirror_mode": {
    "name": "ipython",
    "version": 3
   },
   "file_extension": ".py",
   "mimetype": "text/x-python",
   "name": "python",
   "nbconvert_exporter": "python",
   "pygments_lexer": "ipython3",
   "version": "3.9.12"
  }
 },
 "nbformat": 4,
 "nbformat_minor": 5
}
