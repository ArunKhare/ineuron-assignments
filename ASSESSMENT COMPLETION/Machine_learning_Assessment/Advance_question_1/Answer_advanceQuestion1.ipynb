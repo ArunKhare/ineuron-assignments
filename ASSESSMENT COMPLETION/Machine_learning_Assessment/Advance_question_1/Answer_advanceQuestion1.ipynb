{
 "cells": [
  {
   "cell_type": "markdown",
   "metadata": {},
   "source": [
    "A Social Media Influencer collected data on Facebook friend requests and used\n",
    "a supervised algorithm to predict whether a user would accept a friend request or\n",
    "not. Dataset This is the Dataset You can use this dataset for this question. Note : Use\n",
    "only Dask and Use MLflow"
   ]
  },
  {
   "cell_type": "code",
   "execution_count": null,
   "metadata": {
    "vscode": {
     "languageId": "plaintext"
    }
   },
   "outputs": [],
   "source": []
  }
 ],
 "metadata": {
  "language_info": {
   "name": "python"
  },
  "orig_nbformat": 4
 },
 "nbformat": 4,
 "nbformat_minor": 2
}
