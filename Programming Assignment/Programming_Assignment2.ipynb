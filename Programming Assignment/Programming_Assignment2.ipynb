{
 "cells": [
  {
   "cell_type": "code",
   "execution_count": null,
   "id": "6e2da362",
   "metadata": {},
   "outputs": [],
   "source": [
    "1. Write a Python program to convert kilometers to miles?\n",
    "2. Write a Python program to convert Celsius to Fahrenheit?\n",
    "3. Write a Python program to display calendar?\n",
    "4. Write a Python program to solve quadratic equation?\n",
    "5. Write a Python program to swap two variables without temp variable?"
   ]
  },
  {
   "cell_type": "code",
   "execution_count": 4,
   "id": "91b13db5",
   "metadata": {},
   "outputs": [
    {
     "name": "stdout",
     "output_type": "stream",
     "text": [
      "Enter distance in kilometers: 23\n",
      "23.00 kilometers is equal to 14.29 miles\n"
     ]
    }
   ],
   "source": [
    "def kmto_miles():\n",
    "    # take inputs\n",
    "    km = float(input('Enter distance in kilometers: '))\n",
    "    # conversion factor\n",
    "    conv_fac = 0.621371\n",
    "\n",
    "    # calculate Miles\n",
    "    mile = km * conv_fac\n",
    "    # display result\n",
    "    print('%0.2f kilometers is equal to %0.2f miles' %(km, mile))\n",
    "    \n",
    "\n",
    "kmto_miles()"
   ]
  },
  {
   "cell_type": "code",
   "execution_count": 16,
   "id": "da9b8a4b",
   "metadata": {},
   "outputs": [
    {
     "name": "stdout",
     "output_type": "stream",
     "text": [
      "Enter temperature in celcius: 1\n",
      "1.0 celsius is equal to 33.08 fahrenheit\n"
     ]
    }
   ],
   "source": [
    "def celciusto_fah():\n",
    "    # take input\n",
    "    celsius = float(input('Enter temperature in celcius: '))\n",
    "    \n",
    "    #conversion factor\n",
    "    conv_fac = 33.08\n",
    "    \n",
    "    # calculates fahreheit\n",
    "    fah = celsius * conv_fac\n",
    "    \n",
    "    # display result\n",
    "    print(f'{celsius} celsius is equal to {fah} fahrenheit')\n",
    "celciusto_fah()"
   ]
  },
  {
   "cell_type": "code",
   "execution_count": 21,
   "id": "aca02c41",
   "metadata": {},
   "outputs": [
    {
     "name": "stdout",
     "output_type": "stream",
     "text": [
      "enter Month12\n",
      "year2022\n",
      "   December 2022\n",
      "Mo Tu We Th Fr Sa Su\n",
      "          1  2  3  4\n",
      " 5  6  7  8  9 10 11\n",
      "12 13 14 15 16 17 18\n",
      "19 20 21 22 23 24 25\n",
      "26 27 28 29 30 31\n",
      "\n"
     ]
    }
   ],
   "source": [
    "import calendar\n",
    "def printcalendar():\n",
    "    month = eval(input(\"enter Month\"))\n",
    "    year = eval(input(\"year\"))\n",
    "    \n",
    "    print(calendar.month(year,month))\n",
    "\n",
    "printcalendar()\n",
    "    "
   ]
  },
  {
   "cell_type": "code",
   "execution_count": 28,
   "id": "252f475c",
   "metadata": {},
   "outputs": [
    {
     "name": "stdout",
     "output_type": "stream",
     "text": [
      "enter value of constant coefficient a : 1\n",
      "enter value of constant coefficient b : 7\n",
      "enter value of constant coefficient c : 534\n",
      "The function has two complex (conjugate) roots: (-3.5+22.84184756100084j)(-3.5-22.84184756100084j) \n"
     ]
    }
   ],
   "source": [
    "import math\n",
    "\n",
    "def solver():\n",
    "    a = float(input(\"enter value of constant coefficient a : \"))\n",
    "    b = float(input(\"enter value of constant coefficient b : \"))\n",
    "    c = float(input(\"enter value of constant coefficient c : \"))\n",
    "    \n",
    "    discriminant = x = b**2- 4*a*c\n",
    "\n",
    "    if x>=0:\n",
    "        x_1 = (-b+math.sqrt(x))/2*a\n",
    "        x_2 = (-b-math.sqrt(x))/2*a\n",
    "    else:\n",
    "        x_1 = complex((-b/(2*a)),math.sqrt(-x)/(2*a))\n",
    "        x_2 = complex((-b/(2*a)),-math.sqrt(-x)/(2*a))\n",
    "    if x>0:\n",
    "        print(f\"The funtion has two distinct real roots: {x_1} and {x_2}\")\n",
    "    elif x == 0:\n",
    "        print(f\"The function has one double root: {x_1}\")\n",
    "    else:\n",
    "        print(f\"The function has two complex (conjugate) roots: {x_1}{x_2} \")\n",
    "solver()"
   ]
  },
  {
   "cell_type": "code",
   "execution_count": 30,
   "id": "312180f0",
   "metadata": {},
   "outputs": [
    {
     "name": "stdout",
     "output_type": "stream",
     "text": [
      "enter first variable value20\n",
      "enter second variable value12\n",
      "Your input variable value \n",
      " x = 20 \n",
      " y = 12 \n",
      "\n",
      "swap variable value \n",
      " x = 12 \n",
      " y = 20 \n",
      "\n"
     ]
    }
   ],
   "source": [
    "def swap():\n",
    "    x = input( \"enter first variable value\")\n",
    "    y = input( \"enter second variable value\")\n",
    "    \n",
    "    print(f'Your input variable value \\n x = {x} \\n y = {y} \\n')\n",
    "    x,y =y,x\n",
    "    print(f'swap variable value \\n x = {x} \\n y = {y} \\n')\n",
    "    \n",
    "swap()"
   ]
  },
  {
   "cell_type": "code",
   "execution_count": null,
   "id": "964fc602",
   "metadata": {},
   "outputs": [],
   "source": []
  }
 ],
 "metadata": {
  "kernelspec": {
   "display_name": "Python 3 (ipykernel)",
   "language": "python",
   "name": "python3"
  },
  "language_info": {
   "codemirror_mode": {
    "name": "ipython",
    "version": 3
   },
   "file_extension": ".py",
   "mimetype": "text/x-python",
   "name": "python",
   "nbconvert_exporter": "python",
   "pygments_lexer": "ipython3",
   "version": "3.9.12"
  }
 },
 "nbformat": 4,
 "nbformat_minor": 5
}
