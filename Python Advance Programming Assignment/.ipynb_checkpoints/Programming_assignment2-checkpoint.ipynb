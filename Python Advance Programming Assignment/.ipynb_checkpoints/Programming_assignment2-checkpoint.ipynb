{
 "cells": [
  {
   "cell_type": "markdown",
   "id": "978f1285",
   "metadata": {},
   "source": [
    "1. Write a function that takes a positive integer num and calculates how many\n",
    "dots exist in a pentagonal shape around the center dot on the Nth iteration.\n",
    "In the image below you can see the first iteration is only a single dot. On the\n",
    "second, there are 6 dots. On the third, there are 16 dots, and on the fourth\n",
    "there are 31 dots.\n",
    "\n",
    "Return the number of dots that exist in the whole pentagon on the Nth\n",
    "iteration.\n",
    "Examples\n",
    "pentagonal(1) ➞ 1\n",
    "pentagonal(2) ➞ 6\n",
    "pentagonal(3) ➞ 16\n",
    "pentagonal(8) ➞ 141\n",
    "\n",
    "2. Make a function that encrypts a given input with these steps:\n",
    "Input: &quot;apple&quot;\n",
    "Step 1: Reverse the input: &quot;elppa&quot;\n",
    "Step 2: Replace all vowels using the following chart:\n",
    "a =&gt; 0\n",
    "e =&gt; 1\n",
    "i =&gt; 2\n",
    "o =&gt; 2\n",
    "u =&gt; 3\n",
    "# &quot;1lpp0&quot;\n",
    "\n",
    "Step 3: Add &quot;aca&quot; to the end of the word: &quot;1lpp0aca&quot;\n",
    "Output: &quot;1lpp0aca&quot;\n",
    "Examples\n",
    "encrypt(&quot;banana&quot;) ➞ &quot;0n0n0baca&quot;\n",
    "encrypt(&quot;karaca&quot;) ➞ &quot;0c0r0kaca&quot;\n",
    "encrypt(&quot;burak&quot;) ➞ &quot;k0r3baca&quot;\n",
    "encrypt(&quot;alpaca&quot;) ➞ &quot;0c0pl0aca&quot;\n",
    "\n",
    "3. Given the month and year as numbers, return whether that month contains\n",
    "a Friday 13th.(i.e You can check Python&#39;s datetime module)\n",
    "Examples\n",
    "has_friday_13(3, 2020) ➞ True\n",
    "has_friday_13(10, 2017) ➞ True\n",
    "has_friday_13(1, 1985) ➞ False\n",
    "\n",
    "4. Write a regular expression that will help us count how many bad cookies\n",
    "are produced every day. You must use RegEx negative lookbehind.\n",
    "Example\n",
    "lst = [&quot;bad cookie&quot;, &quot;good cookie&quot;, &quot;bad cookie&quot;, &quot;good cookie&quot;, &quot;good cookie&quot;]\n",
    "pattern = &quot;yourregularexpressionhere&quot;\n",
    "len(re.findall(pattern, &quot;, &quot;.join(lst))) ➞ 2\n",
    "5. Given a list of words in the singular form, return a set of those words in the\n",
    "plural form if they appear more than once in the list.\n",
    "Examples\n",
    "pluralize([&quot;cow&quot;, &quot;pig&quot;, &quot;cow&quot;, &quot;cow&quot;]) ➞ { &quot;cows&quot;, &quot;pig&quot; }\n",
    "pluralize([&quot;table&quot;, &quot;table&quot;, &quot;table&quot;]) ➞ { &quot;tables&quot; }\n",
    "\n",
    "pluralize([&quot;chair&quot;, &quot;pencil&quot;, &quot;arm&quot;]) ➞ { &quot;chair&quot;, &quot;pencil&quot;, &quot;arm&quot; }"
   ]
  },
  {
   "cell_type": "markdown",
   "id": "516c6966",
   "metadata": {},
   "source": [
    "1. Write a function that takes a positive integer num and calculates how many dots exist in a pentagonal shape around the center dot on the Nth iteration. In the image below you can see the first iteration is only a single dot. On the second, there are 6 dots. On the third, there are 16 dots, and on the fourth there are 31 dots."
   ]
  },
  {
   "cell_type": "code",
   "execution_count": 3,
   "id": "832c42c4",
   "metadata": {},
   "outputs": [
    {
     "data": {
      "text/plain": [
       "470"
      ]
     },
     "execution_count": 3,
     "metadata": {},
     "output_type": "execute_result"
    }
   ],
   "source": [
    "# Centered pentagonal for n-th term is given by : Cp_{n}=(5n^2-5n+2)/2\n",
    "\n",
    "def pentagonalShape(n):\n",
    "    return 5*pow(n,2)-5*(n+2)//2\n",
    "pentagonalShape(10)\n"
   ]
  },
  {
   "cell_type": "markdown",
   "id": "d89897fe",
   "metadata": {},
   "source": [
    "2. Make a function that encrypts a given input with these steps: Input: \"apple\" Step 1: Reverse the input: \"elppa\" Step 2: Replace all vowels using the following chart: a => 0 e => 1 i => 2 o => 2 u => 3\n",
    "\"1lpp0\"\n",
    "Step 3: Add \"aca\" to the end of the word: \"1lpp0aca\" Output: \"1lpp0aca\" Examples encrypt(\"banana\") ➞ \"0n0n0baca\" encrypt(\"karaca\") ➞ \"0c0r0kaca\" encrypt(\"burak\") ➞ \"k0r3baca\" encrypt(\"alpaca\") ➞ \"0c0pl0aca\"\n",
    "\n"
   ]
  },
  {
   "cell_type": "code",
   "execution_count": 12,
   "id": "3d6bc2d0",
   "metadata": {},
   "outputs": [
    {
     "data": {
      "text/plain": [
       "'=>1lpp=>aca'"
      ]
     },
     "execution_count": 12,
     "metadata": {},
     "output_type": "execute_result"
    }
   ],
   "source": [
    "def encrypt(s):\n",
    "    s= s[::-1]\n",
    "    v = {'a' : '=>', 'e' :'=>1', 'i' : '=>2', 'o' : '=>2', 'u' : '=>3'}\n",
    "    new_s = \" \"\n",
    "    for i in v:\n",
    "        s= s.replace(i,v[i])\n",
    "    s+='aca'\n",
    "    return s            \n",
    "encrypt(\"apple\")"
   ]
  },
  {
   "cell_type": "markdown",
   "id": "f6be0134",
   "metadata": {},
   "source": [
    "3.Given the month and year as numbers, return whether that month contains a Friday 13th.(i.e You can check Python's datetime module) Examples has_friday_13(3, 2020) ➞ True has_friday_13(10, 2017) ➞ True has_friday_13(1, 1985) ➞ False"
   ]
  },
  {
   "cell_type": "code",
   "execution_count": 34,
   "id": "29b68eb7",
   "metadata": {},
   "outputs": [
    {
     "data": {
      "text/plain": [
       "True"
      ]
     },
     "execution_count": 34,
     "metadata": {},
     "output_type": "execute_result"
    }
   ],
   "source": [
    "import datetime\n",
    "from datetime import datetime\n",
    "import calendar\n",
    "\n",
    "def has_friday_13(month,year):\n",
    "    date = f'{month} 13 {year}'\n",
    "    day_is = datetime.strptime(date, '%m %d %Y').weekday()\n",
    "    return (calendar.day_name[day_is]) == \"Friday\"\n",
    "has_friday_13(10, 2017)"
   ]
  },
  {
   "cell_type": "code",
   "execution_count": 35,
   "id": "1bcca4f3",
   "metadata": {},
   "outputs": [
    {
     "data": {
      "text/plain": [
       "True"
      ]
     },
     "execution_count": 35,
     "metadata": {},
     "output_type": "execute_result"
    }
   ],
   "source": [
    "def has_friday_13(month,year):\n",
    "    date = f'{month} 13 {year}'\n",
    "    dte = datetime.strptime(date, '%m %d %Y')\n",
    "    return dte.strftime('%A') == 'Friday'\n",
    "has_friday_13(10, 2017)"
   ]
  },
  {
   "cell_type": "markdown",
   "id": "5e205e8e",
   "metadata": {},
   "source": [
    "4. Write a regular expression that will help us count how many bad cookies are produced every day. You must use RegEx negative lookbehind. Example lst = [\"bad cookie\", \"good cookie\", \"bad cookie\", \"good cookie\", \"good cookie\"] pattern = \"yourregularexpressionhere\" len(re.findall(pattern, \", \".join(lst))) ➞ 2"
   ]
  },
  {
   "cell_type": "code",
   "execution_count": 40,
   "id": "62314458",
   "metadata": {},
   "outputs": [
    {
     "data": {
      "text/plain": [
       "2"
      ]
     },
     "execution_count": 40,
     "metadata": {},
     "output_type": "execute_result"
    }
   ],
   "source": [
    "\"\"\"(?!...)\n",
    "Matches if ... doesn’t match next. This is a negative lookahead assertion. \n",
    "For example, Isaac (?!Asimov) will match 'Isaac ' only if it’s not followed by 'Asimov'.\"\"\"\n",
    "\n",
    "import re\n",
    "lst =[\"bad cookie\", \"good cookie\", \"bad cookie\", \"good cookie\", \"good cookie\"]\n",
    "pattern = re.compile(r'bad(?<!cookie)',re.X)\n",
    "\n",
    "len(re.findall(pattern,\",\".join(lst)))"
   ]
  },
  {
   "cell_type": "markdown",
   "id": "eeab316e",
   "metadata": {},
   "source": [
    "Given a list of words in the singular form, return a set of those words in the plural form if they appear more than once in the list. Examples pluralize([\"cow\", \"pig\", \"cow\", \"cow\"]) ➞ { \"cows\", \"pig\" } pluralize([\"table\", \"table\", \"table\"]) ➞ { \"tables\" }"
   ]
  },
  {
   "cell_type": "code",
   "execution_count": 47,
   "id": "2e4e81ec",
   "metadata": {},
   "outputs": [
    {
     "data": {
      "text/plain": [
       "['cows', 'pig']"
      ]
     },
     "execution_count": 47,
     "metadata": {},
     "output_type": "execute_result"
    }
   ],
   "source": [
    "\n",
    "def pluralize(l):\n",
    "    unique = set(l)\n",
    "    puralize_lst =[]\n",
    "    pural_lst = [\"chair\", \"pencil\", \"arm\"]\n",
    "    for i in unique:\n",
    "        if l.count(i)> 1:\n",
    "            if i in pural_lst:\n",
    "                puralize_lst.append(i)\n",
    "            else:\n",
    "                puralize_lst.append((i+'s'))\n",
    "        else:\n",
    "            puralize_lst.append(i)\n",
    "    return puralize_lst\n",
    "\n",
    "l = [\"cow\", \"pig\", \"cow\", \"cow\"]\n",
    "l1 = [\"chair\", \"pencil\", \"arm\"]\n",
    "pluralize(l)"
   ]
  },
  {
   "cell_type": "code",
   "execution_count": null,
   "id": "8a1840cd",
   "metadata": {},
   "outputs": [],
   "source": []
  }
 ],
 "metadata": {
  "kernelspec": {
   "display_name": "Python 3 (ipykernel)",
   "language": "python",
   "name": "python3"
  },
  "language_info": {
   "codemirror_mode": {
    "name": "ipython",
    "version": 3
   },
   "file_extension": ".py",
   "mimetype": "text/x-python",
   "name": "python",
   "nbconvert_exporter": "python",
   "pygments_lexer": "ipython3",
   "version": "3.9.12"
  }
 },
 "nbformat": 4,
 "nbformat_minor": 5
}
