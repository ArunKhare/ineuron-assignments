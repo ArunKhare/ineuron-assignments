{
 "cells": [
  {
   "cell_type": "code",
   "execution_count": null,
   "id": "b04d9c53",
   "metadata": {},
   "outputs": [],
   "source": [
    "1. Write a Python program to find sum of elements in list?\n",
    "2. Write a Python program to Multiply all numbers in the list?\n",
    "3. Write a Python program to find smallest number in a list?\n",
    "4. Write a Python program to find largest number in a list?\n",
    "5. Write a Python program to find second largest number in a list?\n",
    "6. Write a Python program to find N largest elements from a list?\n",
    "7. Write a Python program to print even numbers in a list?\n",
    "8. Write a Python program to print odd numbers in a List?\n",
    "9. Write a Python program to Remove empty List from List?\n",
    "10. Write a Python program to Cloning or Copying a list?\n",
    "11. Write a Python program to Count occurrences of an element in a list?"
   ]
  },
  {
   "cell_type": "code",
   "execution_count": 2,
   "id": "74d31137",
   "metadata": {},
   "outputs": [
    {
     "data": {
      "text/plain": [
       "58"
      ]
     },
     "execution_count": 2,
     "metadata": {},
     "output_type": "execute_result"
    }
   ],
   "source": [
    "# 1. Write a Python program to find sum of elements in list?\n",
    "l = [1,2,4,5,6,8,32]\n",
    "sum(l)"
   ]
  },
  {
   "cell_type": "code",
   "execution_count": 15,
   "id": "156d6574",
   "metadata": {},
   "outputs": [
    {
     "name": "stdout",
     "output_type": "stream",
     "text": [
      "61440\n",
      "61440\n"
     ]
    },
    {
     "data": {
      "text/plain": [
       "61440"
      ]
     },
     "execution_count": 15,
     "metadata": {},
     "output_type": "execute_result"
    }
   ],
   "source": [
    "# 2. Write a Python program to Multiply all numbers in the list?\n",
    "list1 = [1,2,4,5,6,8,32]\n",
    "import math\n",
    "math.prod(list1)\n",
    "\n",
    "import numpy\n",
    "numpy.prod(list1)\n",
    "\n",
    "from operator import *\n",
    "m = 1\n",
    "for i in list1:\n",
    "    m = mul(i, m)\n",
    "print(m)\n",
    "\n",
    "from functools import reduce\n",
    "result1 = reduce((lambda x, y: x * y), list1)\n",
    "print(result1)\n",
    "\n",
    "def multiplyList(myList) :\n",
    "    # Multiply elements one by one\n",
    "    result = 1\n",
    "    for x in myList:\n",
    "         result = result * x\n",
    "    return result\n",
    "\n",
    "multiplyList(list1)"
   ]
  },
  {
   "cell_type": "code",
   "execution_count": 19,
   "id": "926258c0",
   "metadata": {},
   "outputs": [
    {
     "data": {
      "text/plain": [
       "1"
      ]
     },
     "execution_count": 19,
     "metadata": {},
     "output_type": "execute_result"
    }
   ],
   "source": [
    "3. Write a Python program to find smallest number in a list?\n",
    "list1 = [1,2,4,5,6,8,32]\n",
    "min(list1)"
   ]
  },
  {
   "cell_type": "code",
   "execution_count": 22,
   "id": "e3a2dd43",
   "metadata": {},
   "outputs": [
    {
     "name": "stdout",
     "output_type": "stream",
     "text": [
      "Max element from [1, 2, 4, 5, 6, 8, 32] is 32\n"
     ]
    }
   ],
   "source": [
    "4. Write a Python program to find largest number in a list?\n",
    "max(list1)\n",
    "print(f\"Max element from {list1} is {max(list1)}\")"
   ]
  },
  {
   "cell_type": "code",
   "execution_count": 24,
   "id": "53cdb1a8",
   "metadata": {},
   "outputs": [
    {
     "name": "stdout",
     "output_type": "stream",
     "text": [
      "Second largest number in [1, 2, 4, 5, 6, 8, 32] is 8\n"
     ]
    }
   ],
   "source": [
    "5. Write a Python program to find second largest number in a list?\n",
    "\n",
    "list2 = list(set(list1))\n",
    "list2.sort()\n",
    "print(f\"Second largest number in {list1} is {list2[-2]}\")"
   ]
  },
  {
   "cell_type": "code",
   "execution_count": 28,
   "id": "6bfbdc7d",
   "metadata": {},
   "outputs": [
    {
     "name": "stdout",
     "output_type": "stream",
     "text": [
      "enter the the rank of largest no to find4\n",
      "Second largest number in [1, 2, 4, 5, 6, 8, 32] is 5\n"
     ]
    }
   ],
   "source": [
    "6. Write a Python program to find N largest elements from a list?\n",
    "def n_largest(list1):\n",
    "    list2 = list(set(list1))\n",
    "    list2.sort()\n",
    "    n = int(input(\"enter the the rank of largest no to find\"))\n",
    "    n = -abs(n)\n",
    "    print(f\"Second largest number in {list1} is {list2[n]}\")\n",
    "\n",
    "n_largest(list1)"
   ]
  },
  {
   "cell_type": "code",
   "execution_count": 38,
   "id": "b9eb420c",
   "metadata": {},
   "outputs": [
    {
     "name": "stdout",
     "output_type": "stream",
     "text": [
      "Even number from list[1, 2, 4, 5, 6, 8, 32] are [2, 4, 6, 8, 32]\n",
      "Odd number from list[1, 2, 4, 5, 6, 8, 32] are [1, 5]\n"
     ]
    }
   ],
   "source": [
    "# 7. Write a Python program to print even numbers in a list?\n",
    "# 8. Write a Python program to print odd numbers in a List?\n",
    "\n",
    "def even_odd(a):\n",
    "    even_lst, odd_lst = [],[]\n",
    "    for i in a:\n",
    "        if i%2 == 0:\n",
    "            even_lst.append(i)\n",
    "        else:\n",
    "            odd_lst.append(i)\n",
    "    print(f'Even number from list{a} are {even_lst}')\n",
    "    print(f'Odd number from list{a} are {odd_lst}')\n",
    "even_odd(list1)\n",
    "        "
   ]
  },
  {
   "cell_type": "code",
   "execution_count": 51,
   "id": "24a3c9cb",
   "metadata": {},
   "outputs": [
    {
     "name": "stdout",
     "output_type": "stream",
     "text": [
      "\n",
      "After deleting the empty lists from the said lists of lists [2, 3, 4, 3, 4, 19]\n"
     ]
    }
   ],
   "source": [
    "# 9. Write a Python program to Remove empty List from List?\n",
    "\n",
    "def is_empty(a):\n",
    "    if not a:\n",
    "        print(f'list is empty')\n",
    "    else:\n",
    "        list2 = [x for x in a if x]\n",
    "    print(f\"\\nAfter deleting the empty lists from the said lists of lists {list2}\")\n",
    "checklist = [2,3,4,[],3,4,[],\"\",19,0,None]\n",
    "is_empty(checklist)\n",
    "\n"
   ]
  },
  {
   "cell_type": "code",
   "execution_count": 57,
   "id": "8e7cefdd",
   "metadata": {},
   "outputs": [
    {
     "name": "stdout",
     "output_type": "stream",
     "text": [
      "['Red', 'Green', [1, 2], 'Blue']\n",
      "['Red', 'Green', [1, 2], 'Blue']\n",
      "['Red', 'Green', [1, 2], 'Blue']\n",
      "['Red', 'Green', [1, 2], 'Blue']\n",
      "['Red', 'Green', [1, 2], 'Blue']\n",
      "['Red', 'Green', [1, 2], 'Blue']\n"
     ]
    }
   ],
   "source": [
    "# 10. Write a Python program to Cloning or Copying a list?\n",
    "import copy\n",
    "def Cloning(li1):\n",
    "    li_copy = [i for i in li1]\n",
    "    li2 = copy.copy(li1)\n",
    "    li3 = li1\n",
    "    li4 =[]\n",
    "    li4.extend(li1)\n",
    "    li5 = li1[:]\n",
    "    li6 = li1.copy()\n",
    "    print(f'{li_copy}\\n{li2}\\n{li3}\\n{li4}\\n{li5}\\n{li6}')\n",
    "Cloning(list2)    "
   ]
  },
  {
   "cell_type": "code",
   "execution_count": 59,
   "id": "07011837",
   "metadata": {},
   "outputs": [
    {
     "name": "stdout",
     "output_type": "stream",
     "text": [
      "i : count 1\n",
      "i : count 1\n",
      "i : count 1\n",
      "i : count 1\n"
     ]
    }
   ],
   "source": [
    "# 11. Write a Python program to Count occurrences of an element in a list?\n",
    "for i in list2:\n",
    "    \n",
    "    print(f'i : count {list2.count(i)}')"
   ]
  },
  {
   "cell_type": "code",
   "execution_count": null,
   "id": "81d9b69a",
   "metadata": {},
   "outputs": [],
   "source": []
  }
 ],
 "metadata": {
  "kernelspec": {
   "display_name": "Python 3 (ipykernel)",
   "language": "python",
   "name": "python3"
  },
  "language_info": {
   "codemirror_mode": {
    "name": "ipython",
    "version": 3
   },
   "file_extension": ".py",
   "mimetype": "text/x-python",
   "name": "python",
   "nbconvert_exporter": "python",
   "pygments_lexer": "ipython3",
   "version": "3.9.12"
  }
 },
 "nbformat": 4,
 "nbformat_minor": 5
}
