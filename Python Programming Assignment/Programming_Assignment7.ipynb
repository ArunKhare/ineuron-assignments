{
 "cells": [
  {
   "cell_type": "code",
   "execution_count": null,
   "id": "aa8b9eee",
   "metadata": {},
   "outputs": [],
   "source": [
    "1. Write a Python Program to find sum of array?\n",
    "2. Write a Python Program to find largest element in an array?\n",
    "3. Write a Python Program for array rotation?\n",
    "4. Write a Python Program to Split the array and add the first part to the end?\n",
    "5. Write a Python Program to check if given array is Monotonic?"
   ]
  },
  {
   "cell_type": "code",
   "execution_count": 98,
   "id": "97d75e12",
   "metadata": {},
   "outputs": [
    {
     "name": "stdout",
     "output_type": "stream",
     "text": [
      "Sum of the array is 23\n"
     ]
    }
   ],
   "source": [
    "# Python Program to find sum of array\n",
    "def _sum(arr):\n",
    "    sum =0;\n",
    "    for i in arr:\n",
    "        sum = sum+i\n",
    "    return sum\n",
    "\n",
    "arr = [12,2,5,4]\n",
    "n=len(arr)\n",
    "ans = _sum(arr)\n",
    "print('Sum of the array is',ans)"
   ]
  },
  {
   "cell_type": "code",
   "execution_count": 99,
   "id": "61a9dc13",
   "metadata": {},
   "outputs": [
    {
     "data": {
      "text/plain": [
       "23"
      ]
     },
     "execution_count": 99,
     "metadata": {},
     "output_type": "execute_result"
    }
   ],
   "source": [
    "def sum_array(arr):\n",
    "    return sum(arr)\n",
    "sum_array(arr)"
   ]
  },
  {
   "cell_type": "code",
   "execution_count": 101,
   "id": "332c3f5b",
   "metadata": {},
   "outputs": [
    {
     "data": {
      "text/plain": [
       "12"
      ]
     },
     "execution_count": 101,
     "metadata": {},
     "output_type": "execute_result"
    }
   ],
   "source": [
    "# Python Program to find largest element in an array?\n",
    "def arr_max(A):\n",
    "    return max(arr)\n",
    "    \n",
    "arr_max(arr)    "
   ]
  },
  {
   "cell_type": "code",
   "execution_count": 103,
   "id": "80a323cb",
   "metadata": {},
   "outputs": [],
   "source": [
    "#  Python Program for array rotation\n",
    "def rotateArray(arr):\n",
    "    last_value = arr.pop()\n",
    "    arr.insert(0,last_value)\n",
    "    print(\"Array after left rotation is: \", end=' ')\n",
    "    print(arr)\n",
    "arr=[1,2,3,4,5,6,7]\n"
   ]
  },
  {
   "cell_type": "code",
   "execution_count": 104,
   "id": "6679af44",
   "metadata": {},
   "outputs": [
    {
     "name": "stdout",
     "output_type": "stream",
     "text": [
      "Array after left rotation is:  [7, 1, 2, 3, 4, 5, 6]\n"
     ]
    }
   ],
   "source": [
    "rotateArray(arr)"
   ]
  },
  {
   "cell_type": "code",
   "execution_count": 109,
   "id": "3ce6bb96",
   "metadata": {},
   "outputs": [
    {
     "data": {
      "text/plain": [
       "[7, 1, 2, 3, 4, 5, 6, 7, 1, 2, 7, 1, 2, 3, 4, 7, 1, 2, 3, 4, 5, 6]"
      ]
     },
     "execution_count": 109,
     "metadata": {},
     "output_type": "execute_result"
    }
   ],
   "source": [
    "# Python Program to Split the array and add the first part to the end\n",
    "def splitArr(arr):\n",
    "    l=len(arr)\n",
    "    l = int(l/2)\n",
    "    \n",
    "    a1 = arr[0:l]\n",
    "    arr.extend(a1)\n",
    "splitArr(arr)\n",
    "arr"
   ]
  },
  {
   "cell_type": "code",
   "execution_count": 124,
   "id": "06a909e8",
   "metadata": {},
   "outputs": [
    {
     "data": {
      "text/plain": [
       "'not Monotonic array'"
      ]
     },
     "execution_count": 124,
     "metadata": {},
     "output_type": "execute_result"
    }
   ],
   "source": [
    "# Python Program to check if given array is Monotonic\n",
    "def is_Monotonic(A):\n",
    "    if all(A[i] <= A[i+1] for i in range (len(A)-1)):\n",
    "        return \"Monotonic increasing\"\n",
    "    elif all(A[i] >= A[i+1] for i in range (len(A)-1)):\n",
    "        return \"Monotonic decreasing\"\n",
    "    return \"not Monotonic array\"\n",
    "\n",
    "is_Monotonic(arr)"
   ]
  },
  {
   "cell_type": "code",
   "execution_count": null,
   "id": "4e931d2e",
   "metadata": {},
   "outputs": [],
   "source": []
  },
  {
   "cell_type": "code",
   "execution_count": null,
   "id": "4e8c64b9",
   "metadata": {},
   "outputs": [],
   "source": []
  }
 ],
 "metadata": {
  "kernelspec": {
   "display_name": "Python 3 (ipykernel)",
   "language": "python",
   "name": "python3"
  },
  "language_info": {
   "codemirror_mode": {
    "name": "ipython",
    "version": 3
   },
   "file_extension": ".py",
   "mimetype": "text/x-python",
   "name": "python",
   "nbconvert_exporter": "python",
   "pygments_lexer": "ipython3",
   "version": "3.9.12"
  }
 },
 "nbformat": 4,
 "nbformat_minor": 5
}
