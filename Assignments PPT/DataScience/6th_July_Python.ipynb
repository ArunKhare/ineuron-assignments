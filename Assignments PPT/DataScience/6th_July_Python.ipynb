{
 "cells": [
  {
   "attachments": {},
   "cell_type": "markdown",
   "metadata": {},
   "source": [
    "\n",
    "\n"
   ]
  },
  {
   "attachments": {},
   "cell_type": "markdown",
   "metadata": {},
   "source": [
    "1. Write a Python program to reverse a string without using any built-in string reversal functions."
   ]
  },
  {
   "cell_type": "code",
   "execution_count": 2,
   "metadata": {},
   "outputs": [
    {
     "data": {
      "text/plain": [
       "'erahK'"
      ]
     },
     "execution_count": 2,
     "metadata": {},
     "output_type": "execute_result"
    }
   ],
   "source": [
    "def reverseString(string):\n",
    "    return string[::-1]\n",
    "\n",
    "reverseString(\"Arun\")\n",
    "\n",
    "# using loop\n",
    "def reverse_String(string):\n",
    "    rev_str = \"\"\n",
    "\n",
    "    for i in range(len(string)-1, -1,-1):\n",
    "        rev_str += string[i]\n",
    "    return rev_str\n",
    "\n",
    "reverse_String(\"Khare\")\n",
    "\n",
    "# using list \n",
    "def rev_usingList(string):\n",
    "    charlist = list(string)\n",
    "\n",
    "    start = 0\n",
    "    end = len(string)-1\n",
    "\n",
    "    while start < end:\n",
    "        charlist[start], charlist[end] = charlist[end], charlist[start]\n",
    "        start +=1\n",
    "        end -= 1\n",
    "    return \"\".join(charlist)\n",
    "\n",
    "# using recursion\n",
    "def rev_usingRecursion(string):\n",
    "    if len(string) <= 1:\n",
    "        return string\n",
    "    return rev_usingRecursion(string[1:])+string[0]\n",
    "rev_usingRecursion(\"Arun khare\")\n"
   ]
  },
  {
   "cell_type": "code",
   "execution_count": 19,
   "metadata": {},
   "outputs": [
    {
     "name": "stdout",
     "output_type": "stream",
     "text": [
      "string is not a palindrome\n"
     ]
    },
    {
     "data": {
      "text/plain": [
       "False"
      ]
     },
     "execution_count": 19,
     "metadata": {},
     "output_type": "execute_result"
    }
   ],
   "source": [
    "# 2. Implement a function to check if a given string is a palindrome.\n",
    "\n",
    "def is_palindrome(string):\n",
    "    start = 0\n",
    "    end =len(string)-1\n",
    "    flag = True\n",
    "    while start <= end:\n",
    "        if string[start] != string[end]:\n",
    "            flag = False\n",
    "            break\n",
    "        start +=1\n",
    "        end -=1\n",
    "    if flag == True:\n",
    "        print(\"String is a palindrome\")\n",
    "    else:\n",
    "        print(\"string is not a palindrome\")\n",
    "\n",
    "is_palindrome(\"ARun khare\")\n",
    "\n",
    "def is_palindromeRecursion(string):\n",
    "    if len(string)<= 1:\n",
    "        return True\n",
    "    if string[0] != string[-1]:\n",
    "        return False\n",
    "    return is_palindromeRecursion(string[1:-1])\n",
    "\n",
    "is_palindromeRecursion(\"arun\")"
   ]
  },
  {
   "cell_type": "code",
   "execution_count": 20,
   "metadata": {},
   "outputs": [
    {
     "data": {
      "text/plain": [
       "'Arun khar'"
      ]
     },
     "execution_count": 20,
     "metadata": {},
     "output_type": "execute_result"
    }
   ],
   "source": [
    "# 3. Write a program to find the largest element in a given list.\n",
    "def largest(nums):\n",
    "    return max(nums)"
   ]
  },
  {
   "cell_type": "code",
   "execution_count": 25,
   "metadata": {},
   "outputs": [
    {
     "data": {
      "text/plain": [
       "{'a': 2,\n",
       " 'r': 3,\n",
       " 'u': 2,\n",
       " 'n': 4,\n",
       " ' ': 3,\n",
       " 'k': 1,\n",
       " 'h': 1,\n",
       " 'e': 2,\n",
       " 'i': 2,\n",
       " 'o': 1}"
      ]
     },
     "execution_count": 25,
     "metadata": {},
     "output_type": "execute_result"
    }
   ],
   "source": [
    "# 4. Implement a function to count the occurrence of each element in a list.\n",
    "def count_freq(elements):\n",
    "    freq = {}\n",
    "    for ele in elements.lower():\n",
    "        if ele in freq:\n",
    "            freq[ele] +=1\n",
    "        else:\n",
    "            freq[ele] = 1\n",
    "    return freq\n",
    "count_freq(\"ARun khare in Ineuron\")"
   ]
  },
  {
   "cell_type": "code",
   "execution_count": 41,
   "metadata": {},
   "outputs": [
    {
     "name": "stdout",
     "output_type": "stream",
     "text": [
      "Second largest element: 233\n"
     ]
    },
    {
     "data": {
      "text/plain": [
       "233"
      ]
     },
     "execution_count": 41,
     "metadata": {},
     "output_type": "execute_result"
    }
   ],
   "source": [
    "# 5. Write a Python program to find the second largest number in a list.\n",
    "def secondLargest(elements):\n",
    "    if len(elements) < 2:\n",
    "        return elements\n",
    "    largest = float(\"-inf\")\n",
    "    second = float(\"-inf\")\n",
    "    for element in elements:\n",
    "        if element > largest:\n",
    "            second = largest\n",
    "            largest = element\n",
    "        elif element > second and element != largest:\n",
    "            second = element\n",
    "\n",
    "    if second != 0:\n",
    "        print(\"Second largest element:\", second)\n",
    "\n",
    "    return sorted(elements)[-2]\n",
    "\n",
    "\n",
    "secondLargest([2,3,56,1,4,6,233,6,989,9])\n",
    "    \n"
   ]
  },
  {
   "cell_type": "code",
   "execution_count": 45,
   "metadata": {},
   "outputs": [
    {
     "data": {
      "text/plain": [
       "['N', 'O', 'P', 'e', ' ', 'C', 'T', 'S', 'U', 'D', 'I', 'L', 'A', 'E']"
      ]
     },
     "execution_count": 45,
     "metadata": {},
     "output_type": "execute_result"
    }
   ],
   "source": [
    "# 6. Implement a function to remove duplicate elements from a list.\n",
    "def remove_dup(lst):\n",
    "    elements = {}\n",
    "    for i in lst:\n",
    "        if i not in elements:\n",
    "            elements[i] = 1\n",
    "        else: \n",
    "            lst.remove(i)\n",
    "    \n",
    "    return list(set(lst))\n",
    "    \n",
    "remove_dup(list(\"DUPLICATE NOS IN DUPLICATe\"))"
   ]
  },
  {
   "cell_type": "code",
   "execution_count": 3,
   "metadata": {},
   "outputs": [
    {
     "data": {
      "text/plain": [
       "24"
      ]
     },
     "execution_count": 3,
     "metadata": {},
     "output_type": "execute_result"
    }
   ],
   "source": [
    "# 7. Write a program to calculate the factorial of a given number.\n",
    "def factorial(n):\n",
    "    if n <= 1:\n",
    "        return 1\n",
    "    return n * factorial(n-1)\n",
    "\n",
    "factorial(4)\n"
   ]
  },
  {
   "cell_type": "code",
   "execution_count": 10,
   "metadata": {},
   "outputs": [
    {
     "data": {
      "text/plain": [
       "True"
      ]
     },
     "execution_count": 10,
     "metadata": {},
     "output_type": "execute_result"
    }
   ],
   "source": [
    "# 8. Implement a function to check if a given number is prime.\n",
    "def is_prime(n):\n",
    "    if n <=1:\n",
    "        return n\n",
    "    for i in range(2,n):\n",
    "        if n%i == 0:\n",
    "            return False\n",
    "    return True\n",
    "is_prime(11)"
   ]
  },
  {
   "cell_type": "code",
   "execution_count": 13,
   "metadata": {},
   "outputs": [
    {
     "data": {
      "text/plain": [
       "[1, 2, 2, 3, 3, 4, 5, 6, 8]"
      ]
     },
     "execution_count": 13,
     "metadata": {},
     "output_type": "execute_result"
    }
   ],
   "source": [
    "# 9. Write a Python program to sort a list of integers in ascending order.\n",
    "def sort_list(lst):\n",
    "    lst.sort()\n",
    "    return  lst\n",
    "sort_list([2,3,6,1,3,5,8,4,2])"
   ]
  },
  {
   "cell_type": "code",
   "execution_count": 15,
   "metadata": {},
   "outputs": [
    {
     "data": {
      "text/plain": [
       "34"
      ]
     },
     "execution_count": 15,
     "metadata": {},
     "output_type": "execute_result"
    }
   ],
   "source": [
    "# 10. Implement a function to find the sum of all numbers in a list.\n",
    "lst = [2,3,6,1,3,5,8,4,2]\n",
    "sum(lst)\n"
   ]
  },
  {
   "cell_type": "code",
   "execution_count": 17,
   "metadata": {},
   "outputs": [
    {
     "name": "stdout",
     "output_type": "stream",
     "text": [
      "4\n"
     ]
    }
   ],
   "source": [
    "# 11. Write a program to find the common elements between two lists.\n",
    "def common_elements(l1, l2):\n",
    "    for i in l1:\n",
    "        if i in l2:\n",
    "            print(i)\n",
    "common_elements([2,3,4],[5,6,4])\n"
   ]
  },
  {
   "cell_type": "code",
   "execution_count": null,
   "metadata": {},
   "outputs": [],
   "source": [
    "# 12. Implement a function to check if a given string is an anagram of another string.\n",
    "def is_anagram(str1,str2):\n",
    "    str1 = str1.replace(\" \",\"\").lower()\n",
    "    str2 = str2.replace(\" \",\"\").lower()\n",
    "\n",
    "    if len(str1) != len(str2):\n",
    "        return False\n",
    "    \n",
    "    freq1 = {}\n",
    "    freq2 = {}\n",
    "\n",
    "    for i in str1:\n",
    "        freq1[i] = freq1.get(i,0) + 1 \n",
    "\n",
    "    for i in str2:\n",
    "        freq2[i] = freq2.get(i,0) + 1\n",
    "\n",
    "    for char in freq1:\n",
    "            if char in freq2 or freq1[char] != freq2[char]:\n",
    "                 return False\n",
    "    \n",
    "    return True\n",
    "    return sorted(str1) == sorted(str2)"
   ]
  },
  {
   "cell_type": "code",
   "execution_count": 55,
   "metadata": {},
   "outputs": [
    {
     "name": "stdout",
     "output_type": "stream",
     "text": [
      ">>>>>>>>>>>>>>>>>>>>><<<<<<<<<<<<<<<<<<<<<<<<<\n",
      "remaining ab\n",
      "nextchar >>>a\n",
      "new_current >>>> a\n",
      "new_remaining >>>> b\n",
      ">>>>>>>>>>>>>>>>>>>>><<<<<<<<<<<<<<<<<<<<<<<<<\n",
      "remaining b\n",
      "nextchar >>>b\n",
      "new_current >>>> ab\n",
      "new_remaining >>>> \n",
      ">>>>>>>>>>>>>>>>>>>>><<<<<<<<<<<<<<<<<<<<<<<<<\n",
      "Permuatation ['ab']\n",
      "remaining ab\n",
      "nextchar >>>b\n",
      "new_current >>>> b\n",
      "new_remaining >>>> a\n",
      ">>>>>>>>>>>>>>>>>>>>><<<<<<<<<<<<<<<<<<<<<<<<<\n",
      "remaining a\n",
      "nextchar >>>a\n",
      "new_current >>>> ba\n",
      "new_remaining >>>> \n",
      ">>>>>>>>>>>>>>>>>>>>><<<<<<<<<<<<<<<<<<<<<<<<<\n",
      "Permuatation ['ab', 'ba']\n"
     ]
    },
    {
     "data": {
      "text/plain": [
       "['ab', 'ba']"
      ]
     },
     "execution_count": 55,
     "metadata": {},
     "output_type": "execute_result"
    }
   ],
   "source": [
    "# 13. Write a Python program to generate all permutations of a given string.\n",
    "def generate_permutations(string):\n",
    "    permutations = []  # List to store the permutations\n",
    "    # Recursive helper function to generate permutations\n",
    "    def backtrack(current, remaining):\n",
    "        print(\">>>>>>>>>>>>>>>>>>>>><<<<<<<<<<<<<<<<<<<<<<<<<\")\n",
    "        if not remaining:\n",
    "            permutations.append(current)  # Base case: All characters used\n",
    "            print(\"Permuatation\",permutations)\n",
    "        else:\n",
    "            for i in range(len(remaining)):\n",
    "                print(\"remaining\",remaining)\n",
    "                next_char = remaining[i]\n",
    "                print(f'nextchar >>>{next_char}')\n",
    "                new_current = current + next_char\n",
    "                print(f'new_current >>>> { new_current}')\n",
    "                new_remaining = remaining[:i] + remaining[i+1:]\n",
    "                print(f'new_remaining >>>> { new_remaining}')\n",
    "                backtrack(new_current, new_remaining)\n",
    "\n",
    "    backtrack(\"\", string)  # Start with empty current and use all characters\n",
    "    return permutations\n",
    "string = \"string\"\n",
    "\n",
    "generate_permutations(\"ab\")"
   ]
  },
  {
   "cell_type": "code",
   "execution_count": 1,
   "metadata": {},
   "outputs": [
    {
     "data": {
      "text/plain": [
       "55"
      ]
     },
     "execution_count": 1,
     "metadata": {},
     "output_type": "execute_result"
    }
   ],
   "source": [
    "# 14. Implement a function to calculate the Fibonacci sequence up to a given number of terms.\n",
    "\n",
    "def fib(n):\n",
    "    if n <= 1:\n",
    "        return n\n",
    "    return fib(n-1) + fib(n-2)\n",
    "    \n",
    "fib(10)"
   ]
  },
  {
   "cell_type": "code",
   "execution_count": 10,
   "metadata": {},
   "outputs": [
    {
     "data": {
      "text/plain": [
       "4"
      ]
     },
     "execution_count": 10,
     "metadata": {},
     "output_type": "execute_result"
    }
   ],
   "source": [
    "# 15. Write a program to find the median of a list of numbers.\n",
    "def lst_median(lst):\n",
    "    n = len(lst)\n",
    "    index1 = (n-1)//2 \n",
    "    index2 =n//2\n",
    "    lst.sort()\n",
    "    if n <= 1:\n",
    "        return lst[0]\n",
    "    if n%2 == 0:\n",
    "        med = (lst[index1]+lst[index2])//2\n",
    "        return med\n",
    "    return lst[index2]\n",
    "    \n",
    "l1 = [2,4,5,6,7]\n",
    "l2 = [2,4,5,6]\n",
    "\n",
    "lst_median(l2)\n"
   ]
  },
  {
   "cell_type": "code",
   "execution_count": 27,
   "metadata": {},
   "outputs": [
    {
     "name": "stdout",
     "output_type": "stream",
     "text": [
      "False\n"
     ]
    }
   ],
   "source": [
    "# 16. Implement a function to check if a given list is sorted in non-decreasing order.\n",
    "def is_decreasing(lst):\n",
    "    n = len(lst)-1\n",
    "    i = 0\n",
    "    while i < n:\n",
    "        if lst[i] > lst[i+1]:\n",
    "            print(False)\n",
    "            return\n",
    "        i += 1\n",
    "    print(True)"
   ]
  },
  {
   "cell_type": "code",
   "execution_count": 28,
   "metadata": {},
   "outputs": [
    {
     "name": "stdout",
     "output_type": "stream",
     "text": [
      "[4, 5]\n"
     ]
    }
   ],
   "source": [
    "# 17. Write a Python program to find the intersection of two lists.\n",
    "def find_intersection(list1, list2):\n",
    "    intersection = []\n",
    "    \n",
    "    for element in list1:\n",
    "        if element in list2:\n",
    "            intersection.append(element)\n",
    "    \n",
    "    return intersection\n",
    "\n",
    "# Example usage\n",
    "list1 = [1, 2, 3, 4, 5]\n",
    "list2 = [4, 5, 6, 7, 8]\n",
    "result = find_intersection(list1, list2)\n",
    "print(result)\n",
    "\n",
    "\n"
   ]
  },
  {
   "cell_type": "code",
   "execution_count": 37,
   "metadata": {},
   "outputs": [
    {
     "name": "stdout",
     "output_type": "stream",
     "text": [
      "cur_sum -2 1 -1\n",
      "{1} 1\n",
      "cur_sum 1 -3 -2\n",
      "{-2} 1\n",
      "cur_sum -2 4 2\n",
      "{4} 4\n",
      "cur_sum 4 -1 3\n",
      "{3} 4\n",
      "cur_sum 3 2 5\n",
      "{5} 5\n",
      "cur_sum 5 1 6\n",
      "{6} 6\n",
      "cur_sum 6 -5 1\n",
      "{1} 6\n",
      "cur_sum 1 4 5\n",
      "{5} 6\n",
      "6\n"
     ]
    }
   ],
   "source": [
    "# 18. Implement a function to find the maximum subarray sum in a given list.\n",
    "def max_subarr_sum(arr):\n",
    "    if not arr:\n",
    "        return 0\n",
    "    \n",
    "    max_sum = arr[0]\n",
    "    current_sum = arr[0]\n",
    "\n",
    "    for num in arr[1:]:\n",
    "        current_sum = max(num,current_sum+num)\n",
    "        max_sum = max(max_sum,current_sum)\n",
    "    return max_sum\n",
    "\n",
    "\n",
    "arr = [-2, 1, -3, 4, -1, 2, 1, -5, 4]\n",
    "result = max_subarr_sum(arr)\n",
    "print(result) "
   ]
  },
  {
   "cell_type": "code",
   "execution_count": 29,
   "metadata": {},
   "outputs": [
    {
     "name": "stdout",
     "output_type": "stream",
     "text": [
      "rn khr\n"
     ]
    }
   ],
   "source": [
    "# 19. Write a program to remove all vowels from a given string.\n",
    "def remove_v(string):\n",
    "    v = \"aeiouAEIOU\"\n",
    "    new_str = \"\"\n",
    "    for l in range(len(string)):\n",
    "        if string[l] not in v:\n",
    "            new_str +=string[l]\n",
    "    print(new_str)\n",
    "remove_v(\"Arun khare\")\n",
    "        "
   ]
  },
  {
   "cell_type": "code",
   "execution_count": 61,
   "metadata": {},
   "outputs": [
    {
     "name": "stdout",
     "output_type": "stream",
     "text": [
      "sentence. given a in words of order the reverse to function a Implement\n"
     ]
    }
   ],
   "source": [
    "# 20. Implement a function to reverse the order of words in a given sentence.\n",
    "def reverse_words(sentence):\n",
    "    words = sentence.split()[::-1]\n",
    "    rev_sent = \" \".join(words)\n",
    "    print(rev_sent)\n",
    "\n",
    "    \n",
    "sentence = \"Implement a function to reverse the order of words in a given sentence.\"\n",
    "\n",
    "reverse_words(sentence)"
   ]
  },
  {
   "cell_type": "code",
   "execution_count": 75,
   "metadata": {},
   "outputs": [
    {
     "name": "stdout",
     "output_type": "stream",
     "text": [
      "u\n",
      "[2, 2, 3]\n",
      "2\n",
      "22\n",
      "[1, 2, 3, 4, 5, 8, 6]\n",
      "fl\n",
      "16 is not a perfect square.\n",
      "384\n",
      "you? are how Hello,\n",
      "Missing : [3, 6]\n",
      "6\n",
      "True\n",
      "1\n",
      "3\n",
      "True\n",
      "Arun khae\n"
     ]
    }
   ],
   "source": [
    "# 22. Implement a function to find the first non-repeating character in a string.\n",
    "def first_non_repeating(string):\n",
    "    chars = {}\n",
    "    for i in string:\n",
    "        if i in chars:\n",
    "            chars[i]+=1\n",
    "        else:\n",
    "            chars[i] = 1\n",
    "    for key, value in chars.items():\n",
    "        if value == 1:\n",
    "            print(key)\n",
    "            return\n",
    "\n",
    "string = \"arun khare\"\n",
    "first_non_repeating(string)\n",
    "\n",
    "# 23. Write a program to find the prime factors of a given number.\n",
    "def prime_factor(n):\n",
    "    factors = []\n",
    "    i = 2\n",
    "    while i <= n:\n",
    "        if n%i == 0:\n",
    "            factors.append(i)\n",
    "            n //= i\n",
    "        else:\n",
    "            i += 1\n",
    "    print(factors)\n",
    "input = 12\n",
    "prime_factor(input)\n",
    "\n",
    "\n",
    "# 24. Implement a function to check if a given number is a power of two.\n",
    "def is_powof2(num):\n",
    "    if num <= 0:\n",
    "        return False\n",
    "    while num > 1:\n",
    "        if num%2 != 0:\n",
    "            return False\n",
    "        num //= 2\n",
    "    return True\n",
    "\n",
    "\n",
    "# 25. Write a Python program to merge two sorted lists into a single sorted list.\n",
    "def merger_sortedlist(l1,l2):\n",
    "    if l1[-1] < l2[0]:\n",
    "        l1.extend(l2)\n",
    "    else:\n",
    "        l2.extend(l1)\n",
    "\n",
    "# 26. Implement a function to find the mode of a list of numbers.\n",
    "from collections import Counter\n",
    "def mode_of_list(lst):\n",
    "    counter = Counter(lst)\n",
    "    max_count = max(counter.values)\n",
    "    mode = [num for num, count in counter.items if count == max_count]\n",
    "    return mode\n",
    "    \n",
    "# 27. Write a program to find the greatest common divisor (GCD) of two numbers. \n",
    "def gcd(num1, num2): # Euclidean distance\n",
    "    while num2 != 0:\n",
    "        num1, num2 = num2, num1 % num2\n",
    "    return num1\n",
    "\n",
    "import math\n",
    "def gcd(num1, num2):\n",
    "    return math.gcd(num1, num2)\n",
    "gcd(10,15)\n",
    "\n",
    "# 28. Implement a function to calculate the square root of a given number.\n",
    "# math.sqrt()\n",
    "\n",
    "def square_root(num): #Newton's method for approximating square roots\n",
    "    if num < 0:\n",
    "        raise ValueError(\"Cannot calculate square root of a negative number.\")\n",
    "    \n",
    "    if num == 0:\n",
    "        return 0\n",
    "\n",
    "    # Initial guess\n",
    "    guess = num / 2\n",
    "\n",
    "    # Iterate until desired precision is reached\n",
    "    while True:\n",
    "        new_guess = (guess + num / guess) / 2\n",
    "        if abs(guess - new_guess) < 0.0001:\n",
    "            return new_guess\n",
    "        guess = new_guess\n",
    "\n",
    "# 30. Implement a function to find the minimum element in a rotated sorted list.\n",
    "def find_min_element(nums):\n",
    "    left = 0\n",
    "    right = len(nums) - 1\n",
    "\n",
    "    while left < right:\n",
    "        mid = (left + right) // 2\n",
    "\n",
    "        if nums[mid] > nums[right]:\n",
    "            left = mid + 1\n",
    "        else:\n",
    "            right = mid\n",
    "    print(nums[left])\n",
    "    return nums[left]\n",
    "\n",
    "find_min_element([5,6,7,8,2,3,4])\n",
    "\n",
    "# 31. Write a program to find the sum of all even numbers in a list.\n",
    "def find_sumof_even(lst):\n",
    "    sum_even = 0\n",
    "    for l in lst:\n",
    "        if l%2 ==0:\n",
    "            sum_even +=l\n",
    "    print(sum_even)\n",
    "\n",
    "find_sumof_even([1,2,4,5,5,2,6,7,7,3,8])\n",
    "\n",
    "# 32. Implement a function to calculate the power of a number using recursion.\n",
    "def power(base, exponent):\n",
    "    if exponent == 0:\n",
    "        return 1\n",
    "    elif exponent > 0:\n",
    "        return base * power(base, exponent - 1)\n",
    "    else:\n",
    "        return 1/(base * power(base, -exponent-1))\n",
    "\n",
    "power(2,-2)\n",
    "\n",
    "\n",
    "# 33. Write a Python program to remove duplicates from a list while preserving the order.\n",
    "def remove_dup(lst):\n",
    "    visited = []\n",
    "    for i in lst:\n",
    "        if i not in visited:\n",
    "            visited.append(i)\n",
    "    print(visited)\n",
    "remove_dup([1,2,3,4,2,4,5,3,8,6])\n",
    "# 34. Implement a function to find the longest common prefix among a list of strings.\n",
    "def longest_common_prefix(strings):\n",
    "    if not strings:\n",
    "        return \"\"\n",
    "    \n",
    "    prefix = strings[0]  # Assume the first string as the initial prefix\n",
    "    \n",
    "    for string in strings[1:]:\n",
    "        while not string.startswith(prefix):\n",
    "            prefix = prefix[:-1]  # Remove the last character from prefix\n",
    "            \n",
    "            if not prefix:  # If prefix becomes empty, return immediately\n",
    "                return \"\"\n",
    "    \n",
    "    return prefix\n",
    "\n",
    "words = [\"flower\", \"flow\", \"flight\"]\n",
    "common_prefix = longest_common_prefix(words)\n",
    "print(common_prefix)\n",
    "\n",
    "# 35. Write a program to check if a given number is a perfect square.\n",
    "def is_perfect_square(num):\n",
    "    if num < 0:\n",
    "        return False\n",
    "    if num == 0:\n",
    "        return True\n",
    "    \n",
    "    left, right = 1, num\n",
    "\n",
    "    while left <= right:\n",
    "        mid = (left + right) // 2\n",
    "        square = mid * mid\n",
    "\n",
    "        if square == num:\n",
    "            return True\n",
    "        elif square < num:\n",
    "            left = mid + 1\n",
    "        else:\n",
    "            right = mid-1\n",
    "\n",
    "        return False\n",
    "\n",
    "number = 16\n",
    "if is_perfect_square(number):\n",
    "    print(number, \"is a perfect square.\")\n",
    "else:\n",
    "    print(number, \"is not a perfect square.\")\n",
    "\n",
    "# 36. Implement a function to calculate the product of all elements in a list.\n",
    "def cal_product(lst):\n",
    "    result = 1\n",
    "    for num in lst:\n",
    "        result *=num\n",
    "    return result\n",
    "numbers = [2, 4, 6, 8]\n",
    "product = cal_product(numbers)\n",
    "print(product)\n",
    "\n",
    "\n",
    "# 37. Write a Python program to reverse the order of words in a sentence while preserving the word order.\n",
    "def reverse_sentence(sentence):\n",
    "    words = sentence.split()  \n",
    "    reversed_words = words[::-1] \n",
    "    reversed_sentence = ' '.join(reversed_words)\n",
    "    return reversed_sentence\n",
    "\n",
    "# Example usage:\n",
    "sentence = \"Hello, how are you?\"\n",
    "reversed_sentence = reverse_sentence(sentence)\n",
    "print(reversed_sentence) \n",
    "\n",
    "# 38. Implement a function to find the missing number in a given list of consecutive numbers.\n",
    "def find_missing(lst):\n",
    "    elements = set(lst)\n",
    "    missing = []\n",
    "\n",
    "    for i in range(min(lst), max(lst)+1):\n",
    "        if i not in elements:\n",
    "            missing.append(i) \n",
    "    return missing\n",
    "    \n",
    "lst = [1,2,4,5,7,8,9]\n",
    "\n",
    "missing = find_missing(lst)\n",
    "\n",
    "print(f'Missing : {missing}')\n",
    "\n",
    "# 39. Write a program to find the sum of digits of a given number.\n",
    "\n",
    "def sum_of_digits(num):\n",
    "    digit_sum = 0\n",
    "    while num >= 1:\n",
    "        digit_sum += num % 2\n",
    "        num //= 2\n",
    "    return digit_sum\n",
    "\n",
    "result = sum_of_digits(123)\n",
    "print(result) \n",
    "\n",
    "# 40. Implement a function to check if a given string is a valid palindrome considering case sensitivity.\n",
    "def is_palindrome(string):\n",
    "    string = string.lower()\n",
    "    left = 0\n",
    "    right = len(string)-1\n",
    "\n",
    "    while left <= right:\n",
    "        if string[left] != string[right]:\n",
    "            return False\n",
    "        left +=1\n",
    "        right -=1\n",
    "    return True\n",
    "\n",
    "\n",
    "string = \"Nayan\"\n",
    "flag =is_palindrome(string)\n",
    "print(flag)\n",
    "# 41. Write a Python program to find the smallest missing positive integer in a list.\n",
    "def smallest_positive(lst):\n",
    "    min_positive = float(\"inf\")\n",
    "    for i in lst:\n",
    "        if i > 0 and min_positive > i :\n",
    "               min_positive = i\n",
    "    return min_positive\n",
    "\n",
    "lst = [-2, 4, -1,1,10,2,3,4,5]\n",
    "print(smallest_positive(lst))\n",
    "\n",
    "# 42. Implement a function to find the longest palindrome substring in a given string.\n",
    "def longest_palindrome(string):\n",
    "    longest = \"\"\n",
    "    for i in range(len(string)):\n",
    "        # Check for odd-length palindromes\n",
    "        left, right = i, i\n",
    "        while left >= 0 and right < len(string) and string[left] == string[right]:\n",
    "            substring = string[left:right+1]\n",
    "            if len(substring) > len(longest):\n",
    "                longest = substring\n",
    "            left -= 1\n",
    "            right += 1\n",
    "        \n",
    "        # Check for even-length palindromes\n",
    "        left, right = i, i+1\n",
    "        while left >= 0 and right < len(string) and string[left] == string[right]:\n",
    "            substring = string[left:right+1]\n",
    "            if len(substring) > len(longest):\n",
    "                longest = substring\n",
    "            left -= 1\n",
    "            right += 1\n",
    "\n",
    "# 43. Write a program to find the number of occurrences of a given element in a list.\n",
    "def occurences_of_ele(lst,ele):\n",
    "    occ = 0\n",
    "    for i in lst:\n",
    "        if i==ele:\n",
    "            occ +=1\n",
    "    return occ\n",
    "lst = [1,2,4,5,3,6,3,6,8,3,6,3,7,7,6,45,2,4,7,2,5]\n",
    "ele = 2\n",
    "print(occurences_of_ele(lst,ele))\n",
    "\n",
    "# 44. Implement a function to check if a given number is a perfect number.\n",
    "#  A perfect number is a positive integer that is equal to the sum of its proper divisors (excluding the number itself)\n",
    "def is_perfect_number(num):\n",
    "    if num <= 0:\n",
    "        return False\n",
    "\n",
    "    divisor_sum = 0\n",
    "    for i in range(1, num):\n",
    "        if num % i == 0:\n",
    "            divisor_sum += i\n",
    "\n",
    "    return divisor_sum == num\n",
    "\n",
    "# Example usage:\n",
    "number = 28\n",
    "is_perfect = is_perfect_number(number)\n",
    "print(is_perfect)  \n",
    "\n",
    "# 45. Write a Python program to remove all duplicates from a string.\n",
    "def remove_dup_string(string):\n",
    "    new_str =\"\"\n",
    "    for i in string:\n",
    "        if i not in new_str:\n",
    "            new_str = new_str+i\n",
    "    return new_str\n",
    "string = \"Arun khare\"\n",
    "print(remove_dup_string(string))\n",
    "\n",
    "# 46. Implement a function to find the first missing positive\n",
    "def first_missing_positive(lst):\n",
    "    lst.sort()\n",
    "    smallest_missing = 1\n",
    "\n",
    "    for num in lst:\n",
    "        print(\"Smallest\",smallest_missing, num)\n",
    "        if num > smallest_missing:\n",
    "            print(\"Smallest missing\",smallest_missing, num)\n",
    "            return smallest_missing\n",
    "        elif num > 0:\n",
    "            smallest_missing = num+1\n",
    "            print(f\"num {num}, smallest_missing {smallest_missing }\")\n",
    "    return smallest_missing\n",
    "\n",
    "\n",
    "lst = [-1,0,1,2,4,5]\n",
    "first_missing_positive(lst)"
   ]
  },
  {
   "cell_type": "code",
   "execution_count": 92,
   "metadata": {},
   "outputs": [
    {
     "name": "stdout",
     "output_type": "stream",
     "text": [
      "Smallest 1 -1\n",
      "Smallest 1 0\n",
      "Smallest 1 1\n",
      "num 1, smallest_missing 2\n",
      "Smallest 2 2\n",
      "num 2, smallest_missing 3\n",
      "Smallest 3 4\n",
      "Smallest missing 3 4\n"
     ]
    },
    {
     "data": {
      "text/plain": [
       "3"
      ]
     },
     "execution_count": 92,
     "metadata": {},
     "output_type": "execute_result"
    }
   ],
   "source": []
  },
  {
   "cell_type": "code",
   "execution_count": 3,
   "metadata": {},
   "outputs": [
    {
     "data": {
      "text/plain": [
       "0.25"
      ]
     },
     "execution_count": 3,
     "metadata": {},
     "output_type": "execute_result"
    }
   ],
   "source": []
  },
  {
   "cell_type": "code",
   "execution_count": 2,
   "metadata": {},
   "outputs": [
    {
     "data": {
      "text/plain": [
       "0.25"
      ]
     },
     "execution_count": 2,
     "metadata": {},
     "output_type": "execute_result"
    }
   ],
   "source": [
    "pow(2,-2)"
   ]
  },
  {
   "cell_type": "code",
   "execution_count": null,
   "metadata": {},
   "outputs": [],
   "source": []
  }
 ],
 "metadata": {
  "kernelspec": {
   "display_name": "base",
   "language": "python",
   "name": "python3"
  },
  "language_info": {
   "codemirror_mode": {
    "name": "ipython",
    "version": 3
   },
   "file_extension": ".py",
   "mimetype": "text/x-python",
   "name": "python",
   "nbconvert_exporter": "python",
   "pygments_lexer": "ipython3",
   "version": "3.9.12"
  },
  "orig_nbformat": 4
 },
 "nbformat": 4,
 "nbformat_minor": 2
}
