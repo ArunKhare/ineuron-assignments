{
 "cells": [
  {
   "cell_type": "markdown",
   "id": "30de386d",
   "metadata": {},
   "source": [
    "1. What is the result of the code, and explain?\n",
    "\n",
    "&gt;&gt;&gt; X = &#39;iNeuron&#39;\n",
    "&gt;&gt;&gt; def func():\n",
    "print(X)\n",
    "\n",
    "&gt;&gt;&gt; func()\n",
    "\n"
   ]
  },
  {
   "cell_type": "code",
   "execution_count": 2,
   "id": "1648122b",
   "metadata": {},
   "outputs": [
    {
     "name": "stdout",
     "output_type": "stream",
     "text": [
      "iNeuron\n"
     ]
    }
   ],
   "source": [
    "x = 'iNeuron'\n",
    "def func():\n",
    "    print(x)\n",
    "func()"
   ]
  },
  {
   "cell_type": "markdown",
   "id": "1fb93fac",
   "metadata": {},
   "source": [
    "2. What is the result of the code, and explain?\n",
    ">>> X = 'iNeuron' >>> def func(): X = 'NI!'\n",
    ">>> func() >>> print(X)"
   ]
  },
  {
   "cell_type": "code",
   "execution_count": 16,
   "id": "b0fcfea8",
   "metadata": {},
   "outputs": [
    {
     "name": "stdout",
     "output_type": "stream",
     "text": [
      "iNeuron\n"
     ]
    },
    {
     "data": {
      "text/plain": [
       "'X before function is a global variable \\nX inside is a local variable. Scope of X is limited to a function only. no print statement in func()'"
      ]
     },
     "execution_count": 16,
     "metadata": {},
     "output_type": "execute_result"
    }
   ],
   "source": [
    "X = 'iNeuron'\n",
    "def func(): \n",
    "    X = 'NI!' \n",
    "func() \n",
    "print(X)\n",
    "\"\"\"X before function is a global variable \n",
    "X inside is a local variable. Scope of X is limited to a function only. no print statement in func()\"\"\""
   ]
  },
  {
   "cell_type": "markdown",
   "id": "14bbad6e",
   "metadata": {},
   "source": [
    "3. What does this code print, and why?\n",
    ">>> X = 'iNeuron' >>> def func(): X = 'NI' print(X)\n",
    ">>> func() >>> print(X)"
   ]
  },
  {
   "cell_type": "code",
   "execution_count": 15,
   "id": "ed5a0f60",
   "metadata": {},
   "outputs": [
    {
     "name": "stdout",
     "output_type": "stream",
     "text": [
      "NI\n",
      "iNeuron\n"
     ]
    },
    {
     "data": {
      "text/plain": [
       "\"cause of print statement in func(). prints 'NI'\""
      ]
     },
     "execution_count": 15,
     "metadata": {},
     "output_type": "execute_result"
    }
   ],
   "source": [
    "X = 'iNeuron' \n",
    "def func(): \n",
    "    X = 'NI' \n",
    "    print(X) \n",
    "func() \n",
    "print(X)\n",
    "\"\"\"cause of print statement in func(). prints 'NI'\"\"\""
   ]
  },
  {
   "cell_type": "markdown",
   "id": "a36cb6a9",
   "metadata": {},
   "source": [
    "4 .What output does this code produce? Why?\n",
    ">>> X = 'iNeuron' >>> def func(): global X X = 'NI'\n",
    ">>> func() >>> print(X)\n"
   ]
  },
  {
   "cell_type": "code",
   "execution_count": 17,
   "id": "c5be0ce8",
   "metadata": {},
   "outputs": [
    {
     "name": "stdout",
     "output_type": "stream",
     "text": [
      "NI\n"
     ]
    },
    {
     "data": {
      "text/plain": [
       "'Produce the output NI as the variable Scope is global, not limited to the function'"
      ]
     },
     "execution_count": 17,
     "metadata": {},
     "output_type": "execute_result"
    }
   ],
   "source": [
    "X = 'iNeuron'\n",
    "def func(): \n",
    "    global X \n",
    "    X = 'NI'\n",
    "\n",
    "func()\n",
    "print(X)\n",
    "\"\"\"Produce the output NI as the variable Scope is global, not limited to the function\"\"\""
   ]
  },
  {
   "cell_type": "markdown",
   "id": "7828292e",
   "metadata": {},
   "source": [
    "5. What about this code—what’s the output, and why?\n",
    ">>> X = 'iNeuron' >>> def func(): X = 'NI' def nested(): print(X) nested()\n",
    "\n",
    ">>> func() >>> X\n"
   ]
  },
  {
   "cell_type": "code",
   "execution_count": 26,
   "id": "262cb0c6",
   "metadata": {},
   "outputs": [
    {
     "name": "stdout",
     "output_type": "stream",
     "text": [
      "NI\n"
     ]
    },
    {
     "data": {
      "text/plain": [
       "'X scope in function is limited to the function and its child/nested function.'"
      ]
     },
     "execution_count": 26,
     "metadata": {},
     "output_type": "execute_result"
    }
   ],
   "source": [
    "X = 'iNeuron' \n",
    "def func(): \n",
    "    X = 'NI' \n",
    "    def nested(): \n",
    "        print(X) \n",
    "    nested()\n",
    "func() \n",
    "X\n",
    "\"\"\"X scope in function is limited to the function and its child/nested function.\"\"\""
   ]
  },
  {
   "cell_type": "markdown",
   "id": "b51b255a",
   "metadata": {},
   "source": [
    "6. How about this code: what is its output in Python 3, and explain?\n",
    ">>> def func(): X = 'NI' def nested(): nonlocal X X = 'Spam' nested() print(X)\n",
    "\n",
    ">>> func()"
   ]
  },
  {
   "cell_type": "code",
   "execution_count": 35,
   "id": "4e26e0a7",
   "metadata": {},
   "outputs": [
    {
     "name": "stdout",
     "output_type": "stream",
     "text": [
      "Spam\n"
     ]
    },
    {
     "data": {
      "text/plain": [
       "'X is declard as nonlocal in the inside nested function, where variable should \"not\" belong to the inner function '"
      ]
     },
     "execution_count": 35,
     "metadata": {},
     "output_type": "execute_result"
    }
   ],
   "source": [
    "def func(): \n",
    "    X = 'NI' \n",
    "    def nested(): \n",
    "        nonlocal X \n",
    "        X = 'Spam' \n",
    "    nested() \n",
    "    print(X)\n",
    "func()\n",
    "\"\"\"X is declard as nonlocal in the inside nested function, where variable should \"not\" belong to the inner function \"\"\""
   ]
  }
 ],
 "metadata": {
  "kernelspec": {
   "display_name": "Python 3 (ipykernel)",
   "language": "python",
   "name": "python3"
  },
  "language_info": {
   "codemirror_mode": {
    "name": "ipython",
    "version": 3
   },
   "file_extension": ".py",
   "mimetype": "text/x-python",
   "name": "python",
   "nbconvert_exporter": "python",
   "pygments_lexer": "ipython3",
   "version": "3.9.7"
  }
 },
 "nbformat": 4,
 "nbformat_minor": 5
}
