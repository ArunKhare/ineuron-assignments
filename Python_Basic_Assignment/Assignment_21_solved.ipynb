{
 "cells": [
  {
   "cell_type": "markdown",
   "id": "b154fa41",
   "metadata": {},
   "source": [
    "1. Add the current date to the text file today.txt as a string."
   ]
  },
  {
   "cell_type": "code",
   "execution_count": 1,
   "id": "09879c84",
   "metadata": {},
   "outputs": [],
   "source": [
    "import datetime"
   ]
  },
  {
   "cell_type": "code",
   "execution_count": 7,
   "id": "69655de3",
   "metadata": {},
   "outputs": [],
   "source": [
    "now = datetime.date.today()\n",
    "date_string = now.strftime('%d-%m-%Y')\n",
    "with open (\"today.txt\", 'w') as file:\n",
    "    file.write(date_string)"
   ]
  },
  {
   "cell_type": "markdown",
   "id": "bed41378",
   "metadata": {},
   "source": [
    "2. Read the text file today.txt into the string today_string"
   ]
  },
  {
   "cell_type": "code",
   "execution_count": 10,
   "id": "c4c92f87",
   "metadata": {},
   "outputs": [
    {
     "data": {
      "text/plain": [
       "'08-07-2022'"
      ]
     },
     "execution_count": 10,
     "metadata": {},
     "output_type": "execute_result"
    }
   ],
   "source": [
    "with open (\"today.txt\",'r') as file:\n",
    "    today = file.read()\n",
    "today"
   ]
  },
  {
   "cell_type": "markdown",
   "id": "27868c4e",
   "metadata": {},
   "source": [
    "3. Parse the date from today_string."
   ]
  },
  {
   "cell_type": "code",
   "execution_count": 20,
   "id": "3b3ca1df",
   "metadata": {},
   "outputs": [
    {
     "data": {
      "text/plain": [
       "datetime.datetime(2022, 7, 8, 0, 0)"
      ]
     },
     "execution_count": 20,
     "metadata": {},
     "output_type": "execute_result"
    }
   ],
   "source": [
    "datetime.datetime.strptime(date_string,'%d-%m-%Y')"
   ]
  },
  {
   "cell_type": "markdown",
   "id": "d7fb872f",
   "metadata": {},
   "source": [
    "4. List the files in your current directory"
   ]
  },
  {
   "cell_type": "code",
   "execution_count": 23,
   "id": "61130089",
   "metadata": {},
   "outputs": [
    {
     "name": "stdout",
     "output_type": "stream",
     "text": [
      " Volume in drive C is Windows\n",
      " Volume Serial Number is 3C33-955B\n",
      "\n",
      " Directory of C:\\Users\\Lenovo\\Assignment\n",
      "\n",
      "08-07-2022  20:14    <DIR>          .\n",
      "08-07-2022  20:14    <DIR>          ..\n",
      "08-07-2022  20:00    <DIR>          .ipynb_checkpoints\n",
      "22-06-2022  21:34            10,061 Assignment_1.docx\n",
      "22-06-2022  21:34             9,234 Assignment_10.docx\n",
      "22-06-2022  21:35             9,459 Assignment_11.docx\n",
      "22-06-2022  21:35             9,446 Assignment_12.docx\n",
      "22-06-2022  21:38             9,183 Assignment_13.docx\n",
      "22-06-2022  21:38             9,284 Assignment_14.docx\n",
      "22-06-2022  21:34             9,806 Assignment_2.docx\n",
      "22-06-2022  21:34             9,452 Assignment_3.docx\n",
      "22-06-2022  21:34             9,626 Assignment_4.docx\n",
      "22-06-2022  21:34             9,288 Assignment_5.docx\n",
      "22-06-2022  21:34             9,462 Assignment_6.docx\n",
      "22-06-2022  21:34            10,472 Assignment_7.docx\n",
      "22-06-2022  21:34             9,208 Assignment_8.docx\n",
      "22-06-2022  21:34             9,273 Assignment_9.docx\n",
      "08-07-2022  19:56    <DIR>          Solved\n",
      "08-07-2022  20:08                10 today.txt\n",
      "08-07-2022  20:07                10 today_date.txt\n",
      "08-07-2022  20:14             3,123 Untitled.ipynb\n",
      "              17 File(s)        136,397 bytes\n",
      "               4 Dir(s)  81,678,458,880 bytes free\n"
     ]
    }
   ],
   "source": [
    "ls"
   ]
  },
  {
   "cell_type": "markdown",
   "id": "2fdc0c0f",
   "metadata": {},
   "source": [
    "5. Create a list of all of the files in your parent directory (minimum five files should be available)."
   ]
  },
  {
   "cell_type": "code",
   "execution_count": 24,
   "id": "8ef68bc1",
   "metadata": {},
   "outputs": [
    {
     "data": {
      "text/plain": [
       "['-1.14-windows.xml',\n",
       " '.anaconda',\n",
       " '.android',\n",
       " '.astropy',\n",
       " '.bash_history',\n",
       " '.bash_profile',\n",
       " '.conda',\n",
       " '.condarc',\n",
       " '.continuum',\n",
       " '.cufflinks',\n",
       " '.docker',\n",
       " '.git-for-windows-updater',\n",
       " '.gitconfig',\n",
       " '.idlerc',\n",
       " '.ipynb_checkpoints',\n",
       " '.ipython',\n",
       " '.jupyter',\n",
       " '.kivy',\n",
       " '.lesshst',\n",
       " '.matplotlib',\n",
       " '.python_history',\n",
       " '.spyder-py3',\n",
       " '.viminfo',\n",
       " '.vscode',\n",
       " '.zshrc',\n",
       " '19.3.1 mongoDB introduction.ipynb',\n",
       " '19.3.2 pyMongo.ipynb',\n",
       " '19.3.3 Atlas.ipynb',\n",
       " '3D Objects',\n",
       " 'Abstract Class.ipynb',\n",
       " 'add.txt',\n",
       " 'addresses.csv',\n",
       " 'airline.xls',\n",
       " 'alcohol.xls',\n",
       " 'Algo',\n",
       " 'Algorithms',\n",
       " 'anaconda3',\n",
       " 'andy.xls',\n",
       " 'AppData',\n",
       " 'Application Data',\n",
       " 'asparas.xls',\n",
       " 'Assignment',\n",
       " 'bank',\n",
       " 'BlackFridayDataset',\n",
       " 'Blue-Flower-Background-PNG.png',\n",
       " 'Book1.xlsx',\n",
       " 'Books',\n",
       " 'carbon_nanotubes.csv',\n",
       " 'Class  mongodb sqlite task.txt',\n",
       " 'combined_csv',\n",
       " 'conda configuration details.txt',\n",
       " 'Contacts',\n",
       " 'contacts.csv',\n",
       " 'Cookies',\n",
       " 'Cricket',\n",
       " 'Cricket.csv',\n",
       " 'daemon.json',\n",
       " 'data structure',\n",
       " 'data.txt',\n",
       " 'dataset-main',\n",
       " 'deep learning',\n",
       " 'deployment steps link.jpg',\n",
       " 'Desktop',\n",
       " 'Django',\n",
       " 'Documents',\n",
       " 'Downloads',\n",
       " 'EDA',\n",
       " 'EndtoEnd',\n",
       " 'Exception handling , Logging ,custom exception handling.ipynb',\n",
       " 'Favorites',\n",
       " 'Feature eng..jpg',\n",
       " 'feature engineering.ipynb',\n",
       " 'First_ML_project',\n",
       " 'Flask Task Demos',\n",
       " 'football.csv',\n",
       " 'gensim-data',\n",
       " 'Github',\n",
       " 'google.txt',\n",
       " 'GUI .ipynb',\n",
       " 'GUI Programming 2 date time.ipynb',\n",
       " 'GUI programming message box and bind .ipynb',\n",
       " 'GUI Programming.ipynb',\n",
       " 'GUI tkinter practice.ipynb',\n",
       " 'holiday_schedules.csv',\n",
       " 'ImageScraper-master',\n",
       " 'ImageScrapper',\n",
       " 'inenron.db',\n",
       " 'iris.csv',\n",
       " 'json_res.csv',\n",
       " 'json_response.csv',\n",
       " 'K-Nearest-Neighour-master',\n",
       " 'kavya.jpg',\n",
       " 'keyboard.ipynb',\n",
       " 'kivy',\n",
       " 'kivy installation in cmd.txt',\n",
       " 'Lassoand Regression.ipynb',\n",
       " 'linear algebra.txt',\n",
       " 'Links',\n",
       " 'List -Logic building.ipynb',\n",
       " 'List,Mutable and immutable, List operations.ipynb',\n",
       " 'Local Settings',\n",
       " 'locations.csv',\n",
       " 'logic  True False.ipynb',\n",
       " 'mail_addresses.csv',\n",
       " 'Map ,reduce filter.ipynb',\n",
       " 'Matplotlib, Plotly .ipynb',\n",
       " 'ML Projects',\n",
       " 'Module revision.ipynb',\n",
       " 'Mongodb.ipynb',\n",
       " 'Music',\n",
       " 'My Documents',\n",
       " 'my first file in notepad.txt',\n",
       " 'mysql.ipynb',\n",
       " 'my_module.py',\n",
       " 'my_test_folder',\n",
       " 'names test.csv',\n",
       " 'NBA.csv',\n",
       " 'NetHood',\n",
       " 'nick-fewings.gif',\n",
       " 'ntuser.dat',\n",
       " 'ntuser.dat.log1',\n",
       " 'ntuser.dat.log2',\n",
       " 'NTUSER.DAT{5e210370-007f-11eb-835a-0045e2463e6e}.TM.blf',\n",
       " 'NTUSER.DAT{5e210370-007f-11eb-835a-0045e2463e6e}.TMContainer00000000000000000001.regtrans-ms',\n",
       " 'NTUSER.DAT{5e210370-007f-11eb-835a-0045e2463e6e}.TMContainer00000000000000000002.regtrans-ms',\n",
       " 'ntuser.dat{d726d0ce-aa5c-11ec-83ba-0045e2463e6e}.TM.blf',\n",
       " 'ntuser.dat{d726d0ce-aa5c-11ec-83ba-0045e2463e6e}.TMContainer00000000000000000001.regtrans-ms',\n",
       " 'ntuser.dat{d726d0ce-aa5c-11ec-83ba-0045e2463e6e}.TMContainer00000000000000000002.regtrans-ms',\n",
       " 'ntuser.ini',\n",
       " 'NUMPY.ipynb',\n",
       " 'OneDrive',\n",
       " 'OOPs Class inheritance examples.ipynb',\n",
       " 'OOPS creating a class,,Types of Variable and class,  Encapsulation.ipynb',\n",
       " 'oops.ipynb',\n",
       " 'organizations.csv',\n",
       " 'output.csv',\n",
       " 'owner',\n",
       " 'pandas 4 .ipynb',\n",
       " 'pandas day 2.ipynb',\n",
       " 'Pandas dropna , isnull.ipynb',\n",
       " 'PANDAS read, dataframe, series.ipynb',\n",
       " 'person.db',\n",
       " 'phones.csv',\n",
       " 'photoimage.gif',\n",
       " 'Pictures',\n",
       " 'polymorphism.ipynb',\n",
       " 'Postman',\n",
       " 'PrintHood',\n",
       " 'programs.csv',\n",
       " 'PycharmProjects',\n",
       " 'python',\n",
       " 'Python - Reflected artihmetic operators.jpg',\n",
       " 'python function -internal.jpg',\n",
       " 'python function and passing a variable,  list comprehension ,iterator and iterable.ipynb',\n",
       " 'Python functions and use of [], (), {}.ipynb',\n",
       " 'python iterator generator, open file txt, remove file.ipynb',\n",
       " 'python module.ipynb',\n",
       " 'python program discussion-Copy1.ipynb',\n",
       " 'python program discussion2.ipynb',\n",
       " 'Python relational operator overloading.jpg',\n",
       " 'PythonEntoEnd2',\n",
       " 'pythonProject',\n",
       " 'Recent',\n",
       " 'Regex.ipynb',\n",
       " 'regular_schedules.csv',\n",
       " 'relaxed.json',\n",
       " 'result.pdf',\n",
       " 'result1.pdf',\n",
       " 'result2.pdf',\n",
       " 'ReviewFlask',\n",
       " 'same-resume-year-wise-master',\n",
       " 'sample-csv',\n",
       " 'sampledata.json',\n",
       " 'sampl_test.csv',\n",
       " 'Sandbox, functools, collections, metaclass.ipynb',\n",
       " 'Saved Games',\n",
       " 'ScrapIneuron',\n",
       " 'Scraping-Ineuron webpage.ipynb',\n",
       " 'Scrap_Ineuron.ai-Copy1.ipynb',\n",
       " 'Scrap_Ineuron.ai.ipynb',\n",
       " 'seaborn, matplotlib.ipynb',\n",
       " 'seaborn-data',\n",
       " 'Searches',\n",
       " 'SendTo',\n",
       " 'services.csv',\n",
       " 'source',\n",
       " 'SQL .ipynb',\n",
       " 'SQLite, Map, Reduce, Filter, Zip ,List, tuple, Set,Dict.ipynb',\n",
       " 'Start Menu',\n",
       " 'Statistic',\n",
       " 'Statistic.ipynb',\n",
       " 'Structuring your project',\n",
       " 'Syllabus remaining FSDS.txt',\n",
       " 'Sys and OS.ipynb',\n",
       " 'Task 4 list txt files and merge files.ipynb',\n",
       " 'Task Class 23jan oops class.ipynb',\n",
       " 'Task class inheritance an polymophism.ipynb',\n",
       " 'Task Mongo db approach1.ipynb',\n",
       " 'Task Mongo db.ipynb',\n",
       " 'Task mysql.ipynb',\n",
       " 'Task Pandas.ipynb',\n",
       " 'Task REX.ipynb',\n",
       " 'task.db',\n",
       " 'task.db-journal',\n",
       " 'Task1 sql reduce fillter.ipynb',\n",
       " 'task1.db',\n",
       " 'Task2 nested dic.ipynb',\n",
       " 'Task3 Packages , use of exception, logging.ipynb',\n",
       " 'taxonomy.csv',\n",
       " 'Templates',\n",
       " 'test.txt',\n",
       " 'test10.txt',\n",
       " 'test2.py',\n",
       " 'Test2Arun.log',\n",
       " 'test3.log',\n",
       " 'Test3Arun.log',\n",
       " 'test4.txt',\n",
       " 'testarun - Shortcut.lnk',\n",
       " 'testarun.log',\n",
       " 'Testn.py',\n",
       " 'Tkinter',\n",
       " 'Tracing',\n",
       " 'Trading.ipynb',\n",
       " 'Tuples.ipynb',\n",
       " 'Untitled.ipynb',\n",
       " 'Untitled2.ipynb',\n",
       " 'user',\n",
       " 'use_withAPI.db',\n",
       " 'utown.xls',\n",
       " 'vacan.xls',\n",
       " 'vacation.xls',\n",
       " 'var.xls',\n",
       " 'vec.xls',\n",
       " 'venv',\n",
       " 'Videos',\n",
       " 'vocab.enron.txt',\n",
       " 'vocab.kos.txt',\n",
       " 'vocab.nips.txt',\n",
       " 'vocab.nytimes.txt',\n",
       " 'vote.xls',\n",
       " 'vote2.xls',\n",
       " 'wa-wheat.xls',\n",
       " 'yield.xls',\n",
       " '_netrc',\n",
       " '__pycache__']"
      ]
     },
     "execution_count": 24,
     "metadata": {},
     "output_type": "execute_result"
    }
   ],
   "source": [
    "import os\n",
    "os.listdir('..')"
   ]
  },
  {
   "cell_type": "markdown",
   "id": "da766825",
   "metadata": {},
   "source": [
    "6. Use multiprocessing to create three separate processes. Make each one wait a random number of\n",
    "seconds between one and five, print the current time, and then exit."
   ]
  },
  {
   "cell_type": "code",
   "execution_count": 37,
   "id": "d1964f87",
   "metadata": {},
   "outputs": [
    {
     "name": "stdout",
     "output_type": "stream",
     "text": [
      "waiting for 1 seconds\n",
      "2022-07-08 20:56:13.737740\n",
      "waiting for 1 seconds\n",
      "2022-07-08 20:56:14.743883\n",
      "waiting for 4 seconds\n",
      "2022-07-08 20:56:18.754316\n",
      "it takes 1657293979.5636528 seconds\n",
      "Current time 20:56:19\n"
     ]
    }
   ],
   "source": [
    "import multiprocessing,time,datetime\n",
    "import numpy as np\n",
    "def process():\n",
    "    t1 = np.random.randint(1,5)\n",
    "    print(f\"waiting for {t1} seconds\")\n",
    "    time.sleep(t1)\n",
    "    print(datetime.datetime.now())\n",
    "\n",
    "start =time.time()\n",
    "process1 = process()\n",
    "process2 = process()\n",
    "process3 = process()\n",
    "\n",
    "p1 =multiprocessing.Process(target=process1)\n",
    "p2 =multiprocessing.Process(target=process2)\n",
    "p3 =multiprocessing.Process(target=process3)\n",
    "\n",
    "p1.start()\n",
    "p2.start()\n",
    "p3.start()\n",
    "\n",
    "p1.join()\n",
    "p2.join()\n",
    "p3.join()\n",
    "\n",
    "end = time.time()\n",
    "print(f\"it takes {end} seconds\")\n",
    "t = time.localtime()\n",
    "current_time = time.strftime(\"%H:%M:%S\", t)\n",
    "print(f'Current time {current_time}')"
   ]
  },
  {
   "cell_type": "markdown",
   "id": "b75df6c6",
   "metadata": {},
   "source": [
    "7. Create a date object of your day of birth."
   ]
  },
  {
   "cell_type": "code",
   "execution_count": 39,
   "id": "abb3af62",
   "metadata": {},
   "outputs": [
    {
     "data": {
      "text/plain": [
       "datetime.datetime(1978, 9, 27, 0, 0)"
      ]
     },
     "execution_count": 39,
     "metadata": {},
     "output_type": "execute_result"
    }
   ],
   "source": [
    "dob = '27-09-1978'\n",
    "birth_date_obj = datetime.datetime.strptime(dob,\"%d-%m-%Y\")\n",
    "birth_date_obj"
   ]
  },
  {
   "cell_type": "markdown",
   "id": "83fe9752",
   "metadata": {},
   "source": [
    "8. What day of the week was your day of birth?"
   ]
  },
  {
   "cell_type": "code",
   "execution_count": 40,
   "id": "6560fc0b",
   "metadata": {},
   "outputs": [
    {
     "data": {
      "text/plain": [
       "2"
      ]
     },
     "execution_count": 40,
     "metadata": {},
     "output_type": "execute_result"
    }
   ],
   "source": [
    "birth_date_obj.weekday()"
   ]
  },
  {
   "cell_type": "markdown",
   "id": "5c99d815",
   "metadata": {},
   "source": [
    "9. When will you be (or when were you) 10,000 days old?"
   ]
  },
  {
   "cell_type": "code",
   "execution_count": 41,
   "id": "38e3311f",
   "metadata": {},
   "outputs": [
    {
     "name": "stdout",
     "output_type": "stream",
     "text": [
      "2006-02-12\n"
     ]
    }
   ],
   "source": [
    "start_date = datetime.datetime(year=1978, month=9, day=27)\n",
    "\n",
    "end_date = start_date + datetime.timedelta(days=10000)\n",
    "\n",
    "print(end_date.date())"
   ]
  },
  {
   "cell_type": "code",
   "execution_count": null,
   "id": "30d8b403",
   "metadata": {},
   "outputs": [],
   "source": []
  }
 ],
 "metadata": {
  "kernelspec": {
   "display_name": "Python 3 (ipykernel)",
   "language": "python",
   "name": "python3"
  },
  "language_info": {
   "codemirror_mode": {
    "name": "ipython",
    "version": 3
   },
   "file_extension": ".py",
   "mimetype": "text/x-python",
   "name": "python",
   "nbconvert_exporter": "python",
   "pygments_lexer": "ipython3",
   "version": "3.9.7"
  }
 },
 "nbformat": 4,
 "nbformat_minor": 5
}
