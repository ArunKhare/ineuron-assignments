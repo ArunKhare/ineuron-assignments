{
 "cells": [
  {
   "cell_type": "code",
   "execution_count": null,
   "id": "4a3db0c7",
   "metadata": {},
   "outputs": [],
   "source": [
    "\n",
    "Question 2:\n",
    "Write a program which takes 2 digits, X,Y as input and generates a 2-dimensional array. The\n",
    "element value in the i-th row and j-th column of the array should be i*j.\n",
    "Note: i=0,1.., X-1; j=0,1,¡Y-1.\n",
    "Example\n",
    "Suppose the following inputs are given to the program:\n",
    "3,5\n",
    "Then, the output of the program should be:\n",
    "[[0, 0, 0, 0, 0], [0, 1, 2, 3, 4], [0, 2, 4, 6, 8]]\n",
    "\n",
    "Question 3:\n",
    "Write a program that accepts a comma separated sequence of words as input and prints the\n",
    "words in a comma-separated sequence after sorting them alphabetically.\n",
    "Suppose the following input is supplied to the program:\n",
    "without,hello,bag,world\n",
    "Then, the output should be:\n",
    "bag,hello,without,world\n",
    "\n",
    "Question 4:\n",
    "Write a program that accepts a sequence of whitespace separated words as input and prints\n",
    "the words after removing all duplicate words and sorting them alphanumerically.\n",
    "Suppose the following input is supplied to the program:\n",
    "hello world and practice makes perfect and hello world again\n",
    "Then, the output should be:\n",
    "again and hello makes perfect practice world\n",
    "\n",
    "Question 5:\n",
    "Write a program that accepts a sentence and calculate the number of letters and digits.\n",
    "Suppose the following input is supplied to the program:\n",
    "hello world! 123\n",
    "Then, the output should be:\n",
    "LETTERS 10\n",
    "\n",
    "DIGITS 3\n",
    "\n",
    "Question 6:\n",
    "A website requires the users to input username and password to register. Write a program to\n",
    "check the validity of password input by users.\n",
    "Following are the criteria for checking the password:\n",
    "1. At least 1 letter between [a-z]\n",
    "2. At least 1 number between [0-9]\n",
    "1. At least 1 letter between [A-Z]\n",
    "3. At least 1 character from [$#@]\n",
    "4. Minimum length of transaction password: 6\n",
    "5. Maximum length of transaction password: 12\n",
    "Your program should accept a sequence of comma separated passwords and will check them\n",
    "according to the above criteria. Passwords that match the criteria are to be printed, each\n",
    "separated by a comma.\n",
    "Example\n",
    "If the following passwords are given as input to the program:\n",
    "ABd1234@1,a F1#,2w3E*,2We3345\n",
    "Then, the output of the program should be:\n",
    "ABd1234@1"
   ]
  },
  {
   "cell_type": "markdown",
   "id": "ab5ae980",
   "metadata": {},
   "source": [
    "Question 1:\n",
    "Write a program that calculates and prints the value according to the given formula:\n",
    "Q = Square root of [(2 * C * D)/H]\n",
    "Following are the fixed values of C and H:\n",
    "C is 50. H is 30.\n",
    "D is the variable whose values should be input to your program in a comma-separated\n",
    "sequence.\n",
    "Example\n",
    "Let us assume the following comma separated input sequence is given to the program:\n",
    "100,150,180\n",
    "The output of the program should be:\n",
    "18,22,24"
   ]
  },
  {
   "cell_type": "code",
   "execution_count": 14,
   "id": "7ff2c5e1",
   "metadata": {},
   "outputs": [
    {
     "name": "stdout",
     "output_type": "stream",
     "text": [
      "Enter the number to put in sequence20\n",
      "Enter the number to put in sequence100\n",
      "Enter the number to put in sequence200\n",
      "[8, 18, 25]\n"
     ]
    }
   ],
   "source": [
    "from math import sqrt\n",
    "def cal():\n",
    "    C=50\n",
    "    H=30\n",
    "    D = []\n",
    "    res =[]\n",
    "    for i in range(0,3):\n",
    "        D.append(eval(input(\"Enter the number to put in sequence\")))\n",
    "        res.append (int(sqrt((2*C*D[i])/H)))\n",
    "    print(str(res))\n",
    "cal()"
   ]
  },
  {
   "cell_type": "markdown",
   "id": "f8c3189c",
   "metadata": {},
   "source": [
    "Question 3:\n",
    "Write a program that accepts a comma separated sequence of words as input and prints the\n",
    "words in a comma-separated sequence after sorting them alphabetically.\n",
    "Suppose the following input is supplied to the program:\n",
    "without,hello,bag,world\n",
    "Then, the output should be:\n",
    "bag,hello,without,world\n"
   ]
  },
  {
   "cell_type": "code",
   "execution_count": 92,
   "id": "f7e67876",
   "metadata": {},
   "outputs": [
    {
     "name": "stdout",
     "output_type": "stream",
     "text": [
      "enter words : sort\n",
      "enter words : words\n",
      "enter words : quit\n",
      "is sufficient words entered as \"Yes\" or \"Y\" or press enter to continue :\n",
      "yes or no : y\n",
      "sorted words in sequence:  ['bag', 'hello', 'sort', 'without', 'words', 'world']\n"
     ]
    }
   ],
   "source": [
    "def sortwords():\n",
    "        \n",
    "    words =[\"without\",\"hello\",'bag',\"world\"]\n",
    "    while True:\n",
    "        words.append(input(\"enter words : \"))\n",
    "        words = [x.lower() for x in words]\n",
    "        if 'quit' in words:\n",
    "            print('is sufficient words entered as \"Yes\" or \"Y\" or press enter to continue :')\n",
    "            action = (input(\"yes or no : \")).lower()\n",
    "            if action in [\"yes\",\"y\"]:\n",
    "                words.remove('quit')\n",
    "                break\n",
    "            else:\n",
    "                words.remove('quit')\n",
    "    words.sort()\n",
    "    print( f'sorted words in sequence:  {words}')\n",
    "sortwords()"
   ]
  },
  {
   "cell_type": "markdown",
   "id": "84f67b7e",
   "metadata": {},
   "source": [
    "Question 4:\n",
    "Write a program that accepts a sequence of whitespace separated words as input and prints\n",
    "the words after removing all duplicate words and sorting them alphanumerically.\n",
    "Suppose the following input is supplied to the program:\n",
    "hello world and practice makes perfect and hello world again\n",
    "Then, the output should be:\n",
    "again and hello makes perfect practice world\n"
   ]
  },
  {
   "cell_type": "code",
   "execution_count": 114,
   "id": "3628b3fc",
   "metadata": {},
   "outputs": [
    {
     "name": "stdout",
     "output_type": "stream",
     "text": [
      "enter sentence:  hello world and practice makes perfect and hello world again \n",
      "New string with no duplicates:-->  again and hello makes perfect practice world\n"
     ]
    }
   ],
   "source": [
    "def sortString():\n",
    "    s =input(\"enter sentence:  \")\n",
    "    words = s.split(\" \")\n",
    "    print(f'New string with no duplicates:--> {\" \".join(word for word in sorted(set(words)))}')\n",
    "sortString()\n",
    "    "
   ]
  },
  {
   "cell_type": "markdown",
   "id": "34ac9e70",
   "metadata": {},
   "source": [
    " Question 5:\n",
    "Write a program that accepts a sentence and calculate the number of letters and digits.\n",
    "Suppose the following input is supplied to the program:\n",
    "hello world! 123\n",
    "Then, the output should be:\n",
    "LETTERS 10\n",
    "DIGITS 3\n"
   ]
  },
  {
   "cell_type": "code",
   "execution_count": 195,
   "id": "cfe97a27",
   "metadata": {},
   "outputs": [
    {
     "name": "stdout",
     "output_type": "stream",
     "text": [
      "Letters 10 Digits 3\n"
     ]
    }
   ],
   "source": [
    "import re\n",
    "from collections import Counter\n",
    " \n",
    "def countChars(s): \n",
    "    num = re.findall('\\d',s)\n",
    "    char= re.findall('\\w',s)\n",
    "    for val in num:\n",
    "        char.remove(val)\n",
    "    c= Counter(char)\n",
    "    Letters = sum(c.values())\n",
    "    n= Counter(num)\n",
    "    Digits = sum(n.values())\n",
    "    print(\"Letters\",Letters, \"Digits\", Digits )\n",
    "    \n",
    "s= 'hello world! 123'\n",
    "countChars(s)"
   ]
  },
  {
   "cell_type": "code",
   "execution_count": 220,
   "id": "4cf9e669",
   "metadata": {},
   "outputs": [
    {
     "name": "stdout",
     "output_type": "stream",
     "text": [
      "LETTERS 10 DIGITS 3\n"
     ]
    }
   ],
   "source": [
    "def count_usingANCII(s):  \n",
    "    chars = list(s)\n",
    "    letters = []\n",
    "    digits = []\n",
    "    for char in chars:\n",
    "        if ord(char) in range(65,90):\n",
    "            letters+=char\n",
    "        elif ord(char) in range(97,122):\n",
    "            letters+=char\n",
    "        elif ord(char) in range(48,57):\n",
    "            digits+=char\n",
    "\n",
    "    print(\"LETTERS\", len(letters), \"DIGITS\", len(digits))\n",
    "    \n",
    "s= 'hello world! 123'\n",
    "count_usingANCII(s)"
   ]
  },
  {
   "cell_type": "code",
   "execution_count": 165,
   "id": "4124bc19",
   "metadata": {},
   "outputs": [],
   "source": [
    "Question 6:\n",
    "A website requires the users to input username and password to register. Write a program to\n",
    "check the validity of password input by users.\n",
    "Following are the criteria for checking the password:\n",
    "1. At least 1 letter between [a-z]\n",
    "2. At least 1 number between [0-9]\n",
    "1. At least 1 letter between [A-Z]\n",
    "3. At least 1 character from [$#@]\n",
    "4. Minimum length of transaction password: 6\n",
    "5. Maximum length of transaction password: 12\n",
    "Your program should accept a sequence of comma separated passwords and will check them\n",
    "according to the above criteria. Passwords that match the criteria are to be printed, each\n",
    "separated by a comma.\n",
    "Example\n",
    "If the following passwords are given as input to the program:\n",
    "ABd1234@1,a F1#,2w3E*,2We3345\n",
    "Then, the output of the program should be:\n",
    "ABd1234@1"
   ]
  },
  {
   "cell_type": "code",
   "execution_count": 341,
   "id": "5b617bd9",
   "metadata": {
    "scrolled": true
   },
   "outputs": [
    {
     "name": "stdout",
     "output_type": "stream",
     "text": [
      "Arun#123\n",
      "\n"
     ]
    }
   ],
   "source": [
    "import re\n",
    "def validate_password():\n",
    "    items =['arun','Arunkhare@123','2213','kharearun@2','Arun@khare','Arun#123','ARUN@123']\n",
    "    valid =[]\n",
    "#     while True:\n",
    "#         passwords.append(input(\"enter password : \"))\n",
    "#         words = passwords.copy()\n",
    "#         words =[word.lower() for word in words]\n",
    "#         if 'exit' in words:\n",
    "#             print('exit the input form: confirm with \"Yes\" or \"Y\"')\n",
    "#             action = (input(\"Yes or Y : \")).lower()\n",
    "#             if action in [\"yes\",\"y\"]:\n",
    "#                 break\n",
    "    items.sort()\n",
    "    value = []\n",
    "   \n",
    "    for p in items:\n",
    "        if len(p)<6 or len(p)>12:\n",
    "            continue\n",
    "        else:\n",
    "            pass\n",
    "        if not re.search(\"[a-z]\",p):\n",
    "            continue\n",
    "        elif not re.search(\"[0-9]\",p):\n",
    "            continue\n",
    "        elif not re.search(\"[A-Z]\",p):\n",
    "            continue\n",
    "        elif not re.search(\"[$#@]\",p):\n",
    "            continue\n",
    "        elif re.search(\"\\s\",p):\n",
    "            continue\n",
    "        else:\n",
    "            pass\n",
    "        value.append(p)\n",
    "    print(\",\".join(value))\n",
    "               \n",
    "    print(\",\".join(valid))\n",
    "validate_password()"
   ]
  },
  {
   "cell_type": "code",
   "execution_count": 348,
   "id": "14560a96",
   "metadata": {},
   "outputs": [
    {
     "name": "stdout",
     "output_type": "stream",
     "text": [
      "AR\n"
     ]
    }
   ],
   "source": []
  },
  {
   "cell_type": "code",
   "execution_count": null,
   "id": "c4e98537",
   "metadata": {},
   "outputs": [],
   "source": []
  }
 ],
 "metadata": {
  "kernelspec": {
   "display_name": "Python 3 (ipykernel)",
   "language": "python",
   "name": "python3"
  },
  "language_info": {
   "codemirror_mode": {
    "name": "ipython",
    "version": 3
   },
   "file_extension": ".py",
   "mimetype": "text/x-python",
   "name": "python",
   "nbconvert_exporter": "python",
   "pygments_lexer": "ipython3",
   "version": "3.9.12"
  }
 },
 "nbformat": 4,
 "nbformat_minor": 5
}
