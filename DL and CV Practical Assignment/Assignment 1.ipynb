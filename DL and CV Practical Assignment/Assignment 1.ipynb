{
 "cells": [
  {
   "cell_type": "code",
   "execution_count": null,
   "id": "0bfe4805",
   "metadata": {},
   "outputs": [],
   "source": []
  },
  {
   "cell_type": "markdown",
   "id": "bcb7fc3f",
   "metadata": {},
   "source": [
    "Practical Assignment\n",
    "\n",
    "Objective: - Predict Next Sequence\n",
    "To start with deep learning, the very basic project that you can build is to\n",
    "predict the next digit in a sequence.\n",
    "\n",
    "Dataset: - Create a sequence like a list of odd numbers and then build a model\n",
    "and train it to predict the next digit in the sequence.\n",
    "\n",
    "Task: - A simple neural network with 2 layers would be sufficient to build the\n",
    "model.\n",
    "\n",
    "Assignment Submission: - Only submit the Google Colab/Github link.(Make the\n",
    "Link Public)."
   ]
  },
  {
   "cell_type": "code",
   "execution_count": 4,
   "id": "0e2bb847",
   "metadata": {},
   "outputs": [],
   "source": [
    "import numpy as np\n",
    "import tensorflow as tf"
   ]
  },
  {
   "cell_type": "code",
   "execution_count": 7,
   "id": "513d94e4",
   "metadata": {},
   "outputs": [],
   "source": [
    "input_vector =  [ 1, 2, 3, 4, 5]\n",
    "wt1 = [.5,.4,.3,.2,.1]\n",
    "wt2 = [2.1,0.8,.7,1,.2]\n",
    "\n",
    "X_test = [1, 2, 3, 4, 5]\n",
    "y_test = [6, 7, 8, 9, 10]"
   ]
  },
  {
   "cell_type": "code",
   "execution_count": 14,
   "id": "049804c2",
   "metadata": {},
   "outputs": [
    {
     "data": {
      "text/plain": [
       "3.5"
      ]
     },
     "execution_count": 14,
     "metadata": {},
     "output_type": "execute_result"
    }
   ],
   "source": [
    "# computing dot product\n",
    "input_vector_array = np.array(input_vector)\n",
    "wt1_array =  np.array(wt1)\n",
    "wt2_array = np.array(wt2)\n",
    "dot_product_1 = sum(input_vector_array *wt1)\n",
    "dot_product_1"
   ]
  },
  {
   "cell_type": "code",
   "execution_count": 16,
   "id": "a2d98eec",
   "metadata": {},
   "outputs": [
    {
     "data": {
      "text/plain": [
       "3.5"
      ]
     },
     "execution_count": 16,
     "metadata": {},
     "output_type": "execute_result"
    }
   ],
   "source": [
    "# simply apply np.dot function\n",
    "np.dot(input_vector,wt1)"
   ]
  },
  {
   "cell_type": "code",
   "execution_count": 19,
   "id": "ef3e8d5a",
   "metadata": {},
   "outputs": [
    {
     "data": {
      "text/plain": [
       "10.8"
      ]
     },
     "execution_count": 19,
     "metadata": {},
     "output_type": "execute_result"
    }
   ],
   "source": [
    "dot_product_2 = np.dot(input_vector,wt2)\n",
    "dot_product_2"
   ]
  },
  {
   "cell_type": "code",
   "execution_count": 21,
   "id": "9d24ae1f",
   "metadata": {},
   "outputs": [
    {
     "name": "stdout",
     "output_type": "stream",
     "text": [
      "input vector is more similar to wt2\n"
     ]
    }
   ],
   "source": [
    "#  dot product as a loose measurement of similarity between the vectors\n",
    "# Every time the multiplication result is 0, the final dot product will have a lower result\n",
    "if dot_product_1 < dot_product_2 :\n",
    "    print(f'input vector is more similar to wt2')\n",
    "else:\n",
    "    print(f'input vector is more similar to wt1')"
   ]
  },
  {
   "cell_type": "markdown",
   "id": "0a3fabe8",
   "metadata": {},
   "source": [
    "### Making first predictions"
   ]
  },
  {
   "cell_type": "code",
   "execution_count": 25,
   "id": "c1bd7dfa",
   "metadata": {},
   "outputs": [
    {
     "name": "stdout",
     "output_type": "stream",
     "text": [
      "The prediction result is: [0.9999796]\n"
     ]
    }
   ],
   "source": [
    "# two layer network\n",
    "# wrapping the vectors in numpy array\n",
    "input_vector = np.array(input_vector)\n",
    "weight_1 = np.array(wt2)\n",
    "bias = np.array([0.0])\n",
    "\n",
    "def sigmoid(x):\n",
    "    return (1/(1+np.exp(-x)))\n",
    "def make_prediction(input_vector,weights,bias):\n",
    "    layer_1 = np.dot(input_vector, weights)+bias\n",
    "    layer_2 = sigmoid(layer_1)\n",
    "    return layer_2\n",
    "prediction = make_prediction(input_vector,weight_1,bias)\n",
    "print(f'The prediction result is: {prediction}')\n"
   ]
  },
  {
   "cell_type": "code",
   "execution_count": 36,
   "id": "e1522d7b",
   "metadata": {},
   "outputs": [
    {
     "name": "stdout",
     "output_type": "stream",
     "text": [
      "The prediction result is: [0.99981593]\n"
     ]
    }
   ],
   "source": [
    "# changing the value of input input vector\n",
    "input_vector = np.array([.2,.1,7,3,1])\n",
    "prediction = make_prediction(input_vector,weight_1,bias)\n",
    "print(f'The prediction result is: {prediction}')"
   ]
  },
  {
   "cell_type": "markdown",
   "id": "140ef84e",
   "metadata": {},
   "source": [
    "### Train your first neural network"
   ]
  },
  {
   "cell_type": "code",
   "execution_count": 39,
   "id": "40e44dea",
   "metadata": {},
   "outputs": [
    {
     "name": "stdout",
     "output_type": "stream",
     "text": [
      "Prediction [0.99981593]; Error: [0.99963189]\n"
     ]
    }
   ],
   "source": [
    "# computing the prediction error\n",
    "target = 0\n",
    "\n",
    "mse = np.square(prediction-target)\n",
    "print(f'Prediction {prediction}; Error: {mse}')\n"
   ]
  },
  {
   "cell_type": "code",
   "execution_count": 45,
   "id": "f11d6ac8",
   "metadata": {},
   "outputs": [
    {
     "name": "stdout",
     "output_type": "stream",
     "text": [
      " The derivative is [1.99963186]\n"
     ]
    }
   ],
   "source": [
    "# REDUCING ERROR\n",
    "#  error = np.square(x), which is a quadratic function.\n",
    "# To know which direction you should go to reduce the error, you’ll use the derivative\n",
    "# Another word for the derivative is gradient. Gradient descent is the name of the algorithm used to find the direction and the rate to update the network parameters.\n",
    "# error = np.square(prediction -target) = np.square(x) \n",
    "\n",
    "# By taking the derivative of this function, you want to know in what direction should you change x to bring the result of error to zero, thereby reducing the error.\n",
    "# derivative of error = 2x\n",
    " \n",
    "#     When it comes to your neural network, the derivative will tell you the direction you should take to update the weights variable\n",
    "# If +ve then you predicted too high, and you need to decrease the wts\n",
    "# If -ve you predicted too low and you need increase the wts\n",
    "\n",
    "derivative = 2*(prediction-target)\n",
    "print(f' The derivative is {derivative}')"
   ]
  },
  {
   "cell_type": "code",
   "execution_count": 50,
   "id": "ba649a19",
   "metadata": {},
   "outputs": [
    {
     "name": "stdout",
     "output_type": "stream",
     "text": [
      "Prediction: [3.03345868e-36]; Error: [9.20187158e-72]\n"
     ]
    }
   ],
   "source": [
    "# The result is 1.99 - decrease the wts\n",
    "# updating the weights\n",
    "weight_1 = weight_1-derivative\n",
    "prediction= make_prediction (input_vector,weight_1,bias)\n",
    "error = (prediction-target)**2\n",
    "print(f'Prediction: {prediction}; Error: {error}')"
   ]
  },
  {
   "cell_type": "code",
   "execution_count": 51,
   "id": "908a2a11",
   "metadata": {},
   "outputs": [
    {
     "data": {
      "text/plain": [
       "'The network has two layers, and since each layer has its own functions, you’re dealing with a function composition. This means that the error function is still np.square(x), but now x is the result of another function.'"
      ]
     },
     "execution_count": 51,
     "metadata": {},
     "output_type": "execute_result"
    }
   ],
   "source": [
    "# here High increments aren’t ideal because you could keep going from point A straight to point B, never getting close to zero. To cope with that, you update the weights with a fraction of the derivative result.\n",
    "# To update weight with fraction of  the derivative result\n",
    "# Define fraction for updating weights, use alpha parameter, a Learning Rate.\n",
    "# Decreasing the LR, then the increment in wts is smaller.\n",
    "'''If you take the new weights and make a prediction with the first input vector, then you’ll see that now it makes a wrong prediction for that one. If your neural network makes a correct prediction for every instance in your training set, then you probably have an overfitted model, where the model simply remembers how to classify the examples instead of learning to notice features in the data.'''\n",
    "\"\"\"The network has two layers, and since each layer has its own functions, you’re dealing with a function composition. This means that the error function is still np.square(x), but now x is the result of another function.\"\"\"\n",
    "# Since now you have this function composition, to take the derivative of the error concerning the parameters, you’ll need to use the chain rule from calculus.\n",
    "# With the chain rule, you take the partial derivatives of each function, evaluate them, and multiply all the partial derivatives to get the derivative you want."
   ]
  },
  {
   "cell_type": "code",
   "execution_count": 54,
   "id": "d39c6eb6",
   "metadata": {},
   "outputs": [],
   "source": [
    "# chain rule = take the partial derivatives, evaluate, and multiply\n",
    "\n",
    "def sigmoid_deriv(x):\n",
    "    return sigmoid(x) * (1-sigmoid(x))\n",
    "derror_dprediction = 2*(prediction - target)\n",
    "layer_1= np.dot(input_vector,weight_1) +bias\n",
    "dprediction_dlayer_1 = sigmoid_deriv(layer_1)\n",
    "dlayer1_bias =1\n",
    "derror_dbias = (derror_dprediction * dprediction_dlayer_1 *dlayer1_bias)"
   ]
  },
  {
   "cell_type": "code",
   "execution_count": 56,
   "id": "c7f18e67",
   "metadata": {},
   "outputs": [
    {
     "data": {
      "text/plain": [
       "array([1.84037432e-71])"
      ]
     },
     "execution_count": 56,
     "metadata": {},
     "output_type": "execute_result"
    }
   ],
   "source": [
    "derror_dbias"
   ]
  },
  {
   "cell_type": "markdown",
   "id": "29bdb7ee",
   "metadata": {},
   "source": [
    "# Using Network Class"
   ]
  },
  {
   "cell_type": "code",
   "execution_count": 127,
   "id": "c754a323",
   "metadata": {},
   "outputs": [],
   "source": [
    "class NeuralNetwork:\n",
    "    def __init__(self, learning_rate):\n",
    "        self.weights = np.array([np.random.randn(), np.random.randn()])\n",
    "        self.bias = np.random.randn()\n",
    "        self.learning_rate = learning_rate\n",
    "\n",
    "    def _sigmoid(self, x):\n",
    "        return 1 / (1 + np.exp(-x))\n",
    "\n",
    "    def _sigmoid_deriv(self, x):\n",
    "        return self._sigmoid(x) * (1 - self._sigmoid(x))\n",
    "\n",
    "    def predict(self, input_vector):\n",
    "        layer_1 = np.dot(input_vector, self.weights) + self.bias\n",
    "        layer_2 = self._sigmoid(layer_1)\n",
    "        prediction = layer_2\n",
    "        return prediction\n",
    "\n",
    "    def _compute_gradients(self, input_vector, target):\n",
    "        layer_1 = np.dot(input_vector, self.weights) + self.bias\n",
    "        layer_2 = self._sigmoid(layer_1)\n",
    "        prediction = layer_2\n",
    "\n",
    "        derror_dprediction = 2 * (prediction - target)\n",
    "        dprediction_dlayer1 = self._sigmoid_deriv(layer_1)\n",
    "        dlayer1_dbias = 1\n",
    "        dlayer1_dweights = (0 * self.weights) + (1 * input_vector)\n",
    "\n",
    "        derror_dbias = (\n",
    "            derror_dprediction * dprediction_dlayer1 * dlayer1_dbias\n",
    "        )\n",
    "        derror_dweights = (\n",
    "            derror_dprediction * dprediction_dlayer1 * dlayer1_dweights\n",
    "        )\n",
    "\n",
    "        return derror_dbias, derror_dweights\n",
    "\n",
    "    def _update_parameters(self, derror_dbias, derror_dweights):\n",
    "        self.bias = self.bias - (derror_dbias * self.learning_rate)\n",
    "        self.weights = self.weights - (\n",
    "            derror_dweights * self.learning_rate\n",
    "        )"
   ]
  },
  {
   "cell_type": "code",
   "execution_count": 130,
   "id": "5d34d63f",
   "metadata": {},
   "outputs": [
    {
     "ename": "ValueError",
     "evalue": "shapes (5,) and (2,) not aligned: 5 (dim 0) != 2 (dim 0)",
     "output_type": "error",
     "traceback": [
      "\u001b[1;31m---------------------------------------------------------------------------\u001b[0m",
      "\u001b[1;31mValueError\u001b[0m                                Traceback (most recent call last)",
      "Input \u001b[1;32mIn [130]\u001b[0m, in \u001b[0;36m<cell line: 17>\u001b[1;34m()\u001b[0m\n\u001b[0;32m     14\u001b[0m learning_rate \u001b[38;5;241m=\u001b[39m \u001b[38;5;241m0.1\u001b[39m\n\u001b[0;32m     16\u001b[0m neural_network \u001b[38;5;241m=\u001b[39m NeuralNetwork(learning_rate)\n\u001b[1;32m---> 17\u001b[0m \u001b[43mneural_network\u001b[49m\u001b[38;5;241;43m.\u001b[39;49m\u001b[43mpredict\u001b[49m\u001b[43m(\u001b[49m\u001b[43minput_vector\u001b[49m\u001b[43m)\u001b[49m\n",
      "Input \u001b[1;32mIn [127]\u001b[0m, in \u001b[0;36mNeuralNetwork.predict\u001b[1;34m(self, input_vector)\u001b[0m\n\u001b[0;32m     13\u001b[0m \u001b[38;5;28;01mdef\u001b[39;00m \u001b[38;5;21mpredict\u001b[39m(\u001b[38;5;28mself\u001b[39m, input_vector):\n\u001b[1;32m---> 14\u001b[0m     layer_1 \u001b[38;5;241m=\u001b[39m \u001b[43mnp\u001b[49m\u001b[38;5;241;43m.\u001b[39;49m\u001b[43mdot\u001b[49m\u001b[43m(\u001b[49m\u001b[43minput_vector\u001b[49m\u001b[43m,\u001b[49m\u001b[43m \u001b[49m\u001b[38;5;28;43mself\u001b[39;49m\u001b[38;5;241;43m.\u001b[39;49m\u001b[43mweights\u001b[49m\u001b[43m)\u001b[49m \u001b[38;5;241m+\u001b[39m \u001b[38;5;28mself\u001b[39m\u001b[38;5;241m.\u001b[39mbias\n\u001b[0;32m     15\u001b[0m     layer_2 \u001b[38;5;241m=\u001b[39m \u001b[38;5;28mself\u001b[39m\u001b[38;5;241m.\u001b[39m_sigmoid(layer_1)\n\u001b[0;32m     16\u001b[0m     prediction \u001b[38;5;241m=\u001b[39m layer_2\n",
      "File \u001b[1;32m<__array_function__ internals>:180\u001b[0m, in \u001b[0;36mdot\u001b[1;34m(*args, **kwargs)\u001b[0m\n",
      "\u001b[1;31mValueError\u001b[0m: shapes (5,) and (2,) not aligned: 5 (dim 0) != 2 (dim 0)"
     ]
    }
   ],
   "source": [
    "import matplotlib.pyplot as plt\n",
    "input_vectors = np.array(\n",
    "        [\n",
    "            [3, 1.5],\n",
    "            [2, 1],\n",
    "            [4, 1.5],\n",
    "            [3, 4],\n",
    "            [3.5, 0.5],\n",
    "            [2, 0.5],\n",
    "            [5.5, 1],\n",
    "            [1, 1],\n",
    "        ]\n",
    ")\n",
    "learning_rate = 0.1\n",
    "\n",
    "neural_network = NeuralNetwork(learning_rate)\n",
    "neural_network.predict(input_vector)"
   ]
  },
  {
   "cell_type": "code",
   "execution_count": 126,
   "id": "f50ed744",
   "metadata": {},
   "outputs": [
    {
     "ename": "TypeError",
     "evalue": "NeuralNetwork() takes no arguments",
     "output_type": "error",
     "traceback": [
      "\u001b[1;31m---------------------------------------------------------------------------\u001b[0m",
      "\u001b[1;31mTypeError\u001b[0m                                 Traceback (most recent call last)",
      "Input \u001b[1;32mIn [126]\u001b[0m, in \u001b[0;36m<cell line: 16>\u001b[1;34m()\u001b[0m\n\u001b[0;32m      2\u001b[0m input_vectors \u001b[38;5;241m=\u001b[39m np\u001b[38;5;241m.\u001b[39marray(\n\u001b[0;32m      3\u001b[0m         [\n\u001b[0;32m      4\u001b[0m             [\u001b[38;5;241m3\u001b[39m, \u001b[38;5;241m1.5\u001b[39m],\n\u001b[1;32m   (...)\u001b[0m\n\u001b[0;32m     12\u001b[0m         ]\n\u001b[0;32m     13\u001b[0m )\n\u001b[0;32m     14\u001b[0m learning_rate \u001b[38;5;241m=\u001b[39m \u001b[38;5;241m0.1\u001b[39m\n\u001b[1;32m---> 16\u001b[0m neural_network \u001b[38;5;241m=\u001b[39m \u001b[43mNeuralNetwork\u001b[49m\u001b[43m(\u001b[49m\u001b[43mlearning_rate\u001b[49m\u001b[43m)\u001b[49m\n\u001b[0;32m     18\u001b[0m training_error \u001b[38;5;241m=\u001b[39m neural_network\u001b[38;5;241m.\u001b[39mtrain(input_vectors, targets, \u001b[38;5;241m10000\u001b[39m)\n\u001b[0;32m     20\u001b[0m plt\u001b[38;5;241m.\u001b[39mplot(training_error)\n",
      "\u001b[1;31mTypeError\u001b[0m: NeuralNetwork() takes no arguments"
     ]
    }
   ],
   "source": []
  },
  {
   "cell_type": "markdown",
   "id": "f770c985",
   "metadata": {},
   "source": [
    "# Using tensorflow"
   ]
  },
  {
   "cell_type": "code",
   "execution_count": 70,
   "id": "34f43388",
   "metadata": {},
   "outputs": [],
   "source": [
    "import tensorflow.experimental.numpy as tnp\n",
    "tnp.experimental_enable_numpy_behavior()\n",
    "\n",
    "\n",
    "from tensorflow.keras.models import Sequential\n",
    "from tensorflow.keras.layers import Dense\n",
    "from tensorflow.keras.layers import ReLU"
   ]
  },
  {
   "cell_type": "code",
   "execution_count": 114,
   "id": "c282e883",
   "metadata": {},
   "outputs": [
    {
     "data": {
      "text/plain": [
       "<tf.Tensor: shape=(5,), dtype=int32, numpy=array([1, 2, 3, 4, 5])>"
      ]
     },
     "execution_count": 114,
     "metadata": {},
     "output_type": "execute_result"
    }
   ],
   "source": [
    "X_train=tf.convert_to_tensor([1,2,3,4,5])\n",
    "y_train=tf.convert_to_tensor([6,7,8,9,10])\n",
    "X_valid= tf.convert_to_tensor([11,12,13,15,16])\n",
    "y_valid= tf.convert_to_tensor ([17,18,19,20])\n",
    "X_test = tf.convert_to_tensor ([21,22,23,24,25])\n",
    "y_test = tf.convert_to_tensor ([26,27,28,28,30])\n",
    "X_train"
   ]
  },
  {
   "cell_type": "code",
   "execution_count": 115,
   "id": "7e700f73",
   "metadata": {},
   "outputs": [
    {
     "name": "stdout",
     "output_type": "stream",
     "text": [
      "Model: \"sequential_10\"\n",
      "_________________________________________________________________\n",
      " Layer (type)                Output Shape              Param #   \n",
      "=================================================================\n",
      " dense_18 (Dense)            (None, 5)                 30        \n",
      "                                                                 \n",
      " dense_19 (Dense)            (None, 1)                 6         \n",
      "                                                                 \n",
      "=================================================================\n",
      "Total params: 36\n",
      "Trainable params: 36\n",
      "Non-trainable params: 0\n",
      "_________________________________________________________________\n"
     ]
    }
   ],
   "source": [
    "regressor = Sequential()\n",
    "regressor.add(Dense(units=5,input_shape=(5,),activation ='relu'))\n",
    "regressor.add(Dense(units=1,activation='sigmoid'))\n",
    "regressor.summary()"
   ]
  },
  {
   "cell_type": "code",
   "execution_count": 116,
   "id": "2901b98b",
   "metadata": {},
   "outputs": [],
   "source": [
    "opt = tf.keras.optimizers.SGD(learning_rate=0.1)\n",
    "loss = tf.keras.losses.MeanSquaredError(name='mean_squared_error')\n",
    "regressor.compile(optimizer=opt, loss=loss, metrics=['accuracy'])"
   ]
  },
  {
   "cell_type": "code",
   "execution_count": 117,
   "id": "e7ee3aac",
   "metadata": {},
   "outputs": [
    {
     "name": "stdout",
     "output_type": "stream",
     "text": [
      "Epoch 1/100\n",
      "WARNING:tensorflow:Model was constructed with shape (None, 5) for input KerasTensor(type_spec=TensorSpec(shape=(None, 5), dtype=tf.float32, name='dense_18_input'), name='dense_18_input', description=\"created by layer 'dense_18_input'\"), but it was called on an input with incompatible shape (None,).\n"
     ]
    },
    {
     "ename": "ValueError",
     "evalue": "in user code:\n\n    File \"C:\\Users\\arunk\\AppData\\Local\\Programs\\Python\\Python39\\lib\\site-packages\\keras\\engine\\training.py\", line 1051, in train_function  *\n        return step_function(self, iterator)\n    File \"C:\\Users\\arunk\\AppData\\Local\\Programs\\Python\\Python39\\lib\\site-packages\\keras\\engine\\training.py\", line 1040, in step_function  **\n        outputs = model.distribute_strategy.run(run_step, args=(data,))\n    File \"C:\\Users\\arunk\\AppData\\Local\\Programs\\Python\\Python39\\lib\\site-packages\\keras\\engine\\training.py\", line 1030, in run_step  **\n        outputs = model.train_step(data)\n    File \"C:\\Users\\arunk\\AppData\\Local\\Programs\\Python\\Python39\\lib\\site-packages\\keras\\engine\\training.py\", line 889, in train_step\n        y_pred = self(x, training=True)\n    File \"C:\\Users\\arunk\\AppData\\Local\\Programs\\Python\\Python39\\lib\\site-packages\\keras\\utils\\traceback_utils.py\", line 67, in error_handler\n        raise e.with_traceback(filtered_tb) from None\n    File \"C:\\Users\\arunk\\AppData\\Local\\Programs\\Python\\Python39\\lib\\site-packages\\keras\\engine\\input_spec.py\", line 228, in assert_input_compatibility\n        raise ValueError(f'Input {input_index} of layer \"{layer_name}\" '\n\n    ValueError: Exception encountered when calling layer \"sequential_10\" (type Sequential).\n    \n    Input 0 of layer \"dense_18\" is incompatible with the layer: expected min_ndim=2, found ndim=1. Full shape received: (None,)\n    \n    Call arguments received by layer \"sequential_10\" (type Sequential):\n      • inputs=tf.Tensor(shape=(None,), dtype=int32)\n      • training=True\n      • mask=None\n",
     "output_type": "error",
     "traceback": [
      "\u001b[1;31m---------------------------------------------------------------------------\u001b[0m",
      "\u001b[1;31mValueError\u001b[0m                                Traceback (most recent call last)",
      "Input \u001b[1;32mIn [117]\u001b[0m, in \u001b[0;36m<cell line: 1>\u001b[1;34m()\u001b[0m\n\u001b[1;32m----> 1\u001b[0m model \u001b[38;5;241m=\u001b[39m \u001b[43mregressor\u001b[49m\u001b[38;5;241;43m.\u001b[39;49m\u001b[43mfit\u001b[49m\u001b[43m(\u001b[49m\u001b[43mX_train\u001b[49m\u001b[43m,\u001b[49m\u001b[43my_train\u001b[49m\u001b[43m,\u001b[49m\u001b[43mvalidation_data\u001b[49m\u001b[38;5;241;43m=\u001b[39;49m\u001b[43m(\u001b[49m\u001b[43mX_test\u001b[49m\u001b[43m,\u001b[49m\u001b[43my_test\u001b[49m\u001b[43m)\u001b[49m\u001b[43m,\u001b[49m\u001b[43mepochs\u001b[49m\u001b[38;5;241;43m=\u001b[39;49m\u001b[38;5;241;43m100\u001b[39;49m\u001b[43m)\u001b[49m\n\u001b[0;32m      2\u001b[0m y_pred \u001b[38;5;241m=\u001b[39m regressor\u001b[38;5;241m.\u001b[39mpredcit(X_test)\n\u001b[0;32m      3\u001b[0m y_pred\n",
      "File \u001b[1;32m~\\AppData\\Local\\Programs\\Python\\Python39\\lib\\site-packages\\keras\\utils\\traceback_utils.py:67\u001b[0m, in \u001b[0;36mfilter_traceback.<locals>.error_handler\u001b[1;34m(*args, **kwargs)\u001b[0m\n\u001b[0;32m     65\u001b[0m \u001b[38;5;28;01mexcept\u001b[39;00m \u001b[38;5;167;01mException\u001b[39;00m \u001b[38;5;28;01mas\u001b[39;00m e:  \u001b[38;5;66;03m# pylint: disable=broad-except\u001b[39;00m\n\u001b[0;32m     66\u001b[0m   filtered_tb \u001b[38;5;241m=\u001b[39m _process_traceback_frames(e\u001b[38;5;241m.\u001b[39m__traceback__)\n\u001b[1;32m---> 67\u001b[0m   \u001b[38;5;28;01mraise\u001b[39;00m e\u001b[38;5;241m.\u001b[39mwith_traceback(filtered_tb) \u001b[38;5;28;01mfrom\u001b[39;00m \u001b[38;5;28mNone\u001b[39m\n\u001b[0;32m     68\u001b[0m \u001b[38;5;28;01mfinally\u001b[39;00m:\n\u001b[0;32m     69\u001b[0m   \u001b[38;5;28;01mdel\u001b[39;00m filtered_tb\n",
      "File \u001b[1;32m~\\AppData\\Local\\Temp\\__autograph_generated_fileqk2ol_91.py:15\u001b[0m, in \u001b[0;36mouter_factory.<locals>.inner_factory.<locals>.tf__train_function\u001b[1;34m(iterator)\u001b[0m\n\u001b[0;32m     13\u001b[0m \u001b[38;5;28;01mtry\u001b[39;00m:\n\u001b[0;32m     14\u001b[0m     do_return \u001b[38;5;241m=\u001b[39m \u001b[38;5;28;01mTrue\u001b[39;00m\n\u001b[1;32m---> 15\u001b[0m     retval_ \u001b[38;5;241m=\u001b[39m ag__\u001b[38;5;241m.\u001b[39mconverted_call(ag__\u001b[38;5;241m.\u001b[39mld(step_function), (ag__\u001b[38;5;241m.\u001b[39mld(\u001b[38;5;28mself\u001b[39m), ag__\u001b[38;5;241m.\u001b[39mld(iterator)), \u001b[38;5;28;01mNone\u001b[39;00m, fscope)\n\u001b[0;32m     16\u001b[0m \u001b[38;5;28;01mexcept\u001b[39;00m:\n\u001b[0;32m     17\u001b[0m     do_return \u001b[38;5;241m=\u001b[39m \u001b[38;5;28;01mFalse\u001b[39;00m\n",
      "\u001b[1;31mValueError\u001b[0m: in user code:\n\n    File \"C:\\Users\\arunk\\AppData\\Local\\Programs\\Python\\Python39\\lib\\site-packages\\keras\\engine\\training.py\", line 1051, in train_function  *\n        return step_function(self, iterator)\n    File \"C:\\Users\\arunk\\AppData\\Local\\Programs\\Python\\Python39\\lib\\site-packages\\keras\\engine\\training.py\", line 1040, in step_function  **\n        outputs = model.distribute_strategy.run(run_step, args=(data,))\n    File \"C:\\Users\\arunk\\AppData\\Local\\Programs\\Python\\Python39\\lib\\site-packages\\keras\\engine\\training.py\", line 1030, in run_step  **\n        outputs = model.train_step(data)\n    File \"C:\\Users\\arunk\\AppData\\Local\\Programs\\Python\\Python39\\lib\\site-packages\\keras\\engine\\training.py\", line 889, in train_step\n        y_pred = self(x, training=True)\n    File \"C:\\Users\\arunk\\AppData\\Local\\Programs\\Python\\Python39\\lib\\site-packages\\keras\\utils\\traceback_utils.py\", line 67, in error_handler\n        raise e.with_traceback(filtered_tb) from None\n    File \"C:\\Users\\arunk\\AppData\\Local\\Programs\\Python\\Python39\\lib\\site-packages\\keras\\engine\\input_spec.py\", line 228, in assert_input_compatibility\n        raise ValueError(f'Input {input_index} of layer \"{layer_name}\" '\n\n    ValueError: Exception encountered when calling layer \"sequential_10\" (type Sequential).\n    \n    Input 0 of layer \"dense_18\" is incompatible with the layer: expected min_ndim=2, found ndim=1. Full shape received: (None,)\n    \n    Call arguments received by layer \"sequential_10\" (type Sequential):\n      • inputs=tf.Tensor(shape=(None,), dtype=int32)\n      • training=True\n      • mask=None\n"
     ]
    }
   ],
   "source": [
    "model = regressor.fit(X_train,y_train,validation_data=(X_test,y_test),epochs=100)\n",
    "y_pred = regressor.predcit(X_test)\n",
    "y_pred"
   ]
  },
  {
   "cell_type": "code",
   "execution_count": null,
   "id": "c7a6d8e3",
   "metadata": {},
   "outputs": [],
   "source": []
  }
 ],
 "metadata": {
  "kernelspec": {
   "display_name": "Python 3 (ipykernel)",
   "language": "python",
   "name": "python3"
  },
  "language_info": {
   "codemirror_mode": {
    "name": "ipython",
    "version": 3
   },
   "file_extension": ".py",
   "mimetype": "text/x-python",
   "name": "python",
   "nbconvert_exporter": "python",
   "pygments_lexer": "ipython3",
   "version": "3.9.13"
  }
 },
 "nbformat": 4,
 "nbformat_minor": 5
}
