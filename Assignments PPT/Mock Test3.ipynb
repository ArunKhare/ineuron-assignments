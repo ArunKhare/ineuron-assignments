{
 "cells": [
  {
   "cell_type": "code",
   "execution_count": null,
   "metadata": {},
   "outputs": [],
   "source": [
    "# Implement a stack using a list in Python. Include the necessary methods such as push, pop, and isEmpty.\n",
    "from queue import Queue\n",
    "from collections import deque\n",
    "\n",
    "st = deque(maxlen=10)\n",
    "\n",
    "\n",
    "for i in range(1,10):\n",
    "    st.append(i)\n",
    "# st.rotate(5)\n",
    "print(\"max_size :\", st.maxlen)\n",
    "\n",
    "if len(st):\n",
    "    print(\"Full :\", True)\n",
    "\n",
    "for i in range(1,10):\n",
    "    print(st.pop())\n",
    "\n",
    "if not len(st):\n",
    "    print(\"is_empty :\", True)\n"
   ]
  },
  {
   "cell_type": "code",
   "execution_count": null,
   "metadata": {},
   "outputs": [],
   "source": [
    "# Implement a queue using a list in Python. Include the necessary methods such as enqueue, dequeue, and isEmpty.\n",
    "\n",
    "class ListasQueue:\n",
    "    def __init__(self) -> None:\n",
    "        self.q = [1,2,3,4,]\n",
    "        \n",
    "    def enqueue(self, a:int):\n",
    "        self.q.append(a)\n",
    "        print(self.q)\n",
    "    \n",
    "    def dequeue(self):\n",
    "        self.q.pop(0)\n",
    "        print(self.q)\n",
    "    \n",
    "    def is_empty(self):\n",
    "        if not len(self.q):\n",
    "            print(True)\n",
    "        else:\n",
    "            print(\"Not empty\")\n",
    "q = ListasQueue()\n",
    "q.enqueue(10)\n",
    "q.dequeue()\n",
    "q.is_empty()"
   ]
  }
 ],
 "metadata": {
  "language_info": {
   "name": "python"
  },
  "orig_nbformat": 4
 },
 "nbformat": 4,
 "nbformat_minor": 2
}
