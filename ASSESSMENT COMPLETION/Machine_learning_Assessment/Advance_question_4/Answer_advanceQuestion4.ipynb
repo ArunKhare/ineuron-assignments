{
 "cells": [
  {
   "cell_type": "markdown",
   "metadata": {},
   "source": [
    "Take any 3 questions and deploy them to AWS using GitHub Actions and\n",
    "show a demo link"
   ]
  }
 ],
 "metadata": {
  "language_info": {
   "name": "python"
  },
  "orig_nbformat": 4
 },
 "nbformat": 4,
 "nbformat_minor": 2
}
