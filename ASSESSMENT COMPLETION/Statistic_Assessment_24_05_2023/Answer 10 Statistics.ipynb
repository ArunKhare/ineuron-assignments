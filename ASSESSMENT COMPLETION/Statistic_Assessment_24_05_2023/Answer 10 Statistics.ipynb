{
 "cells": [
  {
   "cell_type": "code",
   "execution_count": 7,
   "metadata": {},
   "outputs": [],
   "source": [
    "from scipy.stats import binom"
   ]
  },
  {
   "cell_type": "code",
   "execution_count": 8,
   "metadata": {},
   "outputs": [],
   "source": [
    "n=500\n",
    "p_defective = 0.05"
   ]
  },
  {
   "cell_type": "code",
   "execution_count": 9,
   "metadata": {},
   "outputs": [
    {
     "name": "stdout",
     "output_type": "stream",
     "text": [
      "Probability of exactly 20 defective bulbs: 0.051616192536641056\n"
     ]
    }
   ],
   "source": [
    "k=20\n",
    "prob_20_defective = binom.pmf(k,n,p_defective)\n",
    "print(f\"Probability of exactly 20 defective bulbs: {prob_20_defective}\")"
   ]
  },
  {
   "cell_type": "code",
   "execution_count": 19,
   "metadata": {},
   "outputs": [
    {
     "name": "stdout",
     "output_type": "stream",
     "text": [
      "Probability of at least 10 defective bulbs;0.9998316463654902\n"
     ]
    }
   ],
   "source": [
    "k_min = 10\n",
    "prob_at_least_10_defective =1-binom.cdf(k_min-1,n,p_defective)\n",
    "print(f\"Probability of at least 10 defective bulbs;{prob_at_least_10_defective}\")"
   ]
  },
  {
   "cell_type": "code",
   "execution_count": 11,
   "metadata": {},
   "outputs": [
    {
     "name": "stdout",
     "output_type": "stream",
     "text": [
      "Probability of at most 15 defective bulbs: 0.01985837716300623\n"
     ]
    }
   ],
   "source": [
    "k_max=15\n",
    "prob_at_most_15_defective = binom.cdf(k_max,n,p_defective)\n",
    "print(f'Probability of at most 15 defective bulbs: {prob_at_most_15_defective}')"
   ]
  },
  {
   "cell_type": "code",
   "execution_count": 12,
   "metadata": {},
   "outputs": [
    {
     "name": "stdout",
     "output_type": "stream",
     "text": [
      "Expected number of defective bulbs: 25.0\n"
     ]
    }
   ],
   "source": [
    "expected_defective = n * p_defective\n",
    "print(f\"Expected number of defective bulbs: {expected_defective}\")"
   ]
  },
  {
   "cell_type": "code",
   "execution_count": null,
   "metadata": {},
   "outputs": [],
   "source": []
  }
 ],
 "metadata": {
  "kernelspec": {
   "display_name": "base",
   "language": "python",
   "name": "python3"
  },
  "language_info": {
   "codemirror_mode": {
    "name": "ipython",
    "version": 3
   },
   "file_extension": ".py",
   "mimetype": "text/x-python",
   "name": "python",
   "nbconvert_exporter": "python",
   "pygments_lexer": "ipython3",
   "version": "3.9.12"
  },
  "orig_nbformat": 4
 },
 "nbformat": 4,
 "nbformat_minor": 2
}
